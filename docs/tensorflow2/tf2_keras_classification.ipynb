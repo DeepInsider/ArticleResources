{
  "nbformat": 4,
  "nbformat_minor": 0,
  "metadata": {
    "colab": {
      "name": "tf2-keras-classification.ipynb",
      "provenance": [],
      "private_outputs": true,
      "collapsed_sections": [],
      "toc_visible": true,
      "authorship_tag": "ABX9TyM1rnfKhSAfektwIGrPcEJO",
      "include_colab_link": true
    },
    "kernelspec": {
      "name": "python3",
      "display_name": "Python 3"
    }
  },
  "cells": [
    {
      "cell_type": "markdown",
      "metadata": {
        "id": "view-in-github",
        "colab_type": "text"
      },
      "source": [
        "<a href=\"https://colab.research.google.com/github/DeepInsider/ArticleResources/blob/master/docs/tensorflow2/tf2_keras_classification.ipynb\" target=\"_parent\"><img src=\"https://colab.research.google.com/assets/colab-badge.svg\" alt=\"Open In Colab\"/></a>"
      ]
    },
    {
      "cell_type": "markdown",
      "metadata": {
        "id": "xrXUPcCWRzTL",
        "colab_type": "text"
      },
      "source": [
        "##### Copyright 2020 Digital Advantage - Deep Insider."
      ]
    },
    {
      "cell_type": "code",
      "metadata": {
        "id": "EXnYORgX8UHF",
        "colab_type": "code",
        "colab": {}
      },
      "source": [
        "#@title Licensed under the Apache License, Version 2.0 (the \"License\");\n",
        "# you may not use this file except in compliance with the License.\n",
        "# You may obtain a copy of the License at\n",
        "#\n",
        "# https://www.apache.org/licenses/LICENSE-2.0\n",
        "#\n",
        "# Unless required by applicable law or agreed to in writing, software\n",
        "# distributed under the License is distributed on an \"AS IS\" BASIS,\n",
        "# WITHOUT WARRANTIES OR CONDITIONS OF ANY KIND, either express or implied.\n",
        "# See the License for the specific language governing permissions and\n",
        "# limitations under the License."
      ],
      "execution_count": 0,
      "outputs": []
    },
    {
      "cell_type": "markdown",
      "metadata": {
        "id": "UpiqfKZH8kvb",
        "colab_type": "text"
      },
      "source": [
        "# 「分類問題（全1回）」 ― 連載『TensorFlow 2.0＋Keras（ tf.keras）入門』のノートブック（4）"
      ]
    },
    {
      "cell_type": "markdown",
      "metadata": {
        "id": "eJQ94tq_8teO",
        "colab_type": "text"
      },
      "source": [
        "<table valign=\"middle\">\n",
        "  <td>\n",
        "    <a target=\"_blank\" href=\"https://www.atmarkit.co.jp/ait/subtop/features/di/tf2keras_index.html\"> <img src=\"https://re.deepinsider.jp/img/ml-logo/manabu.svg\"/>Deep Insiderで記事を読む</a>\n",
        "  </td>\n",
        "  <td>\n",
        "    <a target=\"_blank\" href=\"https://colab.research.google.com/github/DeepInsider/ArticleResources/blob/master/docs/tensorflow2/tf2_keras_classification.ipynb\"> <img src=\"https://re.deepinsider.jp/img/ml-logo/gcolab.svg\" />Google Colabで実行する</a>\n",
        "  </td>\n",
        "  <td>\n",
        "    <a target=\"_blank\" href=\"https://github.com/DeepInsider/ArticleResources/blob/master/docs/tensorflow2/tf2_keras_classification.ipynb\"> <img src=\"https://re.deepinsider.jp/img/ml-logo/github.svg\" />GitHubでソースコードを見る</a>\n",
        "  </td>\n",
        "</table>"
      ]
    },
    {
      "cell_type": "markdown",
      "metadata": {
        "id": "cNvW2O8uR6xq",
        "colab_type": "text"
      },
      "source": [
        "※上から順に実行してください。上のコードで実行したものを再利用しているところがあるため、すべて実行しないとエラーになるコードがあります。  \n",
        "　すべてのコードを一括実行したい場合は、メニューバーから［ランタイム］－［すべてのセルを実行］をクリックしてください。"
      ]
    },
    {
      "cell_type": "markdown",
      "metadata": {
        "id": "pN0BBckBSRKz",
        "colab_type": "text"
      },
      "source": [
        "※「Python 3」を利用してください。  \n",
        "　Python 3を利用するには、メニューバーから［ランタイム］－［ランタイムのタイプを変更］を選択すると表示される［ノートブックの設定］ダイアログの、［ランタイムのタイプ］欄で「Python 3」に選択し、その右下にある［保存］ボタンをクリックしてください。"
      ]
    },
    {
      "cell_type": "markdown",
      "metadata": {
        "id": "uoW15afO8xBX",
        "colab_type": "text"
      },
      "source": [
        "# 第8回　分類問題をディープラーニング（基本のDNN）で解こう"
      ]
    },
    {
      "cell_type": "markdown",
      "metadata": {
        "id": "jXt-tmpH9Lls",
        "colab_type": "text"
      },
      "source": [
        "## ■本稿の目的と方針"
      ]
    },
    {
      "cell_type": "markdown",
      "metadata": {
        "id": "PJksPiJx9Ng-",
        "colab_type": "text"
      },
      "source": [
        "ディープラーニングの基本形である「DNN（ディープニューラルネットワーク」をTensorFlow 2.xで実装する方法を示す。これにより、連載第1回～第3回ですでに身に付けたニューラルネットワーク＆ディープラーニングの知識だけでも、さまざまな機械学習が行えることを確認する。\n",
        "\n",
        "- 前提知識は、基本的なニューラルネットワークを組めること。具体的には『[TensorFlow 2＋Keras（tf.keras）入門 - ＠IT](https://www.atmarkit.co.jp/ait/subtop/features/di/tf2keras_index.html)』の第1回～第6回の知識レベルが必要\n",
        "- 今回の課題： 手書き数字（後述）の推論を、第1回～第3回のDNN知識および、第4回～第6回の書き方の知識だけで解決してみよう\n",
        "- 第1回～第3回は、これまでのSequentialモデルではなく、サブクラスモデル（Subclassing API）で実装する\n",
        "- 一般的によく使われている活性化関数／損失関数／最適化アルゴリズムを使用する（前回までは基礎的でシンプルなものを使っていた）\n",
        "- 関連として、第7回で「回帰問題を基本のDNNで解く方法」を解説している"
      ]
    },
    {
      "cell_type": "markdown",
      "metadata": {
        "id": "2poIyAQ09QrJ",
        "colab_type": "text"
      },
      "source": [
        "## ■本稿で説明する大まかな流れ"
      ]
    },
    {
      "cell_type": "markdown",
      "metadata": {
        "id": "BavKh8ej9SlG",
        "colab_type": "text"
      },
      "source": [
        "- 【多クラス分類編】\n",
        "  - （0）本ノートブックを実行するための事前準備\n",
        "  - （1）データの準備\n",
        "  - （2）モデルの定義\n",
        "  - （3）学習／最適化（オプティマイザー）\n",
        "  - （4）評価／精度検証\n",
        "  - （5）推論／未知データによるテスト\n",
        "- [【二値分類編】](#scrollTo=E4mSTkCUodUv&line=1&uniqifier=1)\n",
        "  - 上記と同様の手順から変更箇所のみ説明"
      ]
    },
    {
      "cell_type": "markdown",
      "metadata": {
        "id": "shOwZWfJoQBr",
        "colab_type": "text"
      },
      "source": [
        "# 【多クラス分類編】----------"
      ]
    },
    {
      "cell_type": "markdown",
      "metadata": {
        "id": "MnaQVymNdjfO",
        "colab_type": "text"
      },
      "source": [
        "## ■（0）本ノートブックを実行するための事前準備"
      ]
    },
    {
      "cell_type": "code",
      "metadata": {
        "id": "FP1hd8Bld-8Z",
        "colab_type": "code",
        "colab": {}
      },
      "source": [
        "# Google Colabで最新の2.xを使う場合、2.xに切り替える（Colab専用）\n",
        "%tensorflow_version 2.x"
      ],
      "execution_count": 0,
      "outputs": []
    },
    {
      "cell_type": "markdown",
      "metadata": {
        "id": "msBLuEY-eApD",
        "colab_type": "text"
      },
      "source": [
        "### ●前提条件"
      ]
    },
    {
      "cell_type": "markdown",
      "metadata": {
        "id": "VyzWSrOAqKPv",
        "colab_type": "text"
      },
      "source": [
        "### 【チェック】Pythonバージョン（※3系を使うこと）\n",
        "Colabにインストール済みのものを使う。もし2系になっている場合は、メニューバーの［ランタイム］－［ランタイムのタイプを変更］をクリックして切り替えてほしい。"
      ]
    },
    {
      "cell_type": "code",
      "metadata": {
        "id": "u4jwFijuqRRb",
        "colab_type": "code",
        "colab": {}
      },
      "source": [
        "import sys\n",
        "print('Python', sys.version)\n",
        "# Python 3.6.9 (default, Apr 18 2020, 01:56:04)   …… などと表示される"
      ],
      "execution_count": 0,
      "outputs": []
    },
    {
      "cell_type": "markdown",
      "metadata": {
        "id": "HzRCOJw6AOop",
        "colab_type": "text"
      },
      "source": [
        "### 【チェック】TensorFlowバージョン（※2系を使うこと）\n",
        "基本的にはColabにインストール済みのものを使う。もし2系になっている場合は、リスト4-0を実行してバージョン2.0を使う。"
      ]
    },
    {
      "cell_type": "code",
      "metadata": {
        "id": "kYqIF_SCAQeH",
        "colab_type": "code",
        "colab": {}
      },
      "source": [
        "import tensorflow as tf\n",
        "print('TensorFlow', tf.__version__)\n",
        "# TensorFlow 2.2.0 ……などと表示される"
      ],
      "execution_count": 0,
      "outputs": []
    },
    {
      "cell_type": "markdown",
      "metadata": {
        "id": "_sg36M_-ATxR",
        "colab_type": "text"
      },
      "source": [
        "### リスト0-1　［オプション］ライブラリ「TensorFlow」最新バージョンのインストール"
      ]
    },
    {
      "cell_type": "code",
      "metadata": {
        "id": "qJgCZ6-KAYtw",
        "colab_type": "code",
        "colab": {}
      },
      "source": [
        "# Google Colabで最新の2.xを使う場合（Colab専用）\n",
        "%tensorflow_version 2.x\n",
        "\n",
        "# 最新バージョンにアップグレードする場合\n",
        "!pip install --upgrade tensorflow\n",
        "\n",
        "# バージョンを明示してアップグレードする場合\n",
        "#!pip install --upgrade tensorflow===2.1.0\n",
        "\n",
        "# 最新バージョンをインストールする場合\n",
        "#!pip install tensorflow\n",
        "\n",
        "# バージョンを明示してインストールする場合\n",
        "#!pip install tensorflow===2.1.0"
      ],
      "execution_count": 0,
      "outputs": []
    },
    {
      "cell_type": "markdown",
      "metadata": {
        "id": "KhO5Mj7YAeAG",
        "colab_type": "text"
      },
      "source": [
        "### ［オプション］【チェック】TensorFlowバージョン（※インストール後の確認）\n",
        "バージョン2.xになっているか再度チェックする。"
      ]
    },
    {
      "cell_type": "code",
      "metadata": {
        "id": "_6eq67BTAgM_",
        "colab_type": "code",
        "colab": {}
      },
      "source": [
        "import tensorflow as tf\n",
        "print('TensorFlow', tf.__version__)\n",
        "# TensorFlow 2.2.0 ……などと表示される"
      ],
      "execution_count": 0,
      "outputs": []
    },
    {
      "cell_type": "markdown",
      "metadata": {
        "id": "vkIfaer6-RFY",
        "colab_type": "text"
      },
      "source": [
        "## ■（1）データの準備"
      ]
    },
    {
      "cell_type": "markdown",
      "metadata": {
        "id": "D99R0gok-USw",
        "colab_type": "text"
      },
      "source": [
        "ファッション商品写真の画像データセットとして「[Fashion-MNIST](https://www.atmarkit.co.jp/ait/articles/2005/28/news016.html)」を使用する。  \n",
        "![Fashion-MNISTに含まれる画像データセットの例](https://image.itmedia.co.jp/ait/articles/2005/28/l_di-01.gif)"
      ]
    },
    {
      "cell_type": "markdown",
      "metadata": {
        "id": "RfxpuUIw-bz1",
        "colab_type": "text"
      },
      "source": [
        "### リスト1-1　Fashion-MNIST（ファッション商品写真）画像データの取得"
      ]
    },
    {
      "cell_type": "code",
      "metadata": {
        "id": "zH9qg4Qt-dER",
        "colab_type": "code",
        "colab": {}
      },
      "source": [
        "# TensorFlowライブラリのtensorflowパッケージを「tf」という別名でインポート\n",
        "import tensorflow as tf\n",
        "import matplotlib.pyplot as plt  # グラフ描画ライブラリ（データ画像の表示に使用）\n",
        "import numpy as np               # 数値計算ライブラリ（データのシャッフルに使用）\n",
        "\n",
        "# Fashion-MNISTデータ（※NumPyの多次元配列型）を取得する\n",
        "(X_train, y_train), (X_test, y_test) = tf.keras.datasets.fashion_mnist.load_data()\n",
        "# データ分割は自動で、訓練用が6万枚、テスト用が1万枚（ホールドアウト法）。\n",
        "# さらにそれぞれを「入力データ（X：行列）」と「ラベル（y：ベクトル）」に分ける\n",
        "\n",
        "# ※訓練データは、学習時のfit関数で訓練用と精度検証用に分割する。\n",
        "# そのため、あらかじめ訓練データをシャッフルしておく\n",
        "p = np.random.permutation(len(X_train))    # ランダムなインデックス順の取得\n",
        "X_train, y_train = X_train[p], y_train[p]  # その順で全行を抽出する（＝シャッフル）\n",
        "\n",
        "# ［内容確認］データのうち、最初の10枚だけを表示\n",
        "classes_name = ['T-shirt/top [0]', 'Trouser [1]', 'Pullover [2]', \n",
        "                'Dress [3]', 'Coat [4]', 'Sandal [5]', 'Shirt [6]',\n",
        "                'Sneaker [7]', 'Bag [8]', 'Ankle boot [9]']\n",
        "plt.figure(figsize=(10,4))  # 横：10インチ、縦：4インチの図\n",
        "for i in range(10):\n",
        "  plt.subplot(2,5,i+1)  # 図内にある（sub）2行5列の描画領域（plot）の何番目かを指定\n",
        "  plt.xticks([])        # X軸の目盛りを表示しない\n",
        "  plt.yticks([])        # y軸の目盛りを表示しない\n",
        "  plt.grid(False)       # グリッド線を表示しない\n",
        "  plt.imshow(           # 画像を表示する\n",
        "    X_train[i],         # 1つの訓練用入力データ（28行×28列）\n",
        "    cmap=plt.cm.binary) # 白黒（2値：バイナリ）の配色\n",
        "  plt.xlabel(classes_name[y_train[i]])  # X軸のラベルに分類名を表示\n",
        "plt.show()"
      ],
      "execution_count": 0,
      "outputs": []
    },
    {
      "cell_type": "markdown",
      "metadata": {
        "id": "XYYYe5G-ibsS",
        "colab_type": "text"
      },
      "source": [
        "このコードのポイント：\n",
        "\n",
        "- Fashion-MNISTデータセットは、TensorFlowでは[`tf.keras.datasets.fashion_mnist.load_data()`関数](https://www.tensorflow.org/api_docs/python/tf/keras/datasets/fashion_mnist/load_data)で取得できる\n",
        "- `load_data()`関数の戻り値は、タプル形式で（（訓練用データ、訓練用ラベル）、（テスト用データ、テスト用ラベル））となっている（ホールドアウト法）\n",
        "- ディープラーニングではハイパーパラメーター調整のため基本的に「精度検証用データ」が必要。精度検証用への分割は、fit関数のvalidation_split引数に任せるため、ここでは行わない。それに備えてここでは、訓練データをシャッフルしている。\n",
        "- 多クラス分類の場合、通常、ラベルを「one-hotエンコーディング」と呼ばれる変換を行う必要があるが、今回は行わない（tf.kerasの機能により、内部で自動的に行うことが可能なため）"
      ]
    },
    {
      "cell_type": "markdown",
      "metadata": {
        "id": "uEbauC15bg2G",
        "colab_type": "text"
      },
      "source": [
        "### リスト1-2　1つの画像データの内容確認"
      ]
    },
    {
      "cell_type": "code",
      "metadata": {
        "id": "0abyYf_KQfJG",
        "colab_type": "code",
        "colab": {}
      },
      "source": [
        "import pandas as pd # データ解析支援「pandas」\n",
        "\n",
        "# 1件の訓練データの、ラベルと入力データを表示する\n",
        "print('y_train（正解ラベル）: 「',y_train[0],'」');\n",
        "print('X_train:');\n",
        "display(pd.DataFrame(X_train[0])) # NumPy多次元配列をPandasデータフレームに変換して表示"
      ],
      "execution_count": 0,
      "outputs": []
    },
    {
      "cell_type": "markdown",
      "metadata": {
        "id": "tL6EIWCBWQEv",
        "colab_type": "text"
      },
      "source": [
        "このコードのポイント：\n",
        "\n",
        "- 表データのサンプル出力では、文字列出力用の`print()`関数ではなく、整形描画用の`display()`関数を利用している。\n",
        "  - Colabでは、組み込みオブジェクトに含まれているため、`display()`の記述だけで[`IPython.display.display()`関数](https://ipython.readthedocs.io/en/stable/api/generated/IPython.display.html#IPython.display.display)を使える\n",
        "- データが0～255（8bitグレースケール）で表現されていることに着目。\n",
        "  - 白「0」～黒「255」の256段階（※[MNIST DATABASEファイルフォーマットの定義](http://yann.lecun.com/exdb/mnist/)に基づく）\n",
        "  - つまり画像を描画するときには、白（0）と黒（255）のカラーマップを使う必要がある（リスト1の「cmap=plt.cm.binary」がそれに該当）\n",
        "  - RBGで作るグレースケールでは0が黒で、255が白となり逆なので注意してほしい。RBGの方が分かりやすく白黒を逆転させたい場合はリスト1を「cmap=plt.cm.gray」にすればよい（RBGに沿った方が分かりやすいので、この方式を採用したチュートリアルやサンプルも多い）"
      ]
    },
    {
      "cell_type": "markdown",
      "metadata": {
        "id": "AuG5Lazmbz6u",
        "colab_type": "text"
      },
      "source": [
        "### リスト1-3　入力データの正規化（Normalization）"
      ]
    },
    {
      "cell_type": "code",
      "metadata": {
        "id": "4krO4s19qvdg",
        "colab_type": "code",
        "colab": {}
      },
      "source": [
        "X_train = (X_train / 255.0).astype(np.float32)\n",
        "X_test = (X_test / 255.0).astype(np.float32)"
      ],
      "execution_count": 0,
      "outputs": []
    },
    {
      "cell_type": "markdown",
      "metadata": {
        "id": "2sUiS6zbcGI1",
        "colab_type": "text"
      },
      "source": [
        "このコードのポイント：\n",
        "\n",
        "- 正規化（Normalization）： トレーニングデータの値が0～1などの指定範囲に収まるように、値を加工するテクニック\n",
        "- 行列データの個々の値を255で割っている。\n",
        "- リスト1-2で示したように元データは白「0」～黒「255」の256段階となっている。これを、ニューラルネットワークで処理しやすいように、白「0.0」～黒「1.0」の範囲に変換している。\n",
        "- 訓練用データセットとテスト用データセットは、同じように前処理することが重要。"
      ]
    },
    {
      "cell_type": "markdown",
      "metadata": {
        "id": "skhxL2z_-pFd",
        "colab_type": "text"
      },
      "source": [
        "## ■（2）モデルの定義"
      ]
    },
    {
      "cell_type": "markdown",
      "metadata": {
        "id": "GXKTWOsbpkEx",
        "colab_type": "text"
      },
      "source": [
        "既に何度か説明しているが、以下の通りで進めていく。\n",
        "- `tf.keras.Model`クラスを**サブクラス化**してモデルを定義する（**初中級者以上にお勧め**）\n",
        "- tf.kerasの基本である`compile()`＆`fit()`メソッドを使用する（今回はカスタムループの実装は不要なため）"
      ]
    },
    {
      "cell_type": "markdown",
      "metadata": {
        "id": "AheAnrhTpndh",
        "colab_type": "text"
      },
      "source": [
        "### ●ディープニューラルネットワークのモデル設計\n",
        "- 入力の数（`INPUT_FEATURES`）は、**28行**×**28列**（＝784）になっているので、フラット化（Flatten）して**784個**\n",
        "- 隠れ層のレイヤー数は、**2つ**\n",
        "  - 隠れ層にある1つ目のニューロンの数（`LAYER1_NEURONS`）は、**128個**\n",
        "  - 隠れ層にある2つ目のニューロンの数（`LAYER2_NEURONS`）は、**32個**\n",
        "- 出力層にあるニューロンの数（`OUTPUT_RESULTS`）は、**10個**"
      ]
    },
    {
      "cell_type": "markdown",
      "metadata": {
        "id": "7q-k3jXY-0b-",
        "colab_type": "text"
      },
      "source": [
        "### リスト2-1　モデルの定義"
      ]
    },
    {
      "cell_type": "code",
      "metadata": {
        "id": "Zb9NtcpI-3up",
        "colab_type": "code",
        "colab": {}
      },
      "source": [
        "import tensorflow as tf  # ライブラリ「TensorFlow」のtensorflowパッケージをインポート\n",
        "from tensorflow.keras import layers    # レイヤー関連モジュールのインポート\n",
        "\n",
        "# 定数（モデル定義時に必要となるもの）\n",
        "INPUT_ROWS = 28         # 入力行の数： 28行\n",
        "INPUT_COLS = 28         # 入力列の数： 28列\n",
        "                        # 入力（特徴）の数： 784（＝28行×28列）\n",
        "LAYER1_NEURONS = 128    # ニューロンの数： 128\n",
        "LAYER2_NEURONS = 32     # ニューロンの数： 32\n",
        "OUTPUT_RESULTS = 10     # 出力結果の数： 10（＝「0」～「9」の10クラスに分類）\n",
        "#OUTPUT_RESULTS = 1     # 後述する二値分類の場合： 1（＝「0.0」～「1.0」の2値に分類）\n",
        "\n",
        "# 過学習対策でドロップアウトを使う場合はコメントオフ：\n",
        "#DROPOUT1_RATE = 0.2     # 第1隠れ層から第2隠れ層へのドロップ率： 0.2（20％）\n",
        "\n",
        "# 変数（モデル定義時に必要となるもの）\n",
        "activation1 = layers.ReLU(name='activation1')  # 活性化関数（隠れ層用）： ReLU関数（変更可能）\n",
        "activation2 = layers.ReLU(name='activation2')  # 活性化関数（隠れ層用）： ReLU関数（変更可能）\n",
        "act_output = layers.Softmax(name='act_output') # 活性化関数（出力層用）： Softmax関数（固定）\n",
        "\n",
        "# tf.keras.Modelによるモデルの定義\n",
        "class NeuralNetwork(tf.keras.Model):\n",
        "\n",
        "  # レイヤー（層）を定義\n",
        "  def __init__(self):\n",
        "    super().__init__()\n",
        "\n",
        "    # 入力層：入力データのフラット化（Flatten）\n",
        "    self.flatten_input = layers.Flatten(    # 行列データのフラット化\n",
        "      input_shape=(INPUT_ROWS, INPUT_COLS), # 入力の形状（＝入力層）※タプル形式\n",
        "      name='flatten_input')\n",
        " \n",
        "    # 隠れ層：1つ目のレイヤー（layer）\n",
        "    self.layer1 = layers.Dense(       # 全結合層（線形変換）\n",
        "      # 入力ユニット数は、前の出力ユニット数が使われるので、指定不要\n",
        "      LAYER1_NEURONS,                 # 次のレイヤーへの出力ユニット数\n",
        "      name='layer1')\n",
        "\n",
        "    # 第1レイヤーの後でドロップアウトを使う場合はコメントオフ：\n",
        "    #self.dropput1 = layers.Dropout(  # ドロップアウト\n",
        "    #  DROPOUT1_RATE,                 # 何％ドロップするか\n",
        "    #  name='dropput1')\n",
        "    \n",
        "    # 隠れ層：2つ目のレイヤー（layer）\n",
        "    self.layer2 = layers.Dense(       # 全結合層\n",
        "      LAYER2_NEURONS,                 # 次のレイヤーへの出力ユニット数\n",
        "      name='layer2')\n",
        "\n",
        "    # 出力層\n",
        "    self.layer_out = layers.Dense(    # 全結合層\n",
        "      OUTPUT_RESULTS,                 # 出力結果への出力ユニット数\n",
        "      name='layer_out')\n",
        "\n",
        "  # フォワードパスを定義\n",
        "  def call(self, x, train_mode=True):\n",
        "    x = self.flatten_input(x)         # 入力データのフラット化\n",
        "\n",
        "    # 「出力＝活性化関数（第n層（入力））」の形式で記述\n",
        "    x = activation1(self.layer1(x))   # 活性化関数は変数として定義\n",
        "\n",
        "    #ドロップアウトを使う場合はコメントオフ：\n",
        "    #if train_mode:                   # 訓練時のみ……\n",
        "    #  x = self.dropput2(x)           # ……ドロップアウト（不活性化）\n",
        "\n",
        "    x = activation2(self.layer2(x))   # 活性化関数は変数として定義\n",
        "\n",
        "    x = act_output(self.layer_out(x)) # ※活性化関数は「softmax」固定\n",
        "    return x\n",
        "\n",
        "  # モデル内容の出力を行う独自メソッド\n",
        "  def get_static_model(self):\n",
        "    x = layers.Input(shape=(28,28), name='input_features')\n",
        "    static_model = tf.keras.Model(inputs=[x], outputs=self.call(x)) \n",
        "    return static_model"
      ],
      "execution_count": 0,
      "outputs": []
    },
    {
      "cell_type": "markdown",
      "metadata": {
        "id": "bBhXWrJLt2HJ",
        "colab_type": "text"
      },
      "source": [
        "このコードのポイント：\n",
        "- このコードは、「[第5回　お勧めの、TensorFlow 2.0最新の書き方入門（エキスパート向け） (1/2)：TensorFlow 2＋Keras（tf.keras）入門 - ＠IT](https://www.atmarkit.co.jp/ait/articles/2003/10/news016.html)」で説明したものとほぼ同じ書き方（サブクラス型）である\n",
        "- ニューラルネットワークモデルの定義方法は、「[第2回　ニューラルネットワーク最速入門 ― 仕組み理解×初実装（中編）：TensorFlow 2＋Keras（tf.keras）入門 - ＠IT](https://www.atmarkit.co.jp/ait/articles/1910/17/news026.html)」で説明した通り\n",
        "- 隠れ層の活性化関数は、最も一般的な[ReLU関数](https://www.atmarkit.co.jp/ait/articles/2003/11/news016.html)を使用した（前回までは基礎的なTanh関数を使っていた）\n",
        "- 過学習を防ぐために、ドロップアウト層（ドロップ率：50％）を最後に挿入した\n",
        "- 出力層の活性化関数は、多クラス分類時に一般的な[ソフトマックス関数](https://www.atmarkit.co.jp/ait/articles/2004/08/news016.html)を指定している。セットで、損失関数には多クラス用の交差エントロピーを使う（後述）\n",
        "- `get_functional_model()`メソッドは、次のリスト2-2でモデル内容を描画するために用意した独自の関数である（本来の処理には不要）"
      ]
    },
    {
      "cell_type": "markdown",
      "metadata": {
        "id": "5G9D2rzAtIxe",
        "colab_type": "text"
      },
      "source": [
        "### リスト2-2　モデル内容（図）の確認"
      ]
    },
    {
      "cell_type": "code",
      "metadata": {
        "id": "8zI98WYZtD1l",
        "colab_type": "code",
        "colab": {}
      },
      "source": [
        "# モデル（NeuralNetworkクラス）のインスタンス化\n",
        "model = NeuralNetwork()\n",
        "\n",
        "# モデル概要の図を描画する\n",
        "f_model = model.get_static_model()\n",
        "filename = 'model.png';\n",
        "tf.keras.utils.plot_model(f_model, show_shapes=True, show_layer_names=True, to_file=filename)\n",
        "from IPython.display import Image\n",
        "Image(retina=False, filename=filename) # 図で描画\n",
        "#f_model.summary()                     # テキストで出力"
      ],
      "execution_count": 0,
      "outputs": []
    },
    {
      "cell_type": "markdown",
      "metadata": {
        "id": "a_1u4ewS-83C",
        "colab_type": "text"
      },
      "source": [
        "## ■（3）学習／最適化（オプティマイザー）"
      ]
    },
    {
      "cell_type": "markdown",
      "metadata": {
        "id": "v69Ge8dD-_2B",
        "colab_type": "text"
      },
      "source": [
        "### リスト3-1　学習方法（損失関数／最適化／学習率）の定義"
      ]
    },
    {
      "cell_type": "code",
      "metadata": {
        "id": "nTb0JVIddXG4",
        "colab_type": "code",
        "colab": {}
      },
      "source": [
        "# 定数（学習方法設計時に必要となる数値）\n",
        "LOSS = 'sparse_categorical_crossentropy'  # 損失関数：多クラス分類用の交差エントロピー\n",
        "METRICS = ['accuracy']                    # 評価関数：正解率\n",
        "OPTIMIZER = tf.keras.optimizers.Adam      # 最適化：Adam\n",
        "LEARNING_RATE = 0.001                     # 学習率： 0.001（学習率の調整）\n",
        "\n",
        "# 学習方法を定義する\n",
        "model.compile(optimizer=OPTIMIZER(learning_rate=LEARNING_RATE),\n",
        "              loss=LOSS,\n",
        "              metrics=METRICS)            # 精度（分類では正解率。回帰では損失）"
      ],
      "execution_count": 0,
      "outputs": []
    },
    {
      "cell_type": "markdown",
      "metadata": {
        "id": "gm2y1LwbzKFx",
        "colab_type": "text"
      },
      "source": [
        "このコードのポイント：\n",
        "- 損失関数には、ソフトマックス活性化関数とセットになる、交差エントロピーを指定している。\n",
        "- 評価関数としては、分類の場合は来歩的に正解率（Accracy）を見る\n",
        "- 最適化アルゴリズムには、最も一般的なAdamを使用した（前回までは基礎的なSGDを使っていた）\n",
        "- 学習率は0.001に調整した"
      ]
    },
    {
      "cell_type": "markdown",
      "metadata": {
        "id": "v6w_aW7bvf7Y",
        "colab_type": "text"
      },
      "source": [
        "### リスト3-2　トレーニング（ミニバッチ学習）"
      ]
    },
    {
      "cell_type": "code",
      "metadata": {
        "id": "T9xT4uC6kR8u",
        "colab_type": "code",
        "colab": {}
      },
      "source": [
        "# 定数（ミニバッチ学習時に必要となるもの）\n",
        "BATCH_SIZE = 96   # バッチサイズ： 96\n",
        "EPOCHS = 100      # エポック数： 100\n",
        "\n",
        "# 早期終了\n",
        "#es = tf.keras.callbacks.EarlyStopping(monitor='val_loss', patience=3)\n",
        "\n",
        "# 学習する\n",
        "hist = model.fit(x=X_train,                          # 訓練用データ\n",
        "                 y=y_train,                          # 訓練用ラベル\n",
        "                 validation_split=0.2,               # 精度検証用の割合：20％\n",
        "                 batch_size=BATCH_SIZE,              # バッチサイズ\n",
        "                 epochs=EPOCHS,                      # エポック数\n",
        "                 verbose=1,                          # 実行状況表示\n",
        "                 callbacks=[                         # コールバック\n",
        "                   #es  # 早期終了（する場合はコメントアウトを解除）\n",
        "                 ])"
      ],
      "execution_count": 0,
      "outputs": []
    },
    {
      "cell_type": "markdown",
      "metadata": {
        "id": "DCV5hWGUzO5j",
        "colab_type": "text"
      },
      "source": [
        "このコードのポイント：\n",
        "- 引数`validation_split`により、訓練データを訓練用と精度検証用に分割している"
      ]
    },
    {
      "cell_type": "markdown",
      "metadata": {
        "id": "ALm6PBC90y8-",
        "colab_type": "text"
      },
      "source": [
        "## ■（4）評価／精度検証"
      ]
    },
    {
      "cell_type": "markdown",
      "metadata": {
        "id": "m3kLUoZz2xai",
        "colab_type": "text"
      },
      "source": [
        "### リスト4-1　損失値／評価関数値の推移グラフ描画"
      ]
    },
    {
      "cell_type": "code",
      "metadata": {
        "id": "kgua8FbC_cv5",
        "colab_type": "code",
        "colab": {}
      },
      "source": [
        "import matplotlib.pyplot as plt\n",
        "\n",
        "# 学習結果（損失＝交差エントロピー）のグラフを描画\n",
        "plt.figure()\n",
        "train_loss = hist.history['loss']\n",
        "valid_loss = hist.history['val_loss']\n",
        "epochs = len(train_loss)\n",
        "plt.plot(range(epochs), train_loss, marker='.', label='loss (training data)')\n",
        "plt.plot(range(epochs), valid_loss, marker='.', label='loss (validation data)')\n",
        "plt.legend(loc='best')\n",
        "plt.grid()\n",
        "plt.xlabel('epoch')\n",
        "plt.ylabel('loss (cross entropy)')\n",
        "\n",
        "# 評価関数（正解率）のグラフを描画\n",
        "plt.figure()\n",
        "train_mae = hist.history['accuracy']\n",
        "valid_mae = hist.history['val_accuracy']\n",
        "epochs = len(train_mae)\n",
        "plt.plot(range(epochs), train_mae, marker='.', label='accuracy (training data)')\n",
        "plt.plot(range(epochs), valid_mae, marker='.', label='accuracy (validation data)')\n",
        "plt.legend(loc='best')\n",
        "plt.grid()\n",
        "plt.xlabel('epoch')\n",
        "plt.ylabel('accuracy')\n",
        "\n",
        "plt.show()"
      ],
      "execution_count": 0,
      "outputs": []
    },
    {
      "cell_type": "markdown",
      "metadata": {
        "id": "KobrlOG8_gM5",
        "colab_type": "text"
      },
      "source": [
        "実行結果のポイント：\n",
        "- 訓練データでは、常に損失が下がっている\n",
        "- しかし精度検証データを見ると、4エポック目あたりから逆に損失が上がってきている\n",
        "- つまり、4エポック目で訓練データにフィットしすぎる「過学習」が発生している\n",
        "- このような過学習を発見してハイパーパラメーターをチューニングするために、訓練データと精度検証データを分離しなければならない\n",
        "  - 精度検証をテストデータで行うと、最終的な汎化性能の評価が行えなくなるため、ディープラーニングではデータは3つに分割すべきだと本連載は主張している\n",
        "  - なお、重回帰分析のような統計学の場合、ハイパーパラメーターチューニングが基本的にないため、精度検証データを用意する必要は基本的にない。あくまでディープラーニングの話"
      ]
    },
    {
      "cell_type": "markdown",
      "metadata": {
        "id": "58I9A3Wp_jMh",
        "colab_type": "text"
      },
      "source": [
        "## ■（5）推論／未知データによるテスト"
      ]
    },
    {
      "cell_type": "markdown",
      "metadata": {
        "id": "SDQ41XHM_nCt",
        "colab_type": "text"
      },
      "source": [
        "### リスト5-1　未知データによるテスト（テストデータで評価）"
      ]
    },
    {
      "cell_type": "code",
      "metadata": {
        "id": "u9Y8FYQE_pjV",
        "colab_type": "code",
        "colab": {}
      },
      "source": [
        "#BATCH_SIZE = 96   # バッチサイズ（リスト3-2で定義済み）\n",
        "\n",
        "# 未知のテストデータで学習済みモデルの汎化性能を評価\n",
        "score = model.evaluate(X_test, y_test, batch_size=BATCH_SIZE)\n",
        "print('test socre([loss, accuracy]):', score)\n",
        "\n",
        "# 出力例：\n",
        "# 105/105 [==============================] - 0s 2ms/step - loss: 0.6845 - accuracy: 0.8456\n",
        "# test socre([loss, accuracy]): [0.684512734413147, 0.8456000089645386]"
      ],
      "execution_count": 0,
      "outputs": []
    },
    {
      "cell_type": "markdown",
      "metadata": {
        "id": "2dq_U6xUBFv0",
        "colab_type": "text"
      },
      "source": [
        "### リスト5-2　推論： 写真データを仮作成"
      ]
    },
    {
      "cell_type": "code",
      "metadata": {
        "id": "CksAROp5MiA1",
        "colab_type": "code",
        "colab": {}
      },
      "source": [
        "import matplotlib.pyplot as plt  # グラフ描画ライブラリ（データ画像の表示に使用）\n",
        "#import pandas as pd # データ解析支援「pandas」\n",
        "\n",
        "temp_data = np.array([[  # 9番：アンクルブーツ\n",
        "  [  0,  0,  0,  0,  0,  0,  0,  0,  0,  0,  0,  0,  0,  3,  0,  0,  0,  0,  0,  0,  0,  0,  0,  0,  0,  0,  0,  0],\n",
        "  [  0,  0,  0,  0,  0,  0,  0,  0,  0,  0,  0,  0, 31,178,162,153,151,142,138, 65,  0,  0,  0,  0,  0,  0,  0,  0],\n",
        "  [  0,  0,  0,  0,  0,  0,  0,  0,  0,  0,  0,  0, 78,232,209,202,198,194,203,179, 97, 89, 73, 59, 47, 28,  0,  0],\n",
        "  [  0,  0,  0,  0,  0,  0,  0,  0,  0,  0,  0,  0,121,228,202,196,189,185,175,198,244,245,232,223,218,160,  4,  0],\n",
        "  [  0,  0,  0,  0,  0,  0,  0,  0,  0,  0,  0,  0,157,223,203,199,192,176,186,215,235,228,220,216,214,164,  8,  0],\n",
        "  [  0,  0,  0,  0,  0,  0,  0,  0,  0,  0,  0, 12,192,216,204,198,185,179,211,228,232,225,220,216,213,159,  6,  0],\n",
        "  [  0,  0,  0,  0,  0,  0,  0,  0,  0,  0,  0, 40,214,210,201,195,182,191,223,232,233,227,224,219,216,150,  2,  0],\n",
        "  [  0,  0,  0,  0,  0,  0,  0,  0,  0,  0,  0, 75,224,203,197,193,182,202,229,231,233,230,228,220,217,140,  0,  0],\n",
        "  [  0,  0,  0,  0,  0,  0,  0,  0,  0,  0,  0,113,228,198,188,188,187,208,229,230,234,232,230,220,215,164,  4,  0],\n",
        "  [  0,  0,  0,  0,  0,  0,  0,  0,  0,  0,  0,154,226,197,182,184,189,210,228,231,234,233,231,221,213,196, 35,  0],\n",
        "  [  0,  0,  0,  0,  0,  0,  0,  0,  0,  0, 10,190,219,193,183,184,190,210,228,232,234,233,232,223,212,211, 96,  0],\n",
        "  [  0,  0,  0,  0,  0,  0,  0,  0,  0,  0, 39,214,212,186,181,183,189,207,225,230,232,233,232,223,212,208,151,  2],\n",
        "  [  0,  0,  0,  0,  0,  0,  0,  0,  0,  0, 80,227,208,185,179,183,192,205,210,222,229,229,231,225,214,204,177, 21],\n",
        "  [  0,  0,  0,  0,  0,  0,  0,  0,  0,  0,122,229,206,185,180,184,192,196,192,215,226,232,234,226,215,205,177, 24],\n",
        "  [  0,  0,  0,  0,  0,  0,  0,  0,  0,  3,169,225,208,188,180,189,187,180,170,218,235,234,224,217,212,210,160, 10],\n",
        "  [  0,  0,  0,  0,  0,  0,  0,  0,  0, 38,212,220,206,179,179,190,186,173,182,229,229,220,213,211,210,207, 84,  0],\n",
        "  [  0,  0,  0,  0,  0,  0,  0,  0,  0,101,229,216,197,177,188,191,180,187,219,222,214,218,216,211,212,177, 19,  0],\n",
        "  [  0,  0,  0,  0,  0,  0,  0,  0,  5,174,226,211,190,179,189,191,189,215,217,213,216,167,174,211,210,131,  0,  0],\n",
        "  [  0,  0,  0,  0,  0,  0,  0,  0, 62,221,218,203,183,179,185,198,214,214,214,214, 96,  2, 25,198,214, 79,  0,  0],\n",
        "  [  0,  0,  0,  0,  0,  0,  0, 11,166,225,211,192,177,184,203,216,216,212,212, 69,  0,  0, 14,190,204, 34,  0,  0],\n",
        "  [  0,  0,  0,  0,  0,  0, 22,127,219,219,206,187,178,198,223,221,212,219, 86,  0,  0,  0, 11,190,181,  9,  0,  0],\n",
        "  [  0,  0,  0,  2, 33, 92,165,204,211,208,191,185,201,220,228,220,224,134,  0,  0,  0,  0, 14,198,157,  0,  0,  0],\n",
        "  [  0, 21,102,160,192,212,214,199,193,193,182,199,220,226,224,219,202, 26,  0,  0,  0,  0, 16,205,137,  0,  0,  0],\n",
        "  [ 44,193,227,222,217,212,205,190,183,186,198,225,230,228,218,224,111,  0,  0,  0,  0,  0, 17,209,122,  0,  0,  0],\n",
        "  [109,230,213,208,205,205,204,198,196,205,215,227,229,225,221,205, 24,  0,  0,  0,  0,  0, 15,208,113,  0,  0,  0],\n",
        "  [ 25,103,159,193,213,218,215,215,213,213,215,217,220,225,229, 97,  0,  3,  3,  3,  2,  0, 25,225,114,  0,  1,  0],\n",
        "  [  0,  0,  7, 44,100,150,177,192,203,209,212,215,216,198,110, 17, 15, 12, 10,  9,  8,  4, 30,153, 77,  1,  1,  1],\n",
        "  [  0,  0,  0,  0,  0,  0,  5, 15, 23, 31, 35, 37, 34, 17,  2,  4,  2,  1,  1,  1,  1,  1,  0,  0,  0,  0,  0,  0]\n",
        "  ]], dtype=float)\n",
        "\n",
        "print(temp_data.shape) # 多次元配列の形状： (1, 28, 28)\n",
        "\n",
        "# 図を描画\n",
        "plt.imshow(           # 画像を表示する\n",
        "  temp_data[0],        # 1つの訓練用入力データ（28行×28列）\n",
        "  cmap=plt.cm.binary) # 白黒（2値：バイナリ）の配色\n",
        "plt.xlabel('Ankle boot')  # X軸のラベルに分類名を表示\n",
        "plt.show()\n",
        "#display(pd.DataFrame(temp_data[0])) # 表形式で表示する場合"
      ],
      "execution_count": 0,
      "outputs": []
    },
    {
      "cell_type": "markdown",
      "metadata": {
        "id": "0pSRm35OZSN8",
        "colab_type": "text"
      },
      "source": [
        "### リスト5-3　推論： 仮データを入力した場合の予測結果値の取得"
      ]
    },
    {
      "cell_type": "code",
      "metadata": {
        "id": "53eKDTTbknMB",
        "colab_type": "code",
        "colab": {}
      },
      "source": [
        "import matplotlib.pyplot as plt  # グラフ描画ライブラリ（データ画像の表示に使用）\n",
        "\n",
        "# 推論（予測）する\n",
        "predictions = model.predict(temp_data)\n",
        "\n",
        "print(predictions)\n",
        "# 以下のように出力される（インデックス番号「9」が99.88％）\n",
        "# array([[1.50212283e-20, 1.48110773e-15, 1.04932664e-13, 2.96827862e-12,\n",
        "#         6.80513210e-08, 5.95744408e-04, 1.75191891e-18, 6.33274554e-04,\n",
        "#         6.95163068e-12, 9.98770893e-01]], dtype=float32)\n",
        "\n",
        "# 数値が最大のインデックス番号を取得（＝分類を決定する）\n",
        "pred_class = np.argmax(predictions, axis=-1)\n",
        "print(pred_class) # 9 （＝Ankle boot）……などと表示される"
      ],
      "execution_count": 0,
      "outputs": []
    },
    {
      "cell_type": "markdown",
      "metadata": {
        "id": "sRkeBH5YZYOn",
        "colab_type": "text"
      },
      "source": [
        "### リスト5-4　推論： 予測結果を棒グラフで描画"
      ]
    },
    {
      "cell_type": "code",
      "metadata": {
        "id": "ax3RYQTkSbAY",
        "colab_type": "code",
        "colab": {}
      },
      "source": [
        "x = range(10)  # 9, 8, 7, ……, 0\n",
        "thisplot = plt.barh(x, predictions[0])\n",
        "plt.xlim([0.0, 1.0]) \n",
        "classes_name = ['T-shirt/top [0]', 'Trouser [1]', 'Pullover [2]', \n",
        "                'Dress [3]', 'Coat [4]', 'Sandal [5]', 'Shirt [6]',\n",
        "                'Sneaker [7]', 'Bag [8]', 'Ankle boot [9]']\n",
        "plt.yticks(x, classes_name)  # X軸のラベル\n",
        "plt.gca().invert_yaxis()\n",
        "plt.show()"
      ],
      "execution_count": 0,
      "outputs": []
    },
    {
      "cell_type": "markdown",
      "metadata": {
        "id": "wWmlUxrWBYSv",
        "colab_type": "text"
      },
      "source": [
        "実行結果のポイント：\n",
        "- Ankle boot（クラスインデックス：9）が100％となっている"
      ]
    },
    {
      "cell_type": "markdown",
      "metadata": {
        "id": "E4mSTkCUodUv",
        "colab_type": "text"
      },
      "source": [
        "# 【二値分類編】----------"
      ]
    },
    {
      "cell_type": "markdown",
      "metadata": {
        "id": "nfnv7_TDB1yW",
        "colab_type": "text"
      },
      "source": [
        "- 上記と同様の手順から変更箇所のみ説明"
      ]
    },
    {
      "cell_type": "markdown",
      "metadata": {
        "id": "5TbNQuOvjG9P",
        "colab_type": "text"
      },
      "source": [
        "## ■（6）データの準備"
      ]
    },
    {
      "cell_type": "markdown",
      "metadata": {
        "id": "SyW76DVAjbMq",
        "colab_type": "text"
      },
      "source": [
        "手書き文字の画像データセットとして「[MNIST](https://www.atmarkit.co.jp/ait/articles/2001/22/news012.html)」を使用する。  \n",
        "![MNISTに含まれる画像データセットの例](https://image.itmedia.co.jp/ait/articles/2001/22/l_di-01.gif)"
      ]
    },
    {
      "cell_type": "markdown",
      "metadata": {
        "id": "YzHh04uejxZ2",
        "colab_type": "text"
      },
      "source": [
        "### リスト6-1　MNIST（手書き文字）画像データの取得"
      ]
    },
    {
      "cell_type": "code",
      "metadata": {
        "id": "aLAzOY38j0XP",
        "colab_type": "code",
        "colab": {}
      },
      "source": [
        "# TensorFlowライブラリのtensorflowパッケージを「tf」という別名でインポート\n",
        "import tensorflow as tf\n",
        "import matplotlib.pyplot as plt  # グラフ描画ライブラリ（データ画像の表示に使用）\n",
        "import numpy as np               # 数値計算ライブラリ（データのシャッフルに使用）\n",
        "\n",
        "# Fashion-MNISTデータ（※NumPyの多次元配列型）を取得する\n",
        "(X_train, y_train), (X_test, y_test) = tf.keras.datasets.mnist.load_data()\n",
        "# データ分割は自動で、訓練用が6万枚、テスト用が1万枚（ホールドアウト法）。\n",
        "# さらにそれぞれを「入力データ（X：行列）」と「ラベル（y：ベクトル）」に分ける\n",
        "\n",
        "# データのフィルタリング\n",
        "b = np.where(y_train < 2)[0]  # 訓練データから「0」「1」の全インデックスの取得\n",
        "X_train, y_train = X_train[b], y_train[b]  # そのインデックス行を抽出（＝フィルタリング）\n",
        "c = np.where(y_test < 2)[0]   # テストデータから「0」「1」の全インデックスの取得\n",
        "X_test, y_test = X_test[c], y_test[c]      # そのインデックス行を抽出（＝フィルタリング）\n",
        "\n",
        "# ※訓練データは、学習時のfit関数で訓練用と精度検証用に分割する。\n",
        "# そのため、あらかじめ訓練データをシャッフルしておく\n",
        "p = np.random.permutation(len(X_train))    # ランダムなインデックス順の取得\n",
        "X_train, y_train = X_train[p], y_train[p]  # その順で全行を抽出する（＝シャッフル）\n",
        "\n",
        "# ［内容確認］データのうち、最初の10枚だけを表示\n",
        "classes_name = ['0', '1', '2', '3', '4', '5', '6', '7', '8', '9']\n",
        "plt.figure(figsize=(10,4))  # 横：10インチ、縦：4インチの図\n",
        "for i in range(10):\n",
        "  plt.subplot(2,5,i+1)  # 図内にある（sub）2行5列の描画領域（plot）の何番目かを指定\n",
        "  plt.xticks([])        # X軸の目盛りを表示しない\n",
        "  plt.yticks([])        # y軸の目盛りを表示しない\n",
        "  plt.grid(False)       # グリッド線を表示しない\n",
        "  plt.imshow(           # 画像を表示する\n",
        "    X_train[i],         # 1つの訓練用入力データ（28行×28列）\n",
        "    cmap=plt.cm.binary) # 白黒（2値：バイナリ）の配色\n",
        "  plt.xlabel(classes_name[y_train[i]])  # X軸のラベルに分類名を表示\n",
        "plt.show()"
      ],
      "execution_count": 0,
      "outputs": []
    },
    {
      "cell_type": "markdown",
      "metadata": {
        "id": "NwFpmu25oLC8",
        "colab_type": "text"
      },
      "source": [
        "このコードのポイント：\n",
        "- `fashion_mnist.load_data()`を`mnist.load_data()`に変更\n",
        "- MNISTデータセットは、TensorFlowでは[`tf.keras.datasets.mnist.load_data()`関数](https://www.tensorflow.org/api_docs/python/tf/keras/datasets/mnist/load_data)で取得できる\n",
        "- `np.where()`関数を使って「0」と「1」の2値のみにフィルタリングをしている（それ以外の「2」～「9」は使わない）"
      ]
    },
    {
      "cell_type": "markdown",
      "metadata": {
        "id": "EDiyPWVToexp",
        "colab_type": "text"
      },
      "source": [
        "### リスト6-2　1つの画像データの内容確認"
      ]
    },
    {
      "cell_type": "code",
      "metadata": {
        "id": "1X63SGvWogmM",
        "colab_type": "code",
        "colab": {}
      },
      "source": [
        "import pandas as pd # データ解析支援「pandas」\n",
        "\n",
        "# 1件の訓練データの、ラベルと入力データを表示する\n",
        "print('y_train（正解ラベル）: 「',y_train[0],'」');\n",
        "print('X_train:');\n",
        "display(pd.DataFrame(X_train[0])) # NumPy多次元配列をPandasデータフレームに変換して表示"
      ],
      "execution_count": 0,
      "outputs": []
    },
    {
      "cell_type": "markdown",
      "metadata": {
        "id": "lKOr0plroria",
        "colab_type": "text"
      },
      "source": [
        "このコードのポイント：\n",
        "- リスト1-2と全く同じです"
      ]
    },
    {
      "cell_type": "markdown",
      "metadata": {
        "id": "Hl1laWgKoxtw",
        "colab_type": "text"
      },
      "source": [
        "### リスト6-3　入力データの正規化（Normalization）"
      ]
    },
    {
      "cell_type": "code",
      "metadata": {
        "id": "y8Y6ntTroz4Y",
        "colab_type": "code",
        "colab": {}
      },
      "source": [
        "X_train = (X_train / 255.0).astype(np.float32)\n",
        "X_test = (X_test / 255.0).astype(np.float32)"
      ],
      "execution_count": 0,
      "outputs": []
    },
    {
      "cell_type": "markdown",
      "metadata": {
        "id": "jHT-wX_uo20c",
        "colab_type": "text"
      },
      "source": [
        "このコードのポイント：\n",
        "- リスト1-3と全く同じです"
      ]
    },
    {
      "cell_type": "markdown",
      "metadata": {
        "id": "fGlmY3Xto8dV",
        "colab_type": "text"
      },
      "source": [
        "## ■（7）モデルの定義"
      ]
    },
    {
      "cell_type": "markdown",
      "metadata": {
        "id": "uNLS8alkpAga",
        "colab_type": "text"
      },
      "source": [
        "以下の通りで進めていく。\n",
        "- `tf.keras.Model`クラスを**サブクラス化**してモデルを定義する（**初中級者以上にお勧め**）\n",
        "- tf.kerasの基本である`compile()`＆`fit()`メソッドを使用する（今回はカスタムループの実装は不要なため）\n"
      ]
    },
    {
      "cell_type": "markdown",
      "metadata": {
        "id": "us19IpfbpDWd",
        "colab_type": "text"
      },
      "source": [
        "### ●ディープニューラルネットワークのモデル設計"
      ]
    },
    {
      "cell_type": "markdown",
      "metadata": {
        "id": "XdOPH6NspFIg",
        "colab_type": "text"
      },
      "source": [
        "- 入力の数（`INPUT_FEATURES`）は、**28行**×**28列**（＝784）になっているので、フラット化（Flatten）して**784個**\n",
        "- 隠れ層のレイヤー数は、**2つ**\n",
        "  - 隠れ層にある1つ目のニューロンの数（`LAYER1_NEURONS`）は、**128個**\n",
        "  - 隠れ層にある2つ目のニューロンの数（`LAYER2_NEURONS`）は、**32個**\n",
        "- 出力層にあるニューロンの数（`OUTPUT_RESULTS`）は、**1個**（0～1の数値1個で判定できるため、2クラスにする必要はない）"
      ]
    },
    {
      "cell_type": "markdown",
      "metadata": {
        "id": "lVgarGgMpUk6",
        "colab_type": "text"
      },
      "source": [
        "### リスト7-1　モデルの定義"
      ]
    },
    {
      "cell_type": "code",
      "metadata": {
        "id": "UzSW_7a3pXnQ",
        "colab_type": "code",
        "colab": {}
      },
      "source": [
        "import tensorflow as tf  # ライブラリ「TensorFlow」のtensorflowパッケージをインポート\n",
        "from tensorflow.keras import layers    # レイヤー関連モジュールのインポート\n",
        "from IPython.display import Image\n",
        "\n",
        "# 定数（モデル定義時に必要となるもの）\n",
        "INPUT_ROWS = 28         # 入力行の数： 28行\n",
        "INPUT_COLS = 28         # 入力列の数： 28列\n",
        "                        # 入力（特徴）の数： 784（＝28行×28列）\n",
        "LAYER1_NEURONS = 128    # ニューロンの数： 128\n",
        "LAYER2_NEURONS = 32     # ニューロンの数： 32\n",
        "#OUTPUT_RESULTS = 10    # 前述する多クラス分類の場合： 10（＝「0」～「9」の10クラスに分類）\n",
        "OUTPUT_RESULTS = 1      # 出力結果の数： 1（＝「0.0」～「1.0」の2値に分類）\n",
        "\n",
        "# 過学習対策でドロップアウトを使う場合はコメントオフ：\n",
        "#DROPOUT1_RATE = 0.2     # 第1隠れ層から第2隠れ層へのドロップ率： 0.2（20％）\n",
        "\n",
        "# 変数（モデル定義時に必要となるもの）\n",
        "activation1 = layers.ReLU(name='activation1')  # 活性化関数（隠れ層用）： ReLU関数（変更可能）\n",
        "activation2 = layers.ReLU(name='activation2')  # 活性化関数（隠れ層用）： ReLU関数（変更可能）\n",
        "act_output = layers.Activation('sigmoid', name='act_output') # 活性化関数（出力層用）： Sigmoid関数（固定）\n",
        "\n",
        "# tf.keras.Modelによるモデルの定義\n",
        "class NeuralNetwork(tf.keras.Model):\n",
        "\n",
        "  # レイヤー（層）を定義\n",
        "  def __init__(self):\n",
        "    super(NeuralNetwork, self).__init__()\n",
        "\n",
        "    # 入力層：入力データのフラット化（Flatten）\n",
        "    self.flatten_input = layers.Flatten(    # 行列データのフラット化\n",
        "      input_shape=(INPUT_ROWS, INPUT_COLS), # 入力の形状（＝入力層）※タプル形式\n",
        "      name='flatten_input')\n",
        " \n",
        "    # 隠れ層：1つ目のレイヤー（layer）\n",
        "    self.layer1 = layers.Dense(       # 全結合層（線形変換）\n",
        "      # 入力ユニット数は、前の出力ユニット数が使われるので、指定不要\n",
        "      LAYER1_NEURONS,                 # 次のレイヤーへの出力ユニット数\n",
        "      name='layer1')\n",
        "\n",
        "    # 第1レイヤーの後でドロップアウトを使う場合はコメントオフ：\n",
        "    #self.dropput1 = layers.Dropout(  # ドロップアウト\n",
        "    #  DROPOUT1_RATE,                 # 何％ドロップするか\n",
        "    #  name='dropput1')\n",
        "    \n",
        "    # 隠れ層：2つ目のレイヤー（layer）\n",
        "    self.layer2 = layers.Dense(       # 全結合層\n",
        "      LAYER2_NEURONS,                 # 次のレイヤーへの出力ユニット数\n",
        "      name='layer2')\n",
        "\n",
        "    # 出力層\n",
        "    self.layer_out = layers.Dense(    # 全結合層\n",
        "      OUTPUT_RESULTS,                 # 出力結果への出力ユニット数\n",
        "      name='layer_out')\n",
        "\n",
        "  # フォワードパスを定義\n",
        "  def call(self, x, train_mode=True):\n",
        "    x = self.flatten_input(x)         # 入力データのフラット化\n",
        "\n",
        "    # 「出力＝活性化関数（第n層（入力））」の形式で記述\n",
        "    x = activation1(self.layer1(x))   # 活性化関数は変数として定義\n",
        "\n",
        "    #ドロップアウトを使う場合はコメントオフ：\n",
        "    #if train_mode:                   # 訓練時のみ……\n",
        "    #  x = self.dropput2(x)           # ……ドロップアウト（不活性化）\n",
        "\n",
        "    x = activation2(self.layer2(x))   # 活性化関数は変数として定義\n",
        "\n",
        "    x = act_output(self.layer_out(x)) # ※活性化関数は「softmax」固定\n",
        "    return x\n",
        "\n",
        "  # モデル内容の出力を行う独自メソッド\n",
        "  def get_static_model(self):\n",
        "    x = layers.Input(shape=(28,28), name='input_features')\n",
        "    static_model = tf.keras.Model(inputs=[x], outputs=self.call(x)) \n",
        "    return static_model"
      ],
      "execution_count": 0,
      "outputs": []
    },
    {
      "cell_type": "markdown",
      "metadata": {
        "id": "LqJlpoPZpo2S",
        "colab_type": "text"
      },
      "source": [
        "このコードのポイント：\n",
        "- 出力層のニューロン数が10個から1個に変わりました\n",
        "- 出力層の活性化関数は、二値分類時に一般的な[シグモイド関数](https://www.atmarkit.co.jp/ait/articles/2003/04/news021.html)を指定している（※先ほどの多クラス分類ではソフトマックス関数だった）。セットで、損失関数には二値分類用の交差エントロピーを使う（後述）\n"
      ]
    },
    {
      "cell_type": "markdown",
      "metadata": {
        "id": "kB5JrcxKqJcp",
        "colab_type": "text"
      },
      "source": [
        "### リスト7-2　モデル内容（図）の確認"
      ]
    },
    {
      "cell_type": "code",
      "metadata": {
        "id": "h97kx2nIqLw_",
        "colab_type": "code",
        "colab": {}
      },
      "source": [
        "# モデル（NeuralNetworkクラス）のインスタンス化\n",
        "model = NeuralNetwork()\n",
        "\n",
        "# モデル概要の図を描画する\n",
        "f_model = model.get_static_model()\n",
        "filename = 'model.png';\n",
        "tf.keras.utils.plot_model(f_model, show_shapes=True, show_layer_names=True, to_file=filename)\n",
        "from IPython.display import Image\n",
        "Image(retina=False, filename=filename) # 図で描画\n",
        "#f_model.summary()                     # テキストで出力"
      ],
      "execution_count": 0,
      "outputs": []
    },
    {
      "cell_type": "markdown",
      "metadata": {
        "id": "8Kygw2Cfq9AW",
        "colab_type": "text"
      },
      "source": [
        "## ■（8）学習／最適化（オプティマイザー）"
      ]
    },
    {
      "cell_type": "markdown",
      "metadata": {
        "id": "95F1Mbieq_93",
        "colab_type": "text"
      },
      "source": [
        "### リスト8-1　学習方法（損失関数／最適化／学習率）の定義"
      ]
    },
    {
      "cell_type": "code",
      "metadata": {
        "id": "QQ--p2-9rBkH",
        "colab_type": "code",
        "colab": {}
      },
      "source": [
        "# 定数（学習方法設計時に必要となる数値）\n",
        "LOSS = 'binary_crossentropy'  # 損失関数：多クラス分類用の交差エントロピー\n",
        "METRICS = ['accuracy']                    # 評価関数：正解率\n",
        "OPTIMIZER = tf.keras.optimizers.Adam      # 最適化：Adam\n",
        "LEARNING_RATE = 0.001                     # 学習率： 0.001（学習率の調整）\n",
        "\n",
        "# 学習方法を定義する\n",
        "model.compile(optimizer=OPTIMIZER(learning_rate=LEARNING_RATE),\n",
        "              loss=LOSS,\n",
        "              metrics=METRICS)            # 精度（分類では正解率。回帰では損失）"
      ],
      "execution_count": 0,
      "outputs": []
    },
    {
      "cell_type": "markdown",
      "metadata": {
        "id": "m1UnY8zprLic",
        "colab_type": "text"
      },
      "source": [
        "このコードのポイント：\n",
        "- 損失関数には、シグモイド活性化関数とセットになる、二値用の交差エントロピー（binary_crossentropy）を指定している\n",
        "  - 多クラス分類用は（sparse_categorical_crossentropyもしくはcategorical_crossentropy）だった"
      ]
    },
    {
      "cell_type": "markdown",
      "metadata": {
        "id": "nmMqwbkwrlMU",
        "colab_type": "text"
      },
      "source": [
        "### リスト8-2　トレーニング（ミニバッチ学習）"
      ]
    },
    {
      "cell_type": "code",
      "metadata": {
        "id": "ox6_iuthroxL",
        "colab_type": "code",
        "colab": {}
      },
      "source": [
        "# 定数（ミニバッチ学習時に必要となるもの）\n",
        "BATCH_SIZE = 96   # バッチサイズ： 96\n",
        "EPOCHS = 100      # エポック数： 100\n",
        "\n",
        "# 早期終了\n",
        "#es = tf.keras.callbacks.EarlyStopping(monitor='val_loss', patience=3)\n",
        "\n",
        "# 学習する\n",
        "hist = model.fit(x=X_train,                          # 訓練用データ\n",
        "                 y=y_train,                          # 訓練用ラベル\n",
        "                 validation_split=0.2,               # 精度検証用の割合：20％\n",
        "                 batch_size=BATCH_SIZE,              # バッチサイズ\n",
        "                 epochs=EPOCHS,                      # エポック数\n",
        "                 verbose=1,                          # 実行状況表示\n",
        "                 callbacks=[])                       # コールバック（早期終了しない場合）\n",
        "                 #callbacks=[es])                    # コールバック（早期終了する場合）"
      ],
      "execution_count": 0,
      "outputs": []
    },
    {
      "cell_type": "markdown",
      "metadata": {
        "id": "HwOOv1U0r1nR",
        "colab_type": "text"
      },
      "source": [
        "このコードのポイント：\n",
        "- リスト3-2と全く同じです"
      ]
    },
    {
      "cell_type": "markdown",
      "metadata": {
        "id": "N3b2xrSGr7kB",
        "colab_type": "text"
      },
      "source": [
        "## ■（9）評価／精度検証"
      ]
    },
    {
      "cell_type": "markdown",
      "metadata": {
        "id": "Uxt4ZcMTsAwU",
        "colab_type": "text"
      },
      "source": [
        "### リスト9-1　損失値／評価関数値の推移グラフ描画"
      ]
    },
    {
      "cell_type": "code",
      "metadata": {
        "id": "VR-QEbvLsC1D",
        "colab_type": "code",
        "colab": {}
      },
      "source": [
        "import matplotlib.pyplot as plt\n",
        "\n",
        "# 学習結果（損失＝交差エントロピー）のグラフを描画\n",
        "plt.figure()\n",
        "train_loss = hist.history['loss']\n",
        "valid_loss = hist.history['val_loss']\n",
        "epochs = len(train_loss)\n",
        "plt.plot(range(epochs), train_loss, marker='.', label='loss (training data)')\n",
        "plt.plot(range(epochs), valid_loss, marker='.', label='loss (validation data)')\n",
        "plt.legend(loc='best')\n",
        "plt.grid()\n",
        "plt.xlabel('epoch')\n",
        "plt.ylabel('loss (cross entropy)')\n",
        "\n",
        "# 評価関数（正解率）のグラフを描画\n",
        "plt.figure()\n",
        "train_mae = hist.history['accuracy']\n",
        "valid_mae = hist.history['val_accuracy']\n",
        "epochs = len(train_mae)\n",
        "plt.plot(range(epochs), train_mae, marker='.', label='accuracy (training data)')\n",
        "plt.plot(range(epochs), valid_mae, marker='.', label='accuracy (validation data)')\n",
        "plt.legend(loc='best')\n",
        "plt.grid()\n",
        "plt.xlabel('epoch')\n",
        "plt.ylabel('accuracy')\n",
        "\n",
        "plt.show()"
      ],
      "execution_count": 0,
      "outputs": []
    },
    {
      "cell_type": "markdown",
      "metadata": {
        "id": "O44PS_0GsF3p",
        "colab_type": "text"
      },
      "source": [
        "このコードのポイント：\n",
        "- リスト4-1と全く同じです\n",
        "- かなり早い段階で過学習となっている"
      ]
    },
    {
      "cell_type": "markdown",
      "metadata": {
        "id": "SaMt7FjFsY1f",
        "colab_type": "text"
      },
      "source": [
        "## ■（10）推論／未知データによるテスト"
      ]
    },
    {
      "cell_type": "markdown",
      "metadata": {
        "id": "JAa2tVcIsb3I",
        "colab_type": "text"
      },
      "source": [
        "### リスト10-1　未知データによるテスト（テストデータで評価）"
      ]
    },
    {
      "cell_type": "code",
      "metadata": {
        "id": "z2XuQ6DNseJd",
        "colab_type": "code",
        "colab": {}
      },
      "source": [
        "#BATCH_SIZE = 96   # バッチサイズ（リスト3-2で定義済み）\n",
        "\n",
        "# 未知のテストデータで学習済みモデルの汎化性能を評価\n",
        "score = model.evaluate(X_test, y_test, batch_size=BATCH_SIZE)\n",
        "print('test socre([loss, accuracy]):', score)\n",
        "\n",
        "# 出力例：\n",
        "# 23/23 [==============================] - 0s 2ms/step - loss: 0.0030 - accuracy: 0.9995\n",
        "# test socre([loss, accuracy]): [0.002963468199595809, 0.9995272159576416]"
      ],
      "execution_count": 0,
      "outputs": []
    },
    {
      "cell_type": "markdown",
      "metadata": {
        "id": "cezhc9cksnY6",
        "colab_type": "text"
      },
      "source": [
        "このコードのポイント：\n",
        "- リスト5-1と全く同じです"
      ]
    },
    {
      "cell_type": "markdown",
      "metadata": {
        "id": "xFUoUH6tsvnd",
        "colab_type": "text"
      },
      "source": [
        "### リスト10-2　推論： 手書き文字データを自作"
      ]
    },
    {
      "cell_type": "code",
      "metadata": {
        "id": "iQK-fu92tmpA",
        "colab_type": "code",
        "cellView": "form",
        "colab": {}
      },
      "source": [
        "#@title 「0」か「1」を手書きしてください。\n",
        "# This code will be hidden when the notebook is loaded.\n",
        "\n",
        "from IPython.core.display import HTML\n",
        "from IPython.display import Image\n",
        "from PIL import Image\n",
        "from io import BytesIO\n",
        "import base64\n",
        "import numpy as np\n",
        "import matplotlib.pyplot as plt\n",
        "import google.colab.output\n",
        "\n",
        "temp_data = np.zeros((1, 28, 28))\n",
        "\n",
        "def Base64image(encoded):\n",
        "  print(encoded)\n",
        "  binary = base64.b64decode(encoded.split(',')[1])\n",
        "  im224 = Image.open(BytesIO(binary))\n",
        "  im28 = im224.resize(\n",
        "      (28, 28),\n",
        "      Image.BICUBIC).convert('L') # L＝ 8ビット白黒\n",
        "  global temp_data\n",
        "  temp_data = np.array(im28).reshape((1, 28, 28)) # 多次元配列の形状\n",
        "  for i in range(28):\n",
        "    for j in range(28):\n",
        "      temp_data[0, i, j] = 255 - temp_data[0, i, j] #「白＝0」～「黒＝1」に変換\n",
        "  \n",
        "google.colab.output.register_callback('Base64image', Base64image)\n",
        "\n",
        "HTML('''\n",
        "<canvas id=\"myCanvas\" width=\"224\" height=\"224\" style=\"border:1px solid #d3d3d3;\">\n",
        "お使いのブラウザーではHTML canvasをサポートしていないようです。\n",
        "</canvas>\n",
        "<p>\n",
        "  <button id=\"clear\">削除</button>\n",
        "  <button id=\"submit\">このデータを保存</button>\n",
        "  <span id=\"infobar\"></span>\n",
        "</p>\n",
        "<script>\n",
        "\n",
        "// Colabノートブックのカーネルオブジェクト\n",
        "//var kernel = IPython.notebook.kernel;\n",
        "\n",
        "// Canvas描画領域\n",
        "var canvas = document.getElementById(\"myCanvas\");\n",
        "var ctx = canvas.getContext(\"2d\");\n",
        "ctx.strokeStyle = \"#000\";\n",
        "ctx.lineJoin = \"round\";\n",
        "ctx.lineWidth = 15;\n",
        "ctx.fillStyle = \"#FFF\";\n",
        "ctx.fillRect(0, 0, canvas.width, canvas.height);\n",
        "\n",
        "// メッセージ表示領域\n",
        "var infobar = document.getElementById(\"infobar\");\n",
        "\n",
        "// ［削除］ボタン\n",
        "var clearbtn = document.getElementById(\"clear\");\n",
        "clearbtn.addEventListener(\"click\", function(){\n",
        "  ctx.clearRect(0, 0, canvas.width, canvas.height);\n",
        "  ctx.fillStyle = \"#FFF\";\n",
        "  ctx.fillRect(0, 0, canvas.width, canvas.height);\n",
        "  infobar.textContent = \"\";\n",
        "});\n",
        "\n",
        "// ［このデータを保存］ボタン\n",
        "var submitbtn = document.getElementById(\"submit\");\n",
        "submitbtn.addEventListener(\"click\", function(){\n",
        "  var base64image = canvas.toDataURL('image/jpeg', 1.0);\n",
        "  google.colab.kernel.invokeFunction('Base64image', [base64image])\n",
        "  infobar.textContent = \"保存しました！\";\n",
        "});\n",
        "\n",
        "// マウスカーソルを管理\n",
        "var mouse = {x: 0, y: 0};\n",
        "\n",
        "// マウスカーソルを描画する\n",
        "var onPaint = function() {\n",
        "  ctx.lineTo(mouse.x, mouse.y);\n",
        "  ctx.stroke();\n",
        "};\n",
        "\n",
        "// マウスの移動を捕捉する\n",
        "canvas.addEventListener('mousemove', function(e) {\n",
        "  var rect = e.target.getBoundingClientRect();\n",
        "  mouse.x = e.clientX - rect.left - 1;\n",
        "  mouse.y = e.clientY - rect.top - 1;\n",
        "}, false);\n",
        "\n",
        "\n",
        "// マウスボタンが押し下げられたら描画を開始させる\n",
        "canvas.addEventListener('mousedown', function(e) {\n",
        "  ctx.moveTo(mouse.x, mouse.y);\n",
        "  ctx.beginPath();\n",
        "  canvas.addEventListener('mousemove', onPaint, false);\n",
        "}, false);\n",
        "\n",
        "// マウスボタンが離されたら描画を終了させる\n",
        "canvas.addEventListener('mouseup', function() {\n",
        "  canvas.removeEventListener('mousemove', onPaint, false);\n",
        "}, false);\n",
        "\n",
        "</script>\n",
        "''')"
      ],
      "execution_count": 0,
      "outputs": []
    },
    {
      "cell_type": "markdown",
      "metadata": {
        "id": "yXIn-20ecTQM",
        "colab_type": "text"
      },
      "source": [
        "### リスト10-3　推論： 自作データ内容の表示"
      ]
    },
    {
      "cell_type": "code",
      "metadata": {
        "id": "NpKDiOh6sw82",
        "colab_type": "code",
        "colab": {}
      },
      "source": [
        "import matplotlib.pyplot as plt  # グラフ描画ライブラリ（データ画像の表示に使用）\n",
        "#import pandas as pd # データ解析支援「pandas」\n",
        "\n",
        "print(temp_data.shape) # 多次元配列の形状： (1, 28, 28)\n",
        "\n",
        "# 図を描画\n",
        "plt.imshow(           # 画像を表示する\n",
        "  temp_data[0],        # 1つの訓練用入力データ（28行×28列）\n",
        "  cmap=plt.cm.binary) # 白黒（2値：バイナリ）の配色\n",
        "plt.show()\n",
        "#display(pd.DataFrame(temp_data[0])) # 表形式で表示する場合"
      ],
      "execution_count": 0,
      "outputs": []
    },
    {
      "cell_type": "markdown",
      "metadata": {
        "id": "HLLokCmos23i",
        "colab_type": "text"
      },
      "source": [
        "### リスト10-4　推論： 自作データを入力した場合の予測結果値の取得"
      ]
    },
    {
      "cell_type": "code",
      "metadata": {
        "id": "KnGUZEdms5QO",
        "colab_type": "code",
        "colab": {}
      },
      "source": [
        "import matplotlib.pyplot as plt  # グラフ描画ライブラリ（データ画像の表示に使用）\n",
        "\n",
        "# 推論（予測）する\n",
        "predictions = model.predict(temp_data)\n",
        "\n",
        "predictions\n",
        "# 以下のように出力される（「1.」は100％「1」、「0.」なら100％「0」）\n",
        "# array([[1.]], dtype=float32)"
      ],
      "execution_count": 0,
      "outputs": []
    },
    {
      "cell_type": "markdown",
      "metadata": {
        "id": "aJSe9Kgh_vGt",
        "colab_type": "text"
      },
      "source": [
        "# お疲れさまでした。第8回は修了です。"
      ]
    }
  ]
}