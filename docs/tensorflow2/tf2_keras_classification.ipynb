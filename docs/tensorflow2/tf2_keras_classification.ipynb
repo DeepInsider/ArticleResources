{
  "nbformat": 4,
  "nbformat_minor": 0,
  "metadata": {
    "colab": {
      "name": "tf2-keras-classification.ipynb",
      "provenance": [],
      "collapsed_sections": [],
      "toc_visible": true,
      "authorship_tag": "ABX9TyPxykdc1hRKToJumCybK9px",
      "include_colab_link": true
    },
    "kernelspec": {
      "name": "python3",
      "display_name": "Python 3"
    }
  },
  "cells": [
    {
      "cell_type": "markdown",
      "metadata": {
        "id": "view-in-github",
        "colab_type": "text"
      },
      "source": [
        "<a href=\"https://colab.research.google.com/github/DeepInsider/ArticleResources/blob/master/docs/tensorflow2/tf2_keras_classification.ipynb\" target=\"_parent\"><img src=\"https://colab.research.google.com/assets/colab-badge.svg\" alt=\"Open In Colab\"/></a>"
      ]
    },
    {
      "cell_type": "markdown",
      "metadata": {
        "id": "xrXUPcCWRzTL",
        "colab_type": "text"
      },
      "source": [
        "##### Copyright 2020 Digital Advantage - Deep Insider."
      ]
    },
    {
      "cell_type": "code",
      "metadata": {
        "id": "EXnYORgX8UHF",
        "colab_type": "code",
        "colab": {}
      },
      "source": [
        "#@title Licensed under the Apache License, Version 2.0 (the \"License\");\n",
        "# you may not use this file except in compliance with the License.\n",
        "# You may obtain a copy of the License at\n",
        "#\n",
        "# https://www.apache.org/licenses/LICENSE-2.0\n",
        "#\n",
        "# Unless required by applicable law or agreed to in writing, software\n",
        "# distributed under the License is distributed on an \"AS IS\" BASIS,\n",
        "# WITHOUT WARRANTIES OR CONDITIONS OF ANY KIND, either express or implied.\n",
        "# See the License for the specific language governing permissions and\n",
        "# limitations under the License."
      ],
      "execution_count": 0,
      "outputs": []
    },
    {
      "cell_type": "markdown",
      "metadata": {
        "id": "UpiqfKZH8kvb",
        "colab_type": "text"
      },
      "source": [
        "# 「分類問題（全1回）」 ― 連載『TensorFlow 2.0＋Keras（ tf.keras）入門』のノートブック（4）"
      ]
    },
    {
      "cell_type": "markdown",
      "metadata": {
        "id": "eJQ94tq_8teO",
        "colab_type": "text"
      },
      "source": [
        "<table valign=\"middle\">\n",
        "  <td>\n",
        "    <a target=\"_blank\" href=\"https://www.atmarkit.co.jp/ait/subtop/features/di/tf2keras_index.html\"> <img src=\"https://re.deepinsider.jp/img/ml-logo/manabu.svg\"/>Deep Insiderで記事を読む</a>\n",
        "  </td>\n",
        "  <td>\n",
        "    <a target=\"_blank\" href=\"https://colab.research.google.com/github/DeepInsider/playground-data/blob/master/docs/articles/tf2_keras_classification.ipynb\"> <img src=\"https://re.deepinsider.jp/img/ml-logo/gcolab.svg\" />Google Colabで実行する</a>\n",
        "  </td>\n",
        "  <td>\n",
        "    <a target=\"_blank\" href=\"https://github.com/DeepInsider/playground-data/blob/master/docs/articles/tf2_keras_classification.ipynb\"> <img src=\"https://re.deepinsider.jp/img/ml-logo/github.svg\" />GitHubでソースコードを見る</a>\n",
        "  </td>\n",
        "</table>"
      ]
    },
    {
      "cell_type": "markdown",
      "metadata": {
        "id": "cNvW2O8uR6xq",
        "colab_type": "text"
      },
      "source": [
        "※上から順に実行してください。上のコードで実行したものを再利用しているところがあるため、すべて実行しないとエラーになるコードがあります。  \n",
        "　すべてのコードを一括実行したい場合は、メニューバーから［ランタイム］－［すべてのセルを実行］をクリックしてください。"
      ]
    },
    {
      "cell_type": "markdown",
      "metadata": {
        "id": "pN0BBckBSRKz",
        "colab_type": "text"
      },
      "source": [
        "※「Python 3」を利用してください。  \n",
        "　Python 3を利用するには、メニューバーから［ランタイム］－［ランタイムのタイプを変更］を選択すると表示される［ノートブックの設定］ダイアログの、［ランタイムのタイプ］欄で「Python 3」に選択し、その右下にある［保存］ボタンをクリックしてください。"
      ]
    },
    {
      "cell_type": "markdown",
      "metadata": {
        "id": "uoW15afO8xBX",
        "colab_type": "text"
      },
      "source": [
        "# 第8回　分類問題をディープラーニング（基本のDNN）で解こう"
      ]
    },
    {
      "cell_type": "markdown",
      "metadata": {
        "id": "jXt-tmpH9Lls",
        "colab_type": "text"
      },
      "source": [
        "## ■本稿の目的と方針"
      ]
    },
    {
      "cell_type": "markdown",
      "metadata": {
        "id": "PJksPiJx9Ng-",
        "colab_type": "text"
      },
      "source": [
        "ディープラーニングの基本形である「DNN（ディープニューラルネットワーク」をTensorFlow 2.xで実装する方法を示す。これにより、連載第1回～第3回ですでに身に付けたニューラルネットワーク＆ディープラーニングの知識だけでも、さまざまな機械学習が行えることを確認する。\n",
        "\n",
        "- 前提知識は、基本的なニューラルネットワークを組めること。具体的には『[TensorFlow 2＋Keras（tf.keras）入門 - ＠IT](https://www.atmarkit.co.jp/ait/subtop/features/di/tf2keras_index.html)』の第1回～第6回の知識レベルが必要\n",
        "- 今回の課題： 手書き数字（後述）の推論を、第1回～第3回のDNN知識および、第4回～第6回の書き方の知識だけで解決してみよう\n",
        "- 第1回～第3回は、これまでのSequentialモデルではなく、サブクラスモデル（Subclassing API）で実装する\n",
        "- 一般的によく使われている活性化関数／損失関数／最適化アルゴリズムを使用する（前回までは基礎的でシンプルなものを使っていた）\n",
        "- 関連として、第7回で「回帰問題を基本のDNNで解く方法」を解説している"
      ]
    },
    {
      "cell_type": "markdown",
      "metadata": {
        "id": "2poIyAQ09QrJ",
        "colab_type": "text"
      },
      "source": [
        "## ■本稿で説明する大まかな流れ"
      ]
    },
    {
      "cell_type": "markdown",
      "metadata": {
        "id": "BavKh8ej9SlG",
        "colab_type": "text"
      },
      "source": [
        "- 【多クラス分類編】\n",
        "  - （0）本ノートブックを実行するための事前準備\n",
        "  - （1）データの準備\n",
        "  - （2）モデルの定義\n",
        "  - （3）学習／最適化（オプティマイザー）\n",
        "  - （4）評価／精度検証\n",
        "  - （5）推論／未知データによるテスト\n",
        "- [【二値分類編】](#scrollTo=E4mSTkCUodUv&line=1&uniqifier=1)\n",
        "  - 上記と同様の手順から変更箇所のみ説明"
      ]
    },
    {
      "cell_type": "markdown",
      "metadata": {
        "id": "shOwZWfJoQBr",
        "colab_type": "text"
      },
      "source": [
        "# 【多クラス分類編】----------"
      ]
    },
    {
      "cell_type": "markdown",
      "metadata": {
        "id": "MnaQVymNdjfO",
        "colab_type": "text"
      },
      "source": [
        "## ■（0）本ノートブックを実行するための事前準備"
      ]
    },
    {
      "cell_type": "code",
      "metadata": {
        "id": "FP1hd8Bld-8Z",
        "colab_type": "code",
        "colab": {}
      },
      "source": [
        "# Google Colabで最新の2.xを使う場合、2.xに切り替える（Colab専用）\n",
        "%tensorflow_version 2.x"
      ],
      "execution_count": 0,
      "outputs": []
    },
    {
      "cell_type": "markdown",
      "metadata": {
        "id": "msBLuEY-eApD",
        "colab_type": "text"
      },
      "source": [
        "### ●前提条件"
      ]
    },
    {
      "cell_type": "markdown",
      "metadata": {
        "id": "VyzWSrOAqKPv",
        "colab_type": "text"
      },
      "source": [
        "### 【チェック】Pythonバージョン（※3系を使うこと）\n",
        "Colabにインストール済みのものを使う。もし2系になっている場合は、メニューバーの［ランタイム］－［ランタイムのタイプを変更］をクリックして切り替えてほしい。"
      ]
    },
    {
      "cell_type": "code",
      "metadata": {
        "id": "u4jwFijuqRRb",
        "colab_type": "code",
        "outputId": "a5b3a429-6b4f-49e4-fb1a-c2f97ece359c",
        "colab": {
          "base_uri": "https://localhost:8080/",
          "height": 51
        }
      },
      "source": [
        "import sys\n",
        "print('Python', sys.version)\n",
        "# Python 3.6.9 (default, Apr 18 2020, 01:56:04)   …… などと表示される"
      ],
      "execution_count": 2,
      "outputs": [
        {
          "output_type": "stream",
          "text": [
            "Python 3.6.9 (default, Apr 18 2020, 01:56:04) \n",
            "[GCC 8.4.0]\n"
          ],
          "name": "stdout"
        }
      ]
    },
    {
      "cell_type": "markdown",
      "metadata": {
        "id": "HzRCOJw6AOop",
        "colab_type": "text"
      },
      "source": [
        "### 【チェック】TensorFlowバージョン（※2系を使うこと）\n",
        "基本的にはColabにインストール済みのものを使う。もし2系になっている場合は、リスト4-0を実行してバージョン2.0を使う。"
      ]
    },
    {
      "cell_type": "code",
      "metadata": {
        "id": "kYqIF_SCAQeH",
        "colab_type": "code",
        "outputId": "71c80021-fb0e-48e1-bd02-bca22f7a0a1e",
        "colab": {
          "base_uri": "https://localhost:8080/",
          "height": 34
        }
      },
      "source": [
        "import tensorflow as tf\n",
        "print('TensorFlow', tf.__version__)\n",
        "# TensorFlow 2.2.0 ……などと表示される"
      ],
      "execution_count": 3,
      "outputs": [
        {
          "output_type": "stream",
          "text": [
            "TensorFlow 2.2.0\n"
          ],
          "name": "stdout"
        }
      ]
    },
    {
      "cell_type": "markdown",
      "metadata": {
        "id": "_sg36M_-ATxR",
        "colab_type": "text"
      },
      "source": [
        "### リスト0-1　［オプション］ライブラリ「TensorFlow」最新バージョンのインストール"
      ]
    },
    {
      "cell_type": "code",
      "metadata": {
        "id": "qJgCZ6-KAYtw",
        "colab_type": "code",
        "outputId": "9b196557-64ee-4a41-fd21-5509b49f5a49",
        "colab": {
          "base_uri": "https://localhost:8080/",
          "height": 666
        }
      },
      "source": [
        "# Google Colabで最新の2.xを使う場合（Colab専用）\n",
        "%tensorflow_version 2.x\n",
        "\n",
        "# 最新バージョンにアップグレードする場合\n",
        "!pip install --upgrade tensorflow\n",
        "\n",
        "# バージョンを明示してアップグレードする場合\n",
        "#!pip install --upgrade tensorflow===2.1.0\n",
        "\n",
        "# 最新バージョンをインストールする場合\n",
        "#!pip install tensorflow\n",
        "\n",
        "# バージョンを明示してインストールする場合\n",
        "#!pip install tensorflow===2.1.0"
      ],
      "execution_count": 4,
      "outputs": [
        {
          "output_type": "stream",
          "text": [
            "Requirement already up-to-date: tensorflow in /usr/local/lib/python3.6/dist-packages (2.2.0)\n",
            "Requirement already satisfied, skipping upgrade: six>=1.12.0 in /usr/local/lib/python3.6/dist-packages (from tensorflow) (1.12.0)\n",
            "Requirement already satisfied, skipping upgrade: google-pasta>=0.1.8 in /usr/local/lib/python3.6/dist-packages (from tensorflow) (0.2.0)\n",
            "Requirement already satisfied, skipping upgrade: protobuf>=3.8.0 in /usr/local/lib/python3.6/dist-packages (from tensorflow) (3.10.0)\n",
            "Requirement already satisfied, skipping upgrade: h5py<2.11.0,>=2.10.0 in /usr/local/lib/python3.6/dist-packages (from tensorflow) (2.10.0)\n",
            "Requirement already satisfied, skipping upgrade: tensorboard<2.3.0,>=2.2.0 in /usr/local/lib/python3.6/dist-packages (from tensorflow) (2.2.2)\n",
            "Requirement already satisfied, skipping upgrade: wheel>=0.26; python_version >= \"3\" in /usr/local/lib/python3.6/dist-packages (from tensorflow) (0.34.2)\n",
            "Requirement already satisfied, skipping upgrade: tensorflow-estimator<2.3.0,>=2.2.0 in /usr/local/lib/python3.6/dist-packages (from tensorflow) (2.2.0)\n",
            "Requirement already satisfied, skipping upgrade: scipy==1.4.1; python_version >= \"3\" in /usr/local/lib/python3.6/dist-packages (from tensorflow) (1.4.1)\n",
            "Requirement already satisfied, skipping upgrade: keras-preprocessing>=1.1.0 in /usr/local/lib/python3.6/dist-packages (from tensorflow) (1.1.2)\n",
            "Requirement already satisfied, skipping upgrade: grpcio>=1.8.6 in /usr/local/lib/python3.6/dist-packages (from tensorflow) (1.29.0)\n",
            "Requirement already satisfied, skipping upgrade: absl-py>=0.7.0 in /usr/local/lib/python3.6/dist-packages (from tensorflow) (0.9.0)\n",
            "Requirement already satisfied, skipping upgrade: opt-einsum>=2.3.2 in /usr/local/lib/python3.6/dist-packages (from tensorflow) (3.2.1)\n",
            "Requirement already satisfied, skipping upgrade: termcolor>=1.1.0 in /usr/local/lib/python3.6/dist-packages (from tensorflow) (1.1.0)\n",
            "Requirement already satisfied, skipping upgrade: gast==0.3.3 in /usr/local/lib/python3.6/dist-packages (from tensorflow) (0.3.3)\n",
            "Requirement already satisfied, skipping upgrade: wrapt>=1.11.1 in /usr/local/lib/python3.6/dist-packages (from tensorflow) (1.12.1)\n",
            "Requirement already satisfied, skipping upgrade: numpy<2.0,>=1.16.0 in /usr/local/lib/python3.6/dist-packages (from tensorflow) (1.18.4)\n",
            "Requirement already satisfied, skipping upgrade: astunparse==1.6.3 in /usr/local/lib/python3.6/dist-packages (from tensorflow) (1.6.3)\n",
            "Requirement already satisfied, skipping upgrade: setuptools in /usr/local/lib/python3.6/dist-packages (from protobuf>=3.8.0->tensorflow) (47.1.1)\n",
            "Requirement already satisfied, skipping upgrade: google-auth<2,>=1.6.3 in /usr/local/lib/python3.6/dist-packages (from tensorboard<2.3.0,>=2.2.0->tensorflow) (1.7.2)\n",
            "Requirement already satisfied, skipping upgrade: markdown>=2.6.8 in /usr/local/lib/python3.6/dist-packages (from tensorboard<2.3.0,>=2.2.0->tensorflow) (3.2.2)\n",
            "Requirement already satisfied, skipping upgrade: google-auth-oauthlib<0.5,>=0.4.1 in /usr/local/lib/python3.6/dist-packages (from tensorboard<2.3.0,>=2.2.0->tensorflow) (0.4.1)\n",
            "Requirement already satisfied, skipping upgrade: tensorboard-plugin-wit>=1.6.0 in /usr/local/lib/python3.6/dist-packages (from tensorboard<2.3.0,>=2.2.0->tensorflow) (1.6.0.post3)\n",
            "Requirement already satisfied, skipping upgrade: requests<3,>=2.21.0 in /usr/local/lib/python3.6/dist-packages (from tensorboard<2.3.0,>=2.2.0->tensorflow) (2.23.0)\n",
            "Requirement already satisfied, skipping upgrade: werkzeug>=0.11.15 in /usr/local/lib/python3.6/dist-packages (from tensorboard<2.3.0,>=2.2.0->tensorflow) (1.0.1)\n",
            "Requirement already satisfied, skipping upgrade: pyasn1-modules>=0.2.1 in /usr/local/lib/python3.6/dist-packages (from google-auth<2,>=1.6.3->tensorboard<2.3.0,>=2.2.0->tensorflow) (0.2.8)\n",
            "Requirement already satisfied, skipping upgrade: cachetools<3.2,>=2.0.0 in /usr/local/lib/python3.6/dist-packages (from google-auth<2,>=1.6.3->tensorboard<2.3.0,>=2.2.0->tensorflow) (3.1.1)\n",
            "Requirement already satisfied, skipping upgrade: rsa<4.1,>=3.1.4 in /usr/local/lib/python3.6/dist-packages (from google-auth<2,>=1.6.3->tensorboard<2.3.0,>=2.2.0->tensorflow) (4.0)\n",
            "Requirement already satisfied, skipping upgrade: importlib-metadata; python_version < \"3.8\" in /usr/local/lib/python3.6/dist-packages (from markdown>=2.6.8->tensorboard<2.3.0,>=2.2.0->tensorflow) (1.6.0)\n",
            "Requirement already satisfied, skipping upgrade: requests-oauthlib>=0.7.0 in /usr/local/lib/python3.6/dist-packages (from google-auth-oauthlib<0.5,>=0.4.1->tensorboard<2.3.0,>=2.2.0->tensorflow) (1.3.0)\n",
            "Requirement already satisfied, skipping upgrade: chardet<4,>=3.0.2 in /usr/local/lib/python3.6/dist-packages (from requests<3,>=2.21.0->tensorboard<2.3.0,>=2.2.0->tensorflow) (3.0.4)\n",
            "Requirement already satisfied, skipping upgrade: idna<3,>=2.5 in /usr/local/lib/python3.6/dist-packages (from requests<3,>=2.21.0->tensorboard<2.3.0,>=2.2.0->tensorflow) (2.9)\n",
            "Requirement already satisfied, skipping upgrade: certifi>=2017.4.17 in /usr/local/lib/python3.6/dist-packages (from requests<3,>=2.21.0->tensorboard<2.3.0,>=2.2.0->tensorflow) (2020.4.5.1)\n",
            "Requirement already satisfied, skipping upgrade: urllib3!=1.25.0,!=1.25.1,<1.26,>=1.21.1 in /usr/local/lib/python3.6/dist-packages (from requests<3,>=2.21.0->tensorboard<2.3.0,>=2.2.0->tensorflow) (1.24.3)\n",
            "Requirement already satisfied, skipping upgrade: pyasn1<0.5.0,>=0.4.6 in /usr/local/lib/python3.6/dist-packages (from pyasn1-modules>=0.2.1->google-auth<2,>=1.6.3->tensorboard<2.3.0,>=2.2.0->tensorflow) (0.4.8)\n",
            "Requirement already satisfied, skipping upgrade: zipp>=0.5 in /usr/local/lib/python3.6/dist-packages (from importlib-metadata; python_version < \"3.8\"->markdown>=2.6.8->tensorboard<2.3.0,>=2.2.0->tensorflow) (3.1.0)\n",
            "Requirement already satisfied, skipping upgrade: oauthlib>=3.0.0 in /usr/local/lib/python3.6/dist-packages (from requests-oauthlib>=0.7.0->google-auth-oauthlib<0.5,>=0.4.1->tensorboard<2.3.0,>=2.2.0->tensorflow) (3.1.0)\n"
          ],
          "name": "stdout"
        }
      ]
    },
    {
      "cell_type": "markdown",
      "metadata": {
        "id": "KhO5Mj7YAeAG",
        "colab_type": "text"
      },
      "source": [
        "### ［オプション］【チェック】TensorFlowバージョン（※インストール後の確認）\n",
        "バージョン2.xになっているか再度チェックする。"
      ]
    },
    {
      "cell_type": "code",
      "metadata": {
        "id": "_6eq67BTAgM_",
        "colab_type": "code",
        "outputId": "d72be6cc-d977-4fda-a675-66aff5ea71c3",
        "colab": {
          "base_uri": "https://localhost:8080/",
          "height": 34
        }
      },
      "source": [
        "import tensorflow as tf\n",
        "print('TensorFlow', tf.__version__)\n",
        "# TensorFlow 2.2.0 ……などと表示される"
      ],
      "execution_count": 5,
      "outputs": [
        {
          "output_type": "stream",
          "text": [
            "TensorFlow 2.2.0\n"
          ],
          "name": "stdout"
        }
      ]
    },
    {
      "cell_type": "markdown",
      "metadata": {
        "id": "vkIfaer6-RFY",
        "colab_type": "text"
      },
      "source": [
        "## ■（1）データの準備"
      ]
    },
    {
      "cell_type": "markdown",
      "metadata": {
        "id": "D99R0gok-USw",
        "colab_type": "text"
      },
      "source": [
        "ファッション商品写真の画像データセットとして「[Fashion-MNIST](https://www.atmarkit.co.jp/ait/articles/2005/28/news016.html)」を使用する。  \n",
        "![Fashion-MNISTに含まれる画像データセットの例](https://image.itmedia.co.jp/ait/articles/2005/28/l_di-01.gif)"
      ]
    },
    {
      "cell_type": "markdown",
      "metadata": {
        "id": "RfxpuUIw-bz1",
        "colab_type": "text"
      },
      "source": [
        "### リスト1-1　Fashion-MNIST（ファッション商品写真）画像データの取得"
      ]
    },
    {
      "cell_type": "code",
      "metadata": {
        "id": "zH9qg4Qt-dER",
        "colab_type": "code",
        "outputId": "6512ae0a-938e-46d2-9335-551f70eebb72",
        "colab": {
          "base_uri": "https://localhost:8080/",
          "height": 260
        }
      },
      "source": [
        "# TensorFlowライブラリのtensorflowパッケージを「tf」という別名でインポート\n",
        "import tensorflow as tf\n",
        "import matplotlib.pyplot as plt  # グラフ描画ライブラリ（データ画像の表示に使用）\n",
        "import numpy as np               # 数値計算ライブラリ（データのシャッフルに使用）\n",
        "\n",
        "# Fashion-MNISTデータ（※NumPyの多次元配列型）を取得する\n",
        "(X_train, y_train), (X_test, y_test) = tf.keras.datasets.fashion_mnist.load_data()\n",
        "# データ分割は自動で、訓練用が6万枚、テスト用が1万枚（ホールドアウト法）。\n",
        "# さらにそれぞれを「入力データ（X：行列）」と「ラベル（y：ベクトル）」に分ける\n",
        "\n",
        "# ※訓練データは、学習時のfit関数で訓練用と精度検証用に分割する。\n",
        "# そのため、あらかじめ訓練データをシャッフルしておく\n",
        "p = np.random.permutation(len(X_train))    # ランダムなインデックス順の取得\n",
        "X_train, y_train = X_train[p], y_train[p]  # その順で全行を抽出する（＝シャッフル）\n",
        "\n",
        "# ［内容確認］データのうち、最初の10枚だけを表示\n",
        "classes_name = ['T-shirt/top [0]', 'Trouser [1]', 'Pullover [2]', \n",
        "                'Dress [3]', 'Coat [4]', 'Sandal [5]', 'Shirt [6]',\n",
        "                'Sneaker [7]', 'Bag [8]', 'Ankle boot [9]']\n",
        "plt.figure(figsize=(10,4))  # 横：10インチ、縦：4インチの図\n",
        "for i in range(10):\n",
        "  plt.subplot(2,5,i+1)  # 図内にある（sub）2行5列の描画領域（plot）の何番目かを指定\n",
        "  plt.xticks([])        # X軸の目盛りを表示しない\n",
        "  plt.yticks([])        # y軸の目盛りを表示しない\n",
        "  plt.grid(False)       # グリッド線を表示しない\n",
        "  plt.imshow(           # 画像を表示する\n",
        "    X_train[i],         # 1つの訓練用入力データ（28行×28列）\n",
        "    cmap=plt.cm.binary) # 白黒（2値：バイナリ）の配色\n",
        "  plt.xlabel(classes_name[y_train[i]])  # X軸のラベルに分類名を表示\n",
        "plt.show()"
      ],
      "execution_count": 68,
      "outputs": [
        {
          "output_type": "display_data",
          "data": {
            "image/png": "[encoded data removed]",
            "text/plain": [
              "<Figure size 720x288 with 10 Axes>"
            ]
          },
          "metadata": {
            "tags": []
          }
        }
      ]
    },
    {
      "cell_type": "markdown",
      "metadata": {
        "id": "XYYYe5G-ibsS",
        "colab_type": "text"
      },
      "source": [
        "このコードのポイント：\n",
        "\n",
        "- Fashion-MNISTデータセットは、TensorFlowでは[`tf.keras.datasets.fashion_mnist.load_data()`関数](https://www.tensorflow.org/api_docs/python/tf/keras/datasets/fashion_mnist/load_data)で取得できる\n",
        "- `load_data()`関数の戻り値は、タプル形式で（（訓練用データ、訓練用ラベル）、（テスト用データ、テスト用ラベル））となっている（ホールドアウト法）\n",
        "- ディープラーニングではハイパーパラメーター調整のため基本的に「精度検証用データ」が必要。精度検証用への分割は、fit関数のvalidation_split引数に任せるため、ここでは行わない。それに備えてここでは、訓練データをシャッフルしている。\n",
        "- 多クラス分類の場合、通常、ラベルを「one-hotエンコーディング」と呼ばれる変換を行う必要があるが、今回は行わない（tf.kerasの機能により、内部で自動的に行うことが可能なため）"
      ]
    },
    {
      "cell_type": "markdown",
      "metadata": {
        "id": "uEbauC15bg2G",
        "colab_type": "text"
      },
      "source": [
        "### リスト1-2　1つの画像データの内容確認"
      ]
    },
    {
      "cell_type": "code",
      "metadata": {
        "id": "0abyYf_KQfJG",
        "colab_type": "code",
        "colab": {
          "base_uri": "https://localhost:8080/",
          "height": 951
        },
        "outputId": "3ce3e62e-9986-4b3c-a77a-8b22c7ba3fd1"
      },
      "source": [
        "import pandas as pd # データ解析支援「pandas」\n",
        "\n",
        "# 1件の訓練データの、ラベルと入力データを表示する\n",
        "print('y_train（正解ラベル）: 「',y_train[0],'」');\n",
        "print('X_train:');\n",
        "display(pd.DataFrame(X_train[0])) # NumPy多次元配列をPandasデータフレームに変換して表示"
      ],
      "execution_count": 65,
      "outputs": [
        {
          "output_type": "stream",
          "text": [
            "y_train（正解ラベル）: 「 7 」\n",
            "X_train:\n"
          ],
          "name": "stdout"
        },
        {
          "output_type": "display_data",
          "data": {
            "text/html": [
              "<div>\n",
              "<style scoped>\n",
              "    .dataframe tbody tr th:only-of-type {\n",
              "        vertical-align: middle;\n",
              "    }\n",
              "\n",
              "    .dataframe tbody tr th {\n",
              "        vertical-align: top;\n",
              "    }\n",
              "\n",
              "    .dataframe thead th {\n",
              "        text-align: right;\n",
              "    }\n",
              "</style>\n",
              "<table border=\"1\" class=\"dataframe\">\n",
              "  <thead>\n",
              "    <tr style=\"text-align: right;\">\n",
              "      <th></th>\n",
              "      <th>0</th>\n",
              "      <th>1</th>\n",
              "      <th>2</th>\n",
              "      <th>3</th>\n",
              "      <th>4</th>\n",
              "      <th>5</th>\n",
              "      <th>6</th>\n",
              "      <th>7</th>\n",
              "      <th>8</th>\n",
              "      <th>9</th>\n",
              "      <th>10</th>\n",
              "      <th>11</th>\n",
              "      <th>12</th>\n",
              "      <th>13</th>\n",
              "      <th>14</th>\n",
              "      <th>15</th>\n",
              "      <th>16</th>\n",
              "      <th>17</th>\n",
              "      <th>18</th>\n",
              "      <th>19</th>\n",
              "      <th>20</th>\n",
              "      <th>21</th>\n",
              "      <th>22</th>\n",
              "      <th>23</th>\n",
              "      <th>24</th>\n",
              "      <th>25</th>\n",
              "      <th>26</th>\n",
              "      <th>27</th>\n",
              "    </tr>\n",
              "  </thead>\n",
              "  <tbody>\n",
              "    <tr>\n",
              "      <th>0</th>\n",
              "      <td>0</td>\n",
              "      <td>0</td>\n",
              "      <td>0</td>\n",
              "      <td>0</td>\n",
              "      <td>0</td>\n",
              "      <td>0</td>\n",
              "      <td>0</td>\n",
              "      <td>0</td>\n",
              "      <td>0</td>\n",
              "      <td>0</td>\n",
              "      <td>0</td>\n",
              "      <td>0</td>\n",
              "      <td>0</td>\n",
              "      <td>0</td>\n",
              "      <td>0</td>\n",
              "      <td>0</td>\n",
              "      <td>0</td>\n",
              "      <td>0</td>\n",
              "      <td>0</td>\n",
              "      <td>0</td>\n",
              "      <td>0</td>\n",
              "      <td>0</td>\n",
              "      <td>0</td>\n",
              "      <td>0</td>\n",
              "      <td>0</td>\n",
              "      <td>0</td>\n",
              "      <td>0</td>\n",
              "      <td>0</td>\n",
              "    </tr>\n",
              "    <tr>\n",
              "      <th>1</th>\n",
              "      <td>0</td>\n",
              "      <td>0</td>\n",
              "      <td>0</td>\n",
              "      <td>0</td>\n",
              "      <td>0</td>\n",
              "      <td>0</td>\n",
              "      <td>0</td>\n",
              "      <td>0</td>\n",
              "      <td>0</td>\n",
              "      <td>0</td>\n",
              "      <td>0</td>\n",
              "      <td>0</td>\n",
              "      <td>0</td>\n",
              "      <td>0</td>\n",
              "      <td>0</td>\n",
              "      <td>0</td>\n",
              "      <td>0</td>\n",
              "      <td>0</td>\n",
              "      <td>0</td>\n",
              "      <td>0</td>\n",
              "      <td>0</td>\n",
              "      <td>0</td>\n",
              "      <td>0</td>\n",
              "      <td>0</td>\n",
              "      <td>0</td>\n",
              "      <td>0</td>\n",
              "      <td>0</td>\n",
              "      <td>0</td>\n",
              "    </tr>\n",
              "    <tr>\n",
              "      <th>2</th>\n",
              "      <td>0</td>\n",
              "      <td>0</td>\n",
              "      <td>0</td>\n",
              "      <td>0</td>\n",
              "      <td>0</td>\n",
              "      <td>0</td>\n",
              "      <td>0</td>\n",
              "      <td>0</td>\n",
              "      <td>0</td>\n",
              "      <td>0</td>\n",
              "      <td>0</td>\n",
              "      <td>0</td>\n",
              "      <td>0</td>\n",
              "      <td>0</td>\n",
              "      <td>0</td>\n",
              "      <td>0</td>\n",
              "      <td>0</td>\n",
              "      <td>0</td>\n",
              "      <td>0</td>\n",
              "      <td>0</td>\n",
              "      <td>0</td>\n",
              "      <td>0</td>\n",
              "      <td>0</td>\n",
              "      <td>0</td>\n",
              "      <td>0</td>\n",
              "      <td>0</td>\n",
              "      <td>0</td>\n",
              "      <td>0</td>\n",
              "    </tr>\n",
              "    <tr>\n",
              "      <th>3</th>\n",
              "      <td>0</td>\n",
              "      <td>0</td>\n",
              "      <td>0</td>\n",
              "      <td>0</td>\n",
              "      <td>0</td>\n",
              "      <td>0</td>\n",
              "      <td>0</td>\n",
              "      <td>0</td>\n",
              "      <td>0</td>\n",
              "      <td>0</td>\n",
              "      <td>0</td>\n",
              "      <td>0</td>\n",
              "      <td>0</td>\n",
              "      <td>0</td>\n",
              "      <td>0</td>\n",
              "      <td>0</td>\n",
              "      <td>0</td>\n",
              "      <td>0</td>\n",
              "      <td>0</td>\n",
              "      <td>0</td>\n",
              "      <td>0</td>\n",
              "      <td>0</td>\n",
              "      <td>0</td>\n",
              "      <td>0</td>\n",
              "      <td>0</td>\n",
              "      <td>0</td>\n",
              "      <td>0</td>\n",
              "      <td>0</td>\n",
              "    </tr>\n",
              "    <tr>\n",
              "      <th>4</th>\n",
              "      <td>0</td>\n",
              "      <td>0</td>\n",
              "      <td>0</td>\n",
              "      <td>0</td>\n",
              "      <td>0</td>\n",
              "      <td>0</td>\n",
              "      <td>0</td>\n",
              "      <td>0</td>\n",
              "      <td>0</td>\n",
              "      <td>0</td>\n",
              "      <td>0</td>\n",
              "      <td>0</td>\n",
              "      <td>0</td>\n",
              "      <td>0</td>\n",
              "      <td>0</td>\n",
              "      <td>0</td>\n",
              "      <td>0</td>\n",
              "      <td>0</td>\n",
              "      <td>0</td>\n",
              "      <td>0</td>\n",
              "      <td>0</td>\n",
              "      <td>0</td>\n",
              "      <td>0</td>\n",
              "      <td>0</td>\n",
              "      <td>0</td>\n",
              "      <td>0</td>\n",
              "      <td>0</td>\n",
              "      <td>0</td>\n",
              "    </tr>\n",
              "    <tr>\n",
              "      <th>5</th>\n",
              "      <td>0</td>\n",
              "      <td>0</td>\n",
              "      <td>0</td>\n",
              "      <td>0</td>\n",
              "      <td>0</td>\n",
              "      <td>0</td>\n",
              "      <td>0</td>\n",
              "      <td>0</td>\n",
              "      <td>0</td>\n",
              "      <td>0</td>\n",
              "      <td>0</td>\n",
              "      <td>0</td>\n",
              "      <td>0</td>\n",
              "      <td>0</td>\n",
              "      <td>0</td>\n",
              "      <td>0</td>\n",
              "      <td>0</td>\n",
              "      <td>0</td>\n",
              "      <td>0</td>\n",
              "      <td>0</td>\n",
              "      <td>0</td>\n",
              "      <td>0</td>\n",
              "      <td>0</td>\n",
              "      <td>0</td>\n",
              "      <td>0</td>\n",
              "      <td>0</td>\n",
              "      <td>0</td>\n",
              "      <td>0</td>\n",
              "    </tr>\n",
              "    <tr>\n",
              "      <th>6</th>\n",
              "      <td>0</td>\n",
              "      <td>0</td>\n",
              "      <td>0</td>\n",
              "      <td>0</td>\n",
              "      <td>0</td>\n",
              "      <td>0</td>\n",
              "      <td>0</td>\n",
              "      <td>0</td>\n",
              "      <td>0</td>\n",
              "      <td>0</td>\n",
              "      <td>0</td>\n",
              "      <td>0</td>\n",
              "      <td>0</td>\n",
              "      <td>0</td>\n",
              "      <td>0</td>\n",
              "      <td>0</td>\n",
              "      <td>0</td>\n",
              "      <td>0</td>\n",
              "      <td>0</td>\n",
              "      <td>0</td>\n",
              "      <td>0</td>\n",
              "      <td>0</td>\n",
              "      <td>0</td>\n",
              "      <td>0</td>\n",
              "      <td>0</td>\n",
              "      <td>0</td>\n",
              "      <td>0</td>\n",
              "      <td>0</td>\n",
              "    </tr>\n",
              "    <tr>\n",
              "      <th>7</th>\n",
              "      <td>0</td>\n",
              "      <td>0</td>\n",
              "      <td>0</td>\n",
              "      <td>0</td>\n",
              "      <td>0</td>\n",
              "      <td>0</td>\n",
              "      <td>0</td>\n",
              "      <td>0</td>\n",
              "      <td>0</td>\n",
              "      <td>0</td>\n",
              "      <td>0</td>\n",
              "      <td>0</td>\n",
              "      <td>0</td>\n",
              "      <td>0</td>\n",
              "      <td>0</td>\n",
              "      <td>0</td>\n",
              "      <td>0</td>\n",
              "      <td>0</td>\n",
              "      <td>0</td>\n",
              "      <td>0</td>\n",
              "      <td>0</td>\n",
              "      <td>0</td>\n",
              "      <td>0</td>\n",
              "      <td>0</td>\n",
              "      <td>0</td>\n",
              "      <td>0</td>\n",
              "      <td>0</td>\n",
              "      <td>0</td>\n",
              "    </tr>\n",
              "    <tr>\n",
              "      <th>8</th>\n",
              "      <td>0</td>\n",
              "      <td>0</td>\n",
              "      <td>0</td>\n",
              "      <td>0</td>\n",
              "      <td>0</td>\n",
              "      <td>0</td>\n",
              "      <td>0</td>\n",
              "      <td>0</td>\n",
              "      <td>3</td>\n",
              "      <td>5</td>\n",
              "      <td>0</td>\n",
              "      <td>4</td>\n",
              "      <td>0</td>\n",
              "      <td>0</td>\n",
              "      <td>0</td>\n",
              "      <td>0</td>\n",
              "      <td>0</td>\n",
              "      <td>5</td>\n",
              "      <td>0</td>\n",
              "      <td>0</td>\n",
              "      <td>1</td>\n",
              "      <td>2</td>\n",
              "      <td>2</td>\n",
              "      <td>3</td>\n",
              "      <td>2</td>\n",
              "      <td>6</td>\n",
              "      <td>0</td>\n",
              "      <td>0</td>\n",
              "    </tr>\n",
              "    <tr>\n",
              "      <th>9</th>\n",
              "      <td>0</td>\n",
              "      <td>0</td>\n",
              "      <td>0</td>\n",
              "      <td>0</td>\n",
              "      <td>0</td>\n",
              "      <td>0</td>\n",
              "      <td>0</td>\n",
              "      <td>0</td>\n",
              "      <td>0</td>\n",
              "      <td>1</td>\n",
              "      <td>1</td>\n",
              "      <td>0</td>\n",
              "      <td>0</td>\n",
              "      <td>58</td>\n",
              "      <td>173</td>\n",
              "      <td>194</td>\n",
              "      <td>0</td>\n",
              "      <td>0</td>\n",
              "      <td>3</td>\n",
              "      <td>1</td>\n",
              "      <td>5</td>\n",
              "      <td>0</td>\n",
              "      <td>2</td>\n",
              "      <td>3</td>\n",
              "      <td>0</td>\n",
              "      <td>0</td>\n",
              "      <td>0</td>\n",
              "      <td>0</td>\n",
              "    </tr>\n",
              "    <tr>\n",
              "      <th>10</th>\n",
              "      <td>0</td>\n",
              "      <td>0</td>\n",
              "      <td>0</td>\n",
              "      <td>0</td>\n",
              "      <td>0</td>\n",
              "      <td>0</td>\n",
              "      <td>0</td>\n",
              "      <td>0</td>\n",
              "      <td>0</td>\n",
              "      <td>0</td>\n",
              "      <td>0</td>\n",
              "      <td>3</td>\n",
              "      <td>181</td>\n",
              "      <td>255</td>\n",
              "      <td>203</td>\n",
              "      <td>205</td>\n",
              "      <td>138</td>\n",
              "      <td>0</td>\n",
              "      <td>0</td>\n",
              "      <td>0</td>\n",
              "      <td>0</td>\n",
              "      <td>0</td>\n",
              "      <td>0</td>\n",
              "      <td>0</td>\n",
              "      <td>0</td>\n",
              "      <td>2</td>\n",
              "      <td>0</td>\n",
              "      <td>0</td>\n",
              "    </tr>\n",
              "    <tr>\n",
              "      <th>11</th>\n",
              "      <td>0</td>\n",
              "      <td>0</td>\n",
              "      <td>0</td>\n",
              "      <td>0</td>\n",
              "      <td>0</td>\n",
              "      <td>0</td>\n",
              "      <td>2</td>\n",
              "      <td>0</td>\n",
              "      <td>0</td>\n",
              "      <td>0</td>\n",
              "      <td>92</td>\n",
              "      <td>251</td>\n",
              "      <td>241</td>\n",
              "      <td>187</td>\n",
              "      <td>182</td>\n",
              "      <td>189</td>\n",
              "      <td>232</td>\n",
              "      <td>202</td>\n",
              "      <td>69</td>\n",
              "      <td>0</td>\n",
              "      <td>0</td>\n",
              "      <td>0</td>\n",
              "      <td>45</td>\n",
              "      <td>119</td>\n",
              "      <td>199</td>\n",
              "      <td>227</td>\n",
              "      <td>51</td>\n",
              "      <td>0</td>\n",
              "    </tr>\n",
              "    <tr>\n",
              "      <th>12</th>\n",
              "      <td>0</td>\n",
              "      <td>2</td>\n",
              "      <td>5</td>\n",
              "      <td>5</td>\n",
              "      <td>3</td>\n",
              "      <td>0</td>\n",
              "      <td>0</td>\n",
              "      <td>0</td>\n",
              "      <td>0</td>\n",
              "      <td>75</td>\n",
              "      <td>255</td>\n",
              "      <td>193</td>\n",
              "      <td>185</td>\n",
              "      <td>188</td>\n",
              "      <td>190</td>\n",
              "      <td>196</td>\n",
              "      <td>196</td>\n",
              "      <td>221</td>\n",
              "      <td>255</td>\n",
              "      <td>244</td>\n",
              "      <td>237</td>\n",
              "      <td>237</td>\n",
              "      <td>213</td>\n",
              "      <td>221</td>\n",
              "      <td>195</td>\n",
              "      <td>230</td>\n",
              "      <td>177</td>\n",
              "      <td>0</td>\n",
              "    </tr>\n",
              "    <tr>\n",
              "      <th>13</th>\n",
              "      <td>0</td>\n",
              "      <td>0</td>\n",
              "      <td>0</td>\n",
              "      <td>0</td>\n",
              "      <td>0</td>\n",
              "      <td>0</td>\n",
              "      <td>2</td>\n",
              "      <td>91</td>\n",
              "      <td>175</td>\n",
              "      <td>240</td>\n",
              "      <td>201</td>\n",
              "      <td>189</td>\n",
              "      <td>200</td>\n",
              "      <td>196</td>\n",
              "      <td>194</td>\n",
              "      <td>189</td>\n",
              "      <td>191</td>\n",
              "      <td>194</td>\n",
              "      <td>192</td>\n",
              "      <td>201</td>\n",
              "      <td>195</td>\n",
              "      <td>197</td>\n",
              "      <td>192</td>\n",
              "      <td>170</td>\n",
              "      <td>151</td>\n",
              "      <td>207</td>\n",
              "      <td>221</td>\n",
              "      <td>0</td>\n",
              "    </tr>\n",
              "    <tr>\n",
              "      <th>14</th>\n",
              "      <td>0</td>\n",
              "      <td>0</td>\n",
              "      <td>37</td>\n",
              "      <td>90</td>\n",
              "      <td>125</td>\n",
              "      <td>158</td>\n",
              "      <td>193</td>\n",
              "      <td>205</td>\n",
              "      <td>202</td>\n",
              "      <td>189</td>\n",
              "      <td>194</td>\n",
              "      <td>197</td>\n",
              "      <td>203</td>\n",
              "      <td>199</td>\n",
              "      <td>197</td>\n",
              "      <td>190</td>\n",
              "      <td>194</td>\n",
              "      <td>209</td>\n",
              "      <td>205</td>\n",
              "      <td>182</td>\n",
              "      <td>224</td>\n",
              "      <td>195</td>\n",
              "      <td>198</td>\n",
              "      <td>248</td>\n",
              "      <td>209</td>\n",
              "      <td>209</td>\n",
              "      <td>223</td>\n",
              "      <td>40</td>\n",
              "    </tr>\n",
              "    <tr>\n",
              "      <th>15</th>\n",
              "      <td>75</td>\n",
              "      <td>255</td>\n",
              "      <td>206</td>\n",
              "      <td>218</td>\n",
              "      <td>222</td>\n",
              "      <td>204</td>\n",
              "      <td>204</td>\n",
              "      <td>205</td>\n",
              "      <td>201</td>\n",
              "      <td>234</td>\n",
              "      <td>229</td>\n",
              "      <td>196</td>\n",
              "      <td>178</td>\n",
              "      <td>190</td>\n",
              "      <td>195</td>\n",
              "      <td>197</td>\n",
              "      <td>194</td>\n",
              "      <td>189</td>\n",
              "      <td>182</td>\n",
              "      <td>248</td>\n",
              "      <td>134</td>\n",
              "      <td>0</td>\n",
              "      <td>0</td>\n",
              "      <td>72</td>\n",
              "      <td>149</td>\n",
              "      <td>0</td>\n",
              "      <td>58</td>\n",
              "      <td>38</td>\n",
              "    </tr>\n",
              "    <tr>\n",
              "      <th>16</th>\n",
              "      <td>39</td>\n",
              "      <td>38</td>\n",
              "      <td>0</td>\n",
              "      <td>28</td>\n",
              "      <td>185</td>\n",
              "      <td>226</td>\n",
              "      <td>173</td>\n",
              "      <td>99</td>\n",
              "      <td>50</td>\n",
              "      <td>7</td>\n",
              "      <td>95</td>\n",
              "      <td>236</td>\n",
              "      <td>255</td>\n",
              "      <td>252</td>\n",
              "      <td>226</td>\n",
              "      <td>206</td>\n",
              "      <td>208</td>\n",
              "      <td>198</td>\n",
              "      <td>255</td>\n",
              "      <td>159</td>\n",
              "      <td>0</td>\n",
              "      <td>0</td>\n",
              "      <td>0</td>\n",
              "      <td>0</td>\n",
              "      <td>0</td>\n",
              "      <td>0</td>\n",
              "      <td>0</td>\n",
              "      <td>0</td>\n",
              "    </tr>\n",
              "    <tr>\n",
              "      <th>17</th>\n",
              "      <td>39</td>\n",
              "      <td>33</td>\n",
              "      <td>42</td>\n",
              "      <td>0</td>\n",
              "      <td>0</td>\n",
              "      <td>0</td>\n",
              "      <td>0</td>\n",
              "      <td>0</td>\n",
              "      <td>0</td>\n",
              "      <td>0</td>\n",
              "      <td>0</td>\n",
              "      <td>0</td>\n",
              "      <td>53</td>\n",
              "      <td>52</td>\n",
              "      <td>224</td>\n",
              "      <td>235</td>\n",
              "      <td>219</td>\n",
              "      <td>238</td>\n",
              "      <td>233</td>\n",
              "      <td>0</td>\n",
              "      <td>0</td>\n",
              "      <td>3</td>\n",
              "      <td>1</td>\n",
              "      <td>12</td>\n",
              "      <td>9</td>\n",
              "      <td>15</td>\n",
              "      <td>29</td>\n",
              "      <td>32</td>\n",
              "    </tr>\n",
              "    <tr>\n",
              "      <th>18</th>\n",
              "      <td>0</td>\n",
              "      <td>34</td>\n",
              "      <td>63</td>\n",
              "      <td>86</td>\n",
              "      <td>41</td>\n",
              "      <td>21</td>\n",
              "      <td>72</td>\n",
              "      <td>57</td>\n",
              "      <td>8</td>\n",
              "      <td>15</td>\n",
              "      <td>39</td>\n",
              "      <td>0</td>\n",
              "      <td>0</td>\n",
              "      <td>0</td>\n",
              "      <td>135</td>\n",
              "      <td>255</td>\n",
              "      <td>235</td>\n",
              "      <td>245</td>\n",
              "      <td>141</td>\n",
              "      <td>0</td>\n",
              "      <td>6</td>\n",
              "      <td>24</td>\n",
              "      <td>45</td>\n",
              "      <td>7</td>\n",
              "      <td>36</td>\n",
              "      <td>72</td>\n",
              "      <td>51</td>\n",
              "      <td>24</td>\n",
              "    </tr>\n",
              "    <tr>\n",
              "      <th>19</th>\n",
              "      <td>0</td>\n",
              "      <td>0</td>\n",
              "      <td>0</td>\n",
              "      <td>4</td>\n",
              "      <td>25</td>\n",
              "      <td>40</td>\n",
              "      <td>66</td>\n",
              "      <td>78</td>\n",
              "      <td>44</td>\n",
              "      <td>35</td>\n",
              "      <td>85</td>\n",
              "      <td>73</td>\n",
              "      <td>40</td>\n",
              "      <td>63</td>\n",
              "      <td>43</td>\n",
              "      <td>0</td>\n",
              "      <td>0</td>\n",
              "      <td>0</td>\n",
              "      <td>6</td>\n",
              "      <td>69</td>\n",
              "      <td>35</td>\n",
              "      <td>95</td>\n",
              "      <td>88</td>\n",
              "      <td>17</td>\n",
              "      <td>35</td>\n",
              "      <td>28</td>\n",
              "      <td>12</td>\n",
              "      <td>0</td>\n",
              "    </tr>\n",
              "    <tr>\n",
              "      <th>20</th>\n",
              "      <td>0</td>\n",
              "      <td>0</td>\n",
              "      <td>0</td>\n",
              "      <td>0</td>\n",
              "      <td>0</td>\n",
              "      <td>0</td>\n",
              "      <td>0</td>\n",
              "      <td>0</td>\n",
              "      <td>0</td>\n",
              "      <td>0</td>\n",
              "      <td>0</td>\n",
              "      <td>0</td>\n",
              "      <td>0</td>\n",
              "      <td>0</td>\n",
              "      <td>0</td>\n",
              "      <td>0</td>\n",
              "      <td>0</td>\n",
              "      <td>0</td>\n",
              "      <td>0</td>\n",
              "      <td>0</td>\n",
              "      <td>0</td>\n",
              "      <td>0</td>\n",
              "      <td>0</td>\n",
              "      <td>0</td>\n",
              "      <td>0</td>\n",
              "      <td>0</td>\n",
              "      <td>0</td>\n",
              "      <td>0</td>\n",
              "    </tr>\n",
              "    <tr>\n",
              "      <th>21</th>\n",
              "      <td>0</td>\n",
              "      <td>0</td>\n",
              "      <td>0</td>\n",
              "      <td>0</td>\n",
              "      <td>0</td>\n",
              "      <td>0</td>\n",
              "      <td>0</td>\n",
              "      <td>0</td>\n",
              "      <td>0</td>\n",
              "      <td>0</td>\n",
              "      <td>0</td>\n",
              "      <td>0</td>\n",
              "      <td>0</td>\n",
              "      <td>0</td>\n",
              "      <td>0</td>\n",
              "      <td>0</td>\n",
              "      <td>0</td>\n",
              "      <td>0</td>\n",
              "      <td>0</td>\n",
              "      <td>0</td>\n",
              "      <td>0</td>\n",
              "      <td>0</td>\n",
              "      <td>0</td>\n",
              "      <td>0</td>\n",
              "      <td>0</td>\n",
              "      <td>0</td>\n",
              "      <td>0</td>\n",
              "      <td>0</td>\n",
              "    </tr>\n",
              "    <tr>\n",
              "      <th>22</th>\n",
              "      <td>0</td>\n",
              "      <td>0</td>\n",
              "      <td>0</td>\n",
              "      <td>0</td>\n",
              "      <td>0</td>\n",
              "      <td>0</td>\n",
              "      <td>0</td>\n",
              "      <td>0</td>\n",
              "      <td>0</td>\n",
              "      <td>0</td>\n",
              "      <td>0</td>\n",
              "      <td>0</td>\n",
              "      <td>0</td>\n",
              "      <td>0</td>\n",
              "      <td>0</td>\n",
              "      <td>0</td>\n",
              "      <td>0</td>\n",
              "      <td>0</td>\n",
              "      <td>0</td>\n",
              "      <td>0</td>\n",
              "      <td>0</td>\n",
              "      <td>0</td>\n",
              "      <td>0</td>\n",
              "      <td>0</td>\n",
              "      <td>0</td>\n",
              "      <td>0</td>\n",
              "      <td>0</td>\n",
              "      <td>0</td>\n",
              "    </tr>\n",
              "    <tr>\n",
              "      <th>23</th>\n",
              "      <td>0</td>\n",
              "      <td>0</td>\n",
              "      <td>0</td>\n",
              "      <td>0</td>\n",
              "      <td>0</td>\n",
              "      <td>0</td>\n",
              "      <td>0</td>\n",
              "      <td>0</td>\n",
              "      <td>0</td>\n",
              "      <td>0</td>\n",
              "      <td>0</td>\n",
              "      <td>0</td>\n",
              "      <td>0</td>\n",
              "      <td>0</td>\n",
              "      <td>0</td>\n",
              "      <td>0</td>\n",
              "      <td>0</td>\n",
              "      <td>0</td>\n",
              "      <td>0</td>\n",
              "      <td>0</td>\n",
              "      <td>0</td>\n",
              "      <td>0</td>\n",
              "      <td>0</td>\n",
              "      <td>0</td>\n",
              "      <td>0</td>\n",
              "      <td>0</td>\n",
              "      <td>0</td>\n",
              "      <td>0</td>\n",
              "    </tr>\n",
              "    <tr>\n",
              "      <th>24</th>\n",
              "      <td>0</td>\n",
              "      <td>0</td>\n",
              "      <td>0</td>\n",
              "      <td>0</td>\n",
              "      <td>0</td>\n",
              "      <td>0</td>\n",
              "      <td>0</td>\n",
              "      <td>0</td>\n",
              "      <td>0</td>\n",
              "      <td>0</td>\n",
              "      <td>0</td>\n",
              "      <td>0</td>\n",
              "      <td>0</td>\n",
              "      <td>0</td>\n",
              "      <td>0</td>\n",
              "      <td>0</td>\n",
              "      <td>0</td>\n",
              "      <td>0</td>\n",
              "      <td>0</td>\n",
              "      <td>0</td>\n",
              "      <td>0</td>\n",
              "      <td>0</td>\n",
              "      <td>0</td>\n",
              "      <td>0</td>\n",
              "      <td>0</td>\n",
              "      <td>0</td>\n",
              "      <td>0</td>\n",
              "      <td>0</td>\n",
              "    </tr>\n",
              "    <tr>\n",
              "      <th>25</th>\n",
              "      <td>0</td>\n",
              "      <td>0</td>\n",
              "      <td>0</td>\n",
              "      <td>0</td>\n",
              "      <td>0</td>\n",
              "      <td>0</td>\n",
              "      <td>0</td>\n",
              "      <td>0</td>\n",
              "      <td>0</td>\n",
              "      <td>0</td>\n",
              "      <td>0</td>\n",
              "      <td>0</td>\n",
              "      <td>0</td>\n",
              "      <td>0</td>\n",
              "      <td>0</td>\n",
              "      <td>0</td>\n",
              "      <td>0</td>\n",
              "      <td>0</td>\n",
              "      <td>0</td>\n",
              "      <td>0</td>\n",
              "      <td>0</td>\n",
              "      <td>0</td>\n",
              "      <td>0</td>\n",
              "      <td>0</td>\n",
              "      <td>0</td>\n",
              "      <td>0</td>\n",
              "      <td>0</td>\n",
              "      <td>0</td>\n",
              "    </tr>\n",
              "    <tr>\n",
              "      <th>26</th>\n",
              "      <td>0</td>\n",
              "      <td>0</td>\n",
              "      <td>0</td>\n",
              "      <td>0</td>\n",
              "      <td>0</td>\n",
              "      <td>0</td>\n",
              "      <td>0</td>\n",
              "      <td>0</td>\n",
              "      <td>0</td>\n",
              "      <td>0</td>\n",
              "      <td>0</td>\n",
              "      <td>0</td>\n",
              "      <td>0</td>\n",
              "      <td>0</td>\n",
              "      <td>0</td>\n",
              "      <td>0</td>\n",
              "      <td>0</td>\n",
              "      <td>0</td>\n",
              "      <td>0</td>\n",
              "      <td>0</td>\n",
              "      <td>0</td>\n",
              "      <td>0</td>\n",
              "      <td>0</td>\n",
              "      <td>0</td>\n",
              "      <td>0</td>\n",
              "      <td>0</td>\n",
              "      <td>0</td>\n",
              "      <td>0</td>\n",
              "    </tr>\n",
              "    <tr>\n",
              "      <th>27</th>\n",
              "      <td>0</td>\n",
              "      <td>0</td>\n",
              "      <td>0</td>\n",
              "      <td>0</td>\n",
              "      <td>0</td>\n",
              "      <td>0</td>\n",
              "      <td>0</td>\n",
              "      <td>0</td>\n",
              "      <td>0</td>\n",
              "      <td>0</td>\n",
              "      <td>0</td>\n",
              "      <td>0</td>\n",
              "      <td>0</td>\n",
              "      <td>0</td>\n",
              "      <td>0</td>\n",
              "      <td>0</td>\n",
              "      <td>0</td>\n",
              "      <td>0</td>\n",
              "      <td>0</td>\n",
              "      <td>0</td>\n",
              "      <td>0</td>\n",
              "      <td>0</td>\n",
              "      <td>0</td>\n",
              "      <td>0</td>\n",
              "      <td>0</td>\n",
              "      <td>0</td>\n",
              "      <td>0</td>\n",
              "      <td>0</td>\n",
              "    </tr>\n",
              "  </tbody>\n",
              "</table>\n",
              "</div>"
            ],
            "text/plain": [
              "    0    1    2    3    4    5    6   ...   21   22   23   24   25   26  27\n",
              "0    0    0    0    0    0    0    0  ...    0    0    0    0    0    0   0\n",
              "1    0    0    0    0    0    0    0  ...    0    0    0    0    0    0   0\n",
              "2    0    0    0    0    0    0    0  ...    0    0    0    0    0    0   0\n",
              "3    0    0    0    0    0    0    0  ...    0    0    0    0    0    0   0\n",
              "4    0    0    0    0    0    0    0  ...    0    0    0    0    0    0   0\n",
              "5    0    0    0    0    0    0    0  ...    0    0    0    0    0    0   0\n",
              "6    0    0    0    0    0    0    0  ...    0    0    0    0    0    0   0\n",
              "7    0    0    0    0    0    0    0  ...    0    0    0    0    0    0   0\n",
              "8    0    0    0    0    0    0    0  ...    2    2    3    2    6    0   0\n",
              "9    0    0    0    0    0    0    0  ...    0    2    3    0    0    0   0\n",
              "10   0    0    0    0    0    0    0  ...    0    0    0    0    2    0   0\n",
              "11   0    0    0    0    0    0    2  ...    0   45  119  199  227   51   0\n",
              "12   0    2    5    5    3    0    0  ...  237  213  221  195  230  177   0\n",
              "13   0    0    0    0    0    0    2  ...  197  192  170  151  207  221   0\n",
              "14   0    0   37   90  125  158  193  ...  195  198  248  209  209  223  40\n",
              "15  75  255  206  218  222  204  204  ...    0    0   72  149    0   58  38\n",
              "16  39   38    0   28  185  226  173  ...    0    0    0    0    0    0   0\n",
              "17  39   33   42    0    0    0    0  ...    3    1   12    9   15   29  32\n",
              "18   0   34   63   86   41   21   72  ...   24   45    7   36   72   51  24\n",
              "19   0    0    0    4   25   40   66  ...   95   88   17   35   28   12   0\n",
              "20   0    0    0    0    0    0    0  ...    0    0    0    0    0    0   0\n",
              "21   0    0    0    0    0    0    0  ...    0    0    0    0    0    0   0\n",
              "22   0    0    0    0    0    0    0  ...    0    0    0    0    0    0   0\n",
              "23   0    0    0    0    0    0    0  ...    0    0    0    0    0    0   0\n",
              "24   0    0    0    0    0    0    0  ...    0    0    0    0    0    0   0\n",
              "25   0    0    0    0    0    0    0  ...    0    0    0    0    0    0   0\n",
              "26   0    0    0    0    0    0    0  ...    0    0    0    0    0    0   0\n",
              "27   0    0    0    0    0    0    0  ...    0    0    0    0    0    0   0\n",
              "\n",
              "[28 rows x 28 columns]"
            ]
          },
          "metadata": {
            "tags": []
          }
        }
      ]
    },
    {
      "cell_type": "markdown",
      "metadata": {
        "id": "tL6EIWCBWQEv",
        "colab_type": "text"
      },
      "source": [
        "このコードのポイント：\n",
        "\n",
        "- 表データのサンプル出力では、文字列出力用の`print()`関数ではなく、整形描画用の`display()`関数を利用している。\n",
        "  - Colabでは、組み込みオブジェクトに含まれているため、`display()`の記述だけで[`IPython.display.display()`関数](https://ipython.readthedocs.io/en/stable/api/generated/IPython.display.html#IPython.display.display)を使える\n",
        "- データが0～255（8bitグレースケール）で表現されていることに着目。\n",
        "  - 白「0」～黒「255」の256段階（※[MNIST DATABASEファイルフォーマットの定義](http://yann.lecun.com/exdb/mnist/)に基づく）\n",
        "  - つまり画像を描画するときには、白（0）と黒（255）のカラーマップを使う必要がある（リスト1の「cmap=plt.cm.binary」がそれに該当）\n",
        "  - RBGで作るグレースケールでは0が黒で、255が白となり逆なので注意してほしい。RBGの方が分かりやすく白黒を逆転させたい場合はリスト1を「cmap=plt.cm.gray」にすればよい（RBGに沿った方が分かりやすいので、この方式を採用したチュートリアルやサンプルも多い）"
      ]
    },
    {
      "cell_type": "markdown",
      "metadata": {
        "id": "AuG5Lazmbz6u",
        "colab_type": "text"
      },
      "source": [
        "### リスト1-3　入力データの正規化（Normalization）"
      ]
    },
    {
      "cell_type": "code",
      "metadata": {
        "id": "4krO4s19qvdg",
        "colab_type": "code",
        "colab": {}
      },
      "source": [
        "X_train = X_train / 255.0\n",
        "X_test = X_test / 255.0"
      ],
      "execution_count": 0,
      "outputs": []
    },
    {
      "cell_type": "markdown",
      "metadata": {
        "id": "2sUiS6zbcGI1",
        "colab_type": "text"
      },
      "source": [
        "このコードのポイント：\n",
        "\n",
        "- 正規化（Normalization）： トレーニングデータの値が0～1などの指定範囲に収まるように、値を加工するテクニック\n",
        "- 行列データの個々の値を255で割っている。\n",
        "- リスト1-2で示したように元データは白「0」～黒「255」の256段階となっている。これを、ニューラルネットワークで処理しやすいように、白「0.0」～黒「1.0」の範囲に変換している。\n",
        "- 訓練用データセットとテスト用データセットは、同じように前処理することが重要。"
      ]
    },
    {
      "cell_type": "markdown",
      "metadata": {
        "id": "skhxL2z_-pFd",
        "colab_type": "text"
      },
      "source": [
        "## ■（2）モデルの定義"
      ]
    },
    {
      "cell_type": "markdown",
      "metadata": {
        "id": "GXKTWOsbpkEx",
        "colab_type": "text"
      },
      "source": [
        "既に何度か説明しているが、以下の通りで進めていく。\n",
        "- `tf.keras.Model`クラスを**サブクラス化**してモデルを定義する（**初中級者以上にお勧め**）\n",
        "- tf.kerasの基本である`compile()`＆`fit()`メソッドを使用する（今回はカスタムループの実装は不要なため）"
      ]
    },
    {
      "cell_type": "markdown",
      "metadata": {
        "id": "AheAnrhTpndh",
        "colab_type": "text"
      },
      "source": [
        "### ●ディープニューラルネットワークのモデル設計\n",
        "- 入力の数（`INPUT_FEATURES`）は、**28行**×**28列**（＝784）になっているので、フラット化（Flatten）して**784個**\n",
        "- 隠れ層のレイヤー数は、**2つ**\n",
        "  - 隠れ層にある1つ目のニューロンの数（`LAYER1_NEURONS`）は、**128個**\n",
        "  - 隠れ層にある2つ目のニューロンの数（`LAYER2_NEURONS`）は、**32個**\n",
        "- 出力層にあるニューロンの数（`OUTPUT_RESULTS`）は、**10個**"
      ]
    },
    {
      "cell_type": "markdown",
      "metadata": {
        "id": "7q-k3jXY-0b-",
        "colab_type": "text"
      },
      "source": [
        "### リスト2-1　モデルの定義"
      ]
    },
    {
      "cell_type": "code",
      "metadata": {
        "id": "Zb9NtcpI-3up",
        "colab_type": "code",
        "colab": {}
      },
      "source": [
        "import tensorflow as tf  # ライブラリ「TensorFlow」のtensorflowパッケージをインポート\n",
        "from tensorflow.keras import layers    # レイヤー関連モジュールのインポート\n",
        "from IPython.display import Image\n",
        "\n",
        "# 定数（モデル定義時に必要となるもの）\n",
        "INPUT_ROWS = 28         # 入力行の数： 28行\n",
        "INPUT_COLS = 28         # 入力列の数： 28列\n",
        "                        # 入力（特徴）の数： 784（＝28行×28列）\n",
        "LAYER1_NEURONS = 128    # ニューロンの数： 128\n",
        "LAYER2_NEURONS = 32     # ニューロンの数： 32\n",
        "OUTPUT_RESULTS = 10     # 出力結果の数： 10（＝「0」～「9」の10クラスに分類）\n",
        "#OUTPUT_RESULTS = 1     # 後述する二値分類の場合： 1（＝「0.0」～「1.0」の2値に分類）\n",
        "\n",
        "# 過学習対策でドロップアウトを使う場合はコメントオフ：\n",
        "#DROPOUT1_RATE = 0.2     # 第1隠れ層から第2隠れ層へのドロップ率： 0.2（20％）\n",
        "\n",
        "# 変数（モデル定義時に必要となるもの）\n",
        "activation1 = layers.ReLU(name='activation1')  # 活性化関数（隠れ層用）： ReLU関数（変更可能）\n",
        "activation2 = layers.ReLU(name='activation2')  # 活性化関数（隠れ層用）： ReLU関数（変更可能）\n",
        "act_output = layers.Softmax(name='act_output') # 活性化関数（出力層用）： Softmax関数（固定）\n",
        "\n",
        "# tf.keras.Modelによるモデルの定義\n",
        "class NeuralNetwork(tf.keras.Model):\n",
        "\n",
        "  # レイヤー（層）を定義\n",
        "  def __init__(self):\n",
        "    super(NeuralNetwork, self).__init__()\n",
        "\n",
        "    # 入力層：入力データのフラット化（Flatten）\n",
        "    self.flatten_input = layers.Flatten(    # 行列データのフラット化\n",
        "      input_shape=(INPUT_ROWS, INPUT_COLS), # 入力の形状（＝入力層）※タプル形式\n",
        "      name='flatten_input')\n",
        " \n",
        "    # 隠れ層：1つ目のレイヤー（layer）\n",
        "    self.layer1 = layers.Dense(       # 全結合層（線形変換）\n",
        "      # 入力ユニット数は、前の出力ユニット数が使われるので、指定不要\n",
        "      LAYER1_NEURONS,                 # 次のレイヤーへの出力ユニット数\n",
        "      name='layer1')\n",
        "\n",
        "    # 第1レイヤーの後でドロップアウトを使う場合はコメントオフ：\n",
        "    #self.dropput1 = layers.Dropout(  # ドロップアウト\n",
        "    #  DROPOUT1_RATE,                 # 何％ドロップするか\n",
        "    #  name='dropput1')\n",
        "    \n",
        "    # 隠れ層：2つ目のレイヤー（layer）\n",
        "    self.layer2 = layers.Dense(       # 全結合層\n",
        "      LAYER2_NEURONS,                 # 次のレイヤーへの出力ユニット数\n",
        "      name='layer2')\n",
        "\n",
        "    # 出力層\n",
        "    self.layer_out = layers.Dense(    # 全結合層\n",
        "      OUTPUT_RESULTS,                 # 出力結果への出力ユニット数\n",
        "      name='layer_out')\n",
        "\n",
        "  # フォワードパスを定義\n",
        "  def call(self, x, train_mode=True):\n",
        "    x = self.flatten_input(x)         # 入力データのフラット化\n",
        "\n",
        "    # 「出力＝活性化関数（第n層（入力））」の形式で記述\n",
        "    x = activation1(self.layer1(x))   # 活性化関数は変数として定義\n",
        "\n",
        "    #ドロップアウトを使う場合はコメントオフ：\n",
        "    #if train_mode:                   # 訓練時のみ……\n",
        "    #  x = self.dropput2(x)           # ……ドロップアウト（不活性化）\n",
        "\n",
        "    x = activation2(self.layer2(x))   # 活性化関数は変数として定義\n",
        "\n",
        "    x = act_output(self.layer_out(x)) # ※活性化関数は「softmax」固定\n",
        "    return x\n",
        "\n",
        "  # モデル内容の出力を行う独自メソッド\n",
        "  def get_static_model(self):\n",
        "    x = layers.Input(shape=(28,28), name='input_features')\n",
        "    static_model = tf.keras.Model(inputs=[x], outputs=self.call(x)) \n",
        "    return static_model"
      ],
      "execution_count": 0,
      "outputs": []
    },
    {
      "cell_type": "markdown",
      "metadata": {
        "id": "bBhXWrJLt2HJ",
        "colab_type": "text"
      },
      "source": [
        "このコードのポイント：\n",
        "- このコードは、「[第5回　お勧めの、TensorFlow 2.0最新の書き方入門（エキスパート向け） (1/2)：TensorFlow 2＋Keras（tf.keras）入門 - ＠IT](https://www.atmarkit.co.jp/ait/articles/2003/10/news016.html)」で説明したものとほぼ同じ書き方（サブクラス型）である\n",
        "- ニューラルネットワークモデルの定義方法は、「[第2回　ニューラルネットワーク最速入門 ― 仕組み理解×初実装（中編）：TensorFlow 2＋Keras（tf.keras）入門 - ＠IT](https://www.atmarkit.co.jp/ait/articles/1910/17/news026.html)」で説明した通り\n",
        "- 隠れ層の活性化関数は、最も一般的な[ReLU関数](https://www.atmarkit.co.jp/ait/articles/2003/11/news016.html)を使用した（前回までは基礎的なTanh関数を使っていた）\n",
        "- 過学習を防ぐために、ドロップアウト層（ドロップ率：50％）を最後に挿入した\n",
        "- 出力層の活性化関数は、多クラス分類時に一般的な[ソフトマックス関数](https://www.atmarkit.co.jp/ait/articles/2004/08/news016.html)を指定している。セットで、損失関数には多クラス用の交差エントロピーを使う（後述）\n",
        "- `get_functional_model()`メソッドは、次のリスト2-2でモデル内容を描画するために用意した独自の関数である（本来の処理には不要）"
      ]
    },
    {
      "cell_type": "markdown",
      "metadata": {
        "id": "5G9D2rzAtIxe",
        "colab_type": "text"
      },
      "source": [
        "### リスト2-2　モデル内容（図）の確認"
      ]
    },
    {
      "cell_type": "code",
      "metadata": {
        "id": "8zI98WYZtD1l",
        "colab_type": "code",
        "colab": {
          "base_uri": "https://localhost:8080/",
          "height": 865
        },
        "outputId": "fb2db8f1-e17e-4670-9818-54ef8d7cf1e3"
      },
      "source": [
        "# モデル（NeuralNetworkクラス）のインスタンス化\n",
        "model = NeuralNetwork()\n",
        "\n",
        "# モデル概要の図を描画する\n",
        "f_model = model.get_static_model()\n",
        "filename = 'model.png';\n",
        "tf.keras.utils.plot_model(f_model, show_shapes=True, show_layer_names=True, to_file=filename)\n",
        "from IPython.display import Image\n",
        "Image(retina=False, filename=filename) # 図で描画\n",
        "#f_model.summary()                     # テキストで出力"
      ],
      "execution_count": 113,
      "outputs": [
        {
          "output_type": "execute_result",
          "data": {
            "image/png": "[encoded data removed]",
            "text/plain": [
              "<IPython.core.display.Image object>"
            ]
          },
          "metadata": {
            "tags": []
          },
          "execution_count": 113
        }
      ]
    },
    {
      "cell_type": "markdown",
      "metadata": {
        "id": "a_1u4ewS-83C",
        "colab_type": "text"
      },
      "source": [
        "## ■（3）学習／最適化（オプティマイザー）"
      ]
    },
    {
      "cell_type": "markdown",
      "metadata": {
        "id": "v69Ge8dD-_2B",
        "colab_type": "text"
      },
      "source": [
        "### リスト3-1　学習方法（損失関数／最適化／学習率）の定義"
      ]
    },
    {
      "cell_type": "code",
      "metadata": {
        "id": "nTb0JVIddXG4",
        "colab_type": "code",
        "colab": {}
      },
      "source": [
        "# 定数（学習方法設計時に必要となる数値）\n",
        "LOSS = 'sparse_categorical_crossentropy'  # 損失関数：多クラス分類用の交差エントロピー\n",
        "METRICS = ['accuracy']                    # 評価関数：正解率\n",
        "OPTIMIZER = tf.keras.optimizers.Adam      # 最適化：Adam\n",
        "LEARNING_RATE = 0.001                     # 学習率： 0.001（学習率の調整）\n",
        "\n",
        "# 学習方法を定義する\n",
        "model.compile(optimizer=OPTIMIZER(learning_rate=LEARNING_RATE),\n",
        "              loss=LOSS,\n",
        "              metrics=METRICS)            # 精度（分類では正解率。回帰では損失）"
      ],
      "execution_count": 0,
      "outputs": []
    },
    {
      "cell_type": "markdown",
      "metadata": {
        "id": "gm2y1LwbzKFx",
        "colab_type": "text"
      },
      "source": [
        "このコードのポイント：\n",
        "- 損失関数には、ソフトマックス活性化関数とセットになる、交差エントロピーを指定している。\n",
        "- 評価関数としては、分類の場合は来歩的に正解率（Accracy）を見る\n",
        "- 最適化アルゴリズムには、最も一般的なAdamを使用した（前回までは基礎的なSGDを使っていた）\n",
        "- 学習率は0.001に調整した"
      ]
    },
    {
      "cell_type": "markdown",
      "metadata": {
        "id": "v6w_aW7bvf7Y",
        "colab_type": "text"
      },
      "source": [
        "### リスト3-2　トレーニング（ミニバッチ学習）"
      ]
    },
    {
      "cell_type": "code",
      "metadata": {
        "id": "T9xT4uC6kR8u",
        "colab_type": "code",
        "outputId": "e5e14287-f0f0-4221-abcb-4f2c82f88eb6",
        "colab": {
          "base_uri": "https://localhost:8080/",
          "height": 1000
        }
      },
      "source": [
        "# 定数（ミニバッチ学習時に必要となるもの）\n",
        "BATCH_SIZE = 96   # バッチサイズ： 96\n",
        "EPOCHS = 100      # エポック数： 100\n",
        "\n",
        "# 早期終了\n",
        "#es = tf.keras.callbacks.EarlyStopping(monitor='val_loss', patience=3)\n",
        "\n",
        "# 学習する\n",
        "hist = model.fit(x=X_train,                          # 訓練用データ\n",
        "                 y=y_train,                          # 訓練用ラベル\n",
        "                 validation_split=0.2,               # 精度検証用の割合：20％\n",
        "                 batch_size=BATCH_SIZE,              # バッチサイズ\n",
        "                 epochs=EPOCHS,                      # エポック数\n",
        "                 verbose=1,                          # 実行状況表示\n",
        "                 callbacks=[])                       # コールバック（早期終了しない場合）\n",
        "                 #callbacks=[es])                    # コールバック（早期終了する場合）"
      ],
      "execution_count": 115,
      "outputs": [
        {
          "output_type": "stream",
          "text": [
            "Epoch 1/50\n",
            "3200/3200 [==============================] - 6s 2ms/step - loss: 1.9229 - accuracy: 0.3413 - val_loss: 1.4195 - val_accuracy: 0.3898\n",
            "Epoch 2/50\n",
            "3200/3200 [==============================] - 6s 2ms/step - loss: 1.3635 - accuracy: 0.4407 - val_loss: 1.4372 - val_accuracy: 0.4004\n",
            "Epoch 3/50\n",
            "3200/3200 [==============================] - 6s 2ms/step - loss: 1.1801 - accuracy: 0.5117 - val_loss: 1.0603 - val_accuracy: 0.5462\n",
            "Epoch 4/50\n",
            "3200/3200 [==============================] - 6s 2ms/step - loss: 1.0172 - accuracy: 0.5645 - val_loss: 0.9859 - val_accuracy: 0.5714\n",
            "Epoch 5/50\n",
            "3200/3200 [==============================] - 6s 2ms/step - loss: 0.9554 - accuracy: 0.5879 - val_loss: 0.9965 - val_accuracy: 0.5907\n",
            "Epoch 6/50\n",
            "3200/3200 [==============================] - 7s 2ms/step - loss: 0.9051 - accuracy: 0.6212 - val_loss: 1.0179 - val_accuracy: 0.6577\n",
            "Epoch 7/50\n",
            "3200/3200 [==============================] - 7s 2ms/step - loss: 0.7299 - accuracy: 0.7192 - val_loss: 0.6744 - val_accuracy: 0.7354\n",
            "Epoch 8/50\n",
            "3200/3200 [==============================] - 6s 2ms/step - loss: 0.6383 - accuracy: 0.7480 - val_loss: 0.6653 - val_accuracy: 0.7539\n",
            "Epoch 9/50\n",
            "3200/3200 [==============================] - 6s 2ms/step - loss: 0.6087 - accuracy: 0.7674 - val_loss: 0.6386 - val_accuracy: 0.7522\n",
            "Epoch 10/50\n",
            "3200/3200 [==============================] - 6s 2ms/step - loss: 0.5622 - accuracy: 0.7922 - val_loss: 0.5887 - val_accuracy: 0.8038\n",
            "Epoch 11/50\n",
            "3200/3200 [==============================] - 6s 2ms/step - loss: 0.5354 - accuracy: 0.8090 - val_loss: 0.7253 - val_accuracy: 0.7839\n",
            "Epoch 12/50\n",
            "3200/3200 [==============================] - 6s 2ms/step - loss: 0.4983 - accuracy: 0.8299 - val_loss: 0.5795 - val_accuracy: 0.8160\n",
            "Epoch 13/50\n",
            "3200/3200 [==============================] - 6s 2ms/step - loss: 0.4886 - accuracy: 0.8371 - val_loss: 0.5385 - val_accuracy: 0.8225\n",
            "Epoch 14/50\n",
            "3200/3200 [==============================] - 6s 2ms/step - loss: 0.4611 - accuracy: 0.8479 - val_loss: 0.5734 - val_accuracy: 0.8116\n",
            "Epoch 15/50\n",
            "3200/3200 [==============================] - 6s 2ms/step - loss: 0.4514 - accuracy: 0.8508 - val_loss: 0.5588 - val_accuracy: 0.8298\n",
            "Epoch 16/50\n",
            "3200/3200 [==============================] - 6s 2ms/step - loss: 0.4545 - accuracy: 0.8519 - val_loss: 0.5670 - val_accuracy: 0.8318\n",
            "Epoch 17/50\n",
            "3200/3200 [==============================] - 6s 2ms/step - loss: 0.4509 - accuracy: 0.8528 - val_loss: 0.5289 - val_accuracy: 0.8353\n",
            "Epoch 18/50\n",
            "3200/3200 [==============================] - 7s 2ms/step - loss: 0.4288 - accuracy: 0.8598 - val_loss: 0.5416 - val_accuracy: 0.8342\n",
            "Epoch 19/50\n",
            "3200/3200 [==============================] - 7s 2ms/step - loss: 0.4249 - accuracy: 0.8611 - val_loss: 0.5106 - val_accuracy: 0.8413\n",
            "Epoch 20/50\n",
            "3200/3200 [==============================] - 6s 2ms/step - loss: 0.4183 - accuracy: 0.8640 - val_loss: 0.5677 - val_accuracy: 0.8479\n",
            "Epoch 21/50\n",
            "3200/3200 [==============================] - 6s 2ms/step - loss: 0.4203 - accuracy: 0.8645 - val_loss: 0.5180 - val_accuracy: 0.8464\n",
            "Epoch 22/50\n",
            "3200/3200 [==============================] - 6s 2ms/step - loss: 0.4038 - accuracy: 0.8674 - val_loss: 0.5630 - val_accuracy: 0.8301\n",
            "Epoch 23/50\n",
            "3200/3200 [==============================] - 6s 2ms/step - loss: 0.3899 - accuracy: 0.8706 - val_loss: 0.4936 - val_accuracy: 0.8476\n",
            "Epoch 24/50\n",
            "3200/3200 [==============================] - 6s 2ms/step - loss: 0.3959 - accuracy: 0.8677 - val_loss: 0.5211 - val_accuracy: 0.8412\n",
            "Epoch 25/50\n",
            "3200/3200 [==============================] - 6s 2ms/step - loss: 0.3805 - accuracy: 0.8707 - val_loss: 0.5722 - val_accuracy: 0.8480\n",
            "Epoch 26/50\n",
            "3200/3200 [==============================] - 6s 2ms/step - loss: 0.3819 - accuracy: 0.8715 - val_loss: 0.5686 - val_accuracy: 0.8520\n",
            "Epoch 27/50\n",
            "3200/3200 [==============================] - 6s 2ms/step - loss: 0.3784 - accuracy: 0.8734 - val_loss: 0.5514 - val_accuracy: 0.8503\n",
            "Epoch 28/50\n",
            "3200/3200 [==============================] - 6s 2ms/step - loss: 0.3681 - accuracy: 0.8742 - val_loss: 0.5111 - val_accuracy: 0.8539\n",
            "Epoch 29/50\n",
            "3200/3200 [==============================] - 6s 2ms/step - loss: 0.3833 - accuracy: 0.8734 - val_loss: 0.5652 - val_accuracy: 0.8528\n",
            "Epoch 30/50\n",
            "3200/3200 [==============================] - 7s 2ms/step - loss: 0.3714 - accuracy: 0.8764 - val_loss: 0.5681 - val_accuracy: 0.8480\n",
            "Epoch 31/50\n",
            "3200/3200 [==============================] - 7s 2ms/step - loss: 0.3769 - accuracy: 0.8758 - val_loss: 0.5173 - val_accuracy: 0.8542\n",
            "Epoch 32/50\n",
            "3200/3200 [==============================] - 6s 2ms/step - loss: 0.3720 - accuracy: 0.8764 - val_loss: 0.5455 - val_accuracy: 0.8473\n",
            "Epoch 33/50\n",
            "3200/3200 [==============================] - 7s 2ms/step - loss: 0.3637 - accuracy: 0.8765 - val_loss: 0.5852 - val_accuracy: 0.8571\n",
            "Epoch 34/50\n",
            "3200/3200 [==============================] - 7s 2ms/step - loss: 0.3570 - accuracy: 0.8794 - val_loss: 0.6866 - val_accuracy: 0.8162\n",
            "Epoch 35/50\n",
            "3200/3200 [==============================] - 6s 2ms/step - loss: 0.3643 - accuracy: 0.8775 - val_loss: 0.5446 - val_accuracy: 0.8540\n",
            "Epoch 36/50\n",
            "3200/3200 [==============================] - 6s 2ms/step - loss: 0.3507 - accuracy: 0.8791 - val_loss: 0.5977 - val_accuracy: 0.8617\n",
            "Epoch 37/50\n",
            "3200/3200 [==============================] - 6s 2ms/step - loss: 0.3522 - accuracy: 0.8815 - val_loss: 0.6044 - val_accuracy: 0.8489\n",
            "Epoch 38/50\n",
            "3200/3200 [==============================] - 6s 2ms/step - loss: 0.3503 - accuracy: 0.8820 - val_loss: 0.5814 - val_accuracy: 0.8546\n",
            "Epoch 39/50\n",
            "3200/3200 [==============================] - 6s 2ms/step - loss: 0.3519 - accuracy: 0.8806 - val_loss: 0.6009 - val_accuracy: 0.8575\n",
            "Epoch 40/50\n",
            "3200/3200 [==============================] - 7s 2ms/step - loss: 0.3580 - accuracy: 0.8810 - val_loss: 0.5925 - val_accuracy: 0.8564\n",
            "Epoch 41/50\n",
            "3200/3200 [==============================] - 7s 2ms/step - loss: 0.3409 - accuracy: 0.8846 - val_loss: 0.6560 - val_accuracy: 0.8438\n",
            "Epoch 42/50\n",
            "3200/3200 [==============================] - 6s 2ms/step - loss: 0.3455 - accuracy: 0.8847 - val_loss: 0.6074 - val_accuracy: 0.8453\n",
            "Epoch 43/50\n",
            "3200/3200 [==============================] - 6s 2ms/step - loss: 0.3428 - accuracy: 0.8837 - val_loss: 0.5666 - val_accuracy: 0.8539\n",
            "Epoch 44/50\n",
            "3200/3200 [==============================] - 6s 2ms/step - loss: 0.3393 - accuracy: 0.8841 - val_loss: 0.8408 - val_accuracy: 0.8500\n",
            "Epoch 45/50\n",
            "3200/3200 [==============================] - 6s 2ms/step - loss: 0.3337 - accuracy: 0.8860 - val_loss: 0.6283 - val_accuracy: 0.8636\n",
            "Epoch 46/50\n",
            "3200/3200 [==============================] - 6s 2ms/step - loss: 0.3312 - accuracy: 0.8874 - val_loss: 0.6691 - val_accuracy: 0.8569\n",
            "Epoch 47/50\n",
            "3200/3200 [==============================] - 6s 2ms/step - loss: 0.3357 - accuracy: 0.8865 - val_loss: 0.6299 - val_accuracy: 0.8648\n",
            "Epoch 48/50\n",
            "3200/3200 [==============================] - 6s 2ms/step - loss: 0.3244 - accuracy: 0.8875 - val_loss: 0.6400 - val_accuracy: 0.8612\n",
            "Epoch 49/50\n",
            "3200/3200 [==============================] - 6s 2ms/step - loss: 0.3317 - accuracy: 0.8851 - val_loss: 0.7251 - val_accuracy: 0.8513\n",
            "Epoch 50/50\n",
            "3200/3200 [==============================] - 6s 2ms/step - loss: 0.3297 - accuracy: 0.8898 - val_loss: 0.6452 - val_accuracy: 0.8534\n"
          ],
          "name": "stdout"
        }
      ]
    },
    {
      "cell_type": "markdown",
      "metadata": {
        "id": "DCV5hWGUzO5j",
        "colab_type": "text"
      },
      "source": [
        "このコードのポイント：\n",
        "- 引数`validation_split`により、訓練データを訓練用と精度検証用に分割している"
      ]
    },
    {
      "cell_type": "markdown",
      "metadata": {
        "id": "ALm6PBC90y8-",
        "colab_type": "text"
      },
      "source": [
        "## ■（4）評価／精度検証"
      ]
    },
    {
      "cell_type": "markdown",
      "metadata": {
        "id": "m3kLUoZz2xai",
        "colab_type": "text"
      },
      "source": [
        "### リスト4-1　損失値／評価関数値の推移グラフ描画"
      ]
    },
    {
      "cell_type": "code",
      "metadata": {
        "id": "kgua8FbC_cv5",
        "colab_type": "code",
        "outputId": "9c6062e1-bf02-4948-f395-15bd6d99a219",
        "colab": {
          "base_uri": "https://localhost:8080/",
          "height": 545
        }
      },
      "source": [
        "import matplotlib.pyplot as plt\n",
        "\n",
        "# 学習結果（損失＝交差エントロピー）のグラフを描画\n",
        "plt.figure()\n",
        "train_loss = hist.history['loss']\n",
        "valid_loss = hist.history['val_loss']\n",
        "epochs = len(train_loss)\n",
        "plt.plot(range(epochs), train_loss, marker='.', label='loss (training data)')\n",
        "plt.plot(range(epochs), valid_loss, marker='.', label='loss (validation data)')\n",
        "plt.legend(loc='best')\n",
        "plt.grid()\n",
        "plt.xlabel('epoch')\n",
        "plt.ylabel('loss (cross entropy)')\n",
        "\n",
        "# 評価関数（正解率）のグラフを描画\n",
        "plt.figure()\n",
        "train_mae = hist.history['accuracy']\n",
        "valid_mae = hist.history['val_accuracy']\n",
        "epochs = len(train_mae)\n",
        "plt.plot(range(epochs), train_mae, marker='.', label='accuracy (training data)')\n",
        "plt.plot(range(epochs), valid_mae, marker='.', label='accuracy (validation data)')\n",
        "plt.legend(loc='best')\n",
        "plt.grid()\n",
        "plt.xlabel('epoch')\n",
        "plt.ylabel('accuracy')\n",
        "\n",
        "plt.show()"
      ],
      "execution_count": 116,
      "outputs": [
        {
          "output_type": "display_data",
          "data": {
            "image/png": "[encoded data removed]",
            "text/plain": [
              "<Figure size 432x288 with 1 Axes>"
            ]
          },
          "metadata": {
            "tags": [],
            "needs_background": "light"
          }
        },
        {
          "output_type": "display_data",
          "data": {
            "image/png": "[encoded data removed]",
            "text/plain": [
              "<Figure size 432x288 with 1 Axes>"
            ]
          },
          "metadata": {
            "tags": [],
            "needs_background": "light"
          }
        }
      ]
    },
    {
      "cell_type": "markdown",
      "metadata": {
        "id": "KobrlOG8_gM5",
        "colab_type": "text"
      },
      "source": [
        "実行結果のポイント：\n",
        "- 訓練データでは、常に損失が下がっている\n",
        "- しかし精度検証データを見ると、4エポック目あたりから逆に損失が上がってきている\n",
        "- つまり、4エポック目で訓練データにフィットしすぎる「過学習」が発生している\n",
        "- このような過学習を発見してハイパーパラメーターをチューニングするために、訓練データと精度検証データを分離しなければならない\n",
        "  - 精度検証をテストデータで行うと、最終的な汎化性能の評価が行えなくなるため、ディープラーニングではデータは3つに分割すべきだと本連載は主張している\n",
        "  - なお、重回帰分析のような統計学の場合、ハイパーパラメーターチューニングが基本的にないため、精度検証データを用意する必要は基本的にない。あくまでディープラーニングの話"
      ]
    },
    {
      "cell_type": "markdown",
      "metadata": {
        "id": "58I9A3Wp_jMh",
        "colab_type": "text"
      },
      "source": [
        "## ■（5）推論／未知データによるテスト"
      ]
    },
    {
      "cell_type": "markdown",
      "metadata": {
        "id": "SDQ41XHM_nCt",
        "colab_type": "text"
      },
      "source": [
        "### リスト5-1　未知データによるテスト（テストデータで評価）"
      ]
    },
    {
      "cell_type": "code",
      "metadata": {
        "id": "u9Y8FYQE_pjV",
        "colab_type": "code",
        "colab": {
          "base_uri": "https://localhost:8080/",
          "height": 51
        },
        "outputId": "07d5be5a-1220-48cd-a4f0-25089004bd9a"
      },
      "source": [
        "#BATCH_SIZE = 96   # バッチサイズ（リスト3-2で定義済み）\n",
        "\n",
        "# 未知のテストデータで学習済みモデルの汎化性能を評価\n",
        "score = model.evaluate(X_test, y_test, batch_size=BATCH_SIZE)\n",
        "print('test socre([loss, accuracy]):', score)\n",
        "\n",
        "# 出力例：\n",
        "# 80/80 [===……===] - 0s 931us/step - loss: 0.0375 - mae: 0.1453\n",
        "# test mae: 0.1452532261610031"
      ],
      "execution_count": 156,
      "outputs": [
        {
          "output_type": "stream",
          "text": [
            "105/105 [==============================] - 0s 2ms/step - loss: 0.6845 - accuracy: 0.8456\n",
            "test socre([loss, accuracy]): [0.684512734413147, 0.8456000089645386]\n"
          ],
          "name": "stdout"
        }
      ]
    },
    {
      "cell_type": "markdown",
      "metadata": {
        "id": "2dq_U6xUBFv0",
        "colab_type": "text"
      },
      "source": [
        "### リスト5-2　推論： 写真データを仮作成"
      ]
    },
    {
      "cell_type": "code",
      "metadata": {
        "id": "CksAROp5MiA1",
        "colab_type": "code",
        "colab": {
          "base_uri": "https://localhost:8080/",
          "height": 296
        },
        "outputId": "7436ef1b-36ea-4657-d619-7cb4e3ac51b4"
      },
      "source": [
        "import matplotlib.pyplot as plt  # グラフ描画ライブラリ（データ画像の表示に使用）\n",
        "#import pandas as pd # データ解析支援「pandas」\n",
        "\n",
        "temp_data = np.array([[  # 9番：アンクルブーツ\n",
        "  [  0,  0,  0,  0,  0,  0,  0,  0,  0,  0,  0,  0,  0,  3,  0,  0,  0,  0,  0,  0,  0,  0,  0,  0,  0,  0,  0,  0],\n",
        "  [  0,  0,  0,  0,  0,  0,  0,  0,  0,  0,  0,  0, 31,178,162,153,151,142,138, 65,  0,  0,  0,  0,  0,  0,  0,  0],\n",
        "  [  0,  0,  0,  0,  0,  0,  0,  0,  0,  0,  0,  0, 78,232,209,202,198,194,203,179, 97, 89, 73, 59, 47, 28,  0,  0],\n",
        "  [  0,  0,  0,  0,  0,  0,  0,  0,  0,  0,  0,  0,121,228,202,196,189,185,175,198,244,245,232,223,218,160,  4,  0],\n",
        "  [  0,  0,  0,  0,  0,  0,  0,  0,  0,  0,  0,  0,157,223,203,199,192,176,186,215,235,228,220,216,214,164,  8,  0],\n",
        "  [  0,  0,  0,  0,  0,  0,  0,  0,  0,  0,  0, 12,192,216,204,198,185,179,211,228,232,225,220,216,213,159,  6,  0],\n",
        "  [  0,  0,  0,  0,  0,  0,  0,  0,  0,  0,  0, 40,214,210,201,195,182,191,223,232,233,227,224,219,216,150,  2,  0],\n",
        "  [  0,  0,  0,  0,  0,  0,  0,  0,  0,  0,  0, 75,224,203,197,193,182,202,229,231,233,230,228,220,217,140,  0,  0],\n",
        "  [  0,  0,  0,  0,  0,  0,  0,  0,  0,  0,  0,113,228,198,188,188,187,208,229,230,234,232,230,220,215,164,  4,  0],\n",
        "  [  0,  0,  0,  0,  0,  0,  0,  0,  0,  0,  0,154,226,197,182,184,189,210,228,231,234,233,231,221,213,196, 35,  0],\n",
        "  [  0,  0,  0,  0,  0,  0,  0,  0,  0,  0, 10,190,219,193,183,184,190,210,228,232,234,233,232,223,212,211, 96,  0],\n",
        "  [  0,  0,  0,  0,  0,  0,  0,  0,  0,  0, 39,214,212,186,181,183,189,207,225,230,232,233,232,223,212,208,151,  2],\n",
        "  [  0,  0,  0,  0,  0,  0,  0,  0,  0,  0, 80,227,208,185,179,183,192,205,210,222,229,229,231,225,214,204,177, 21],\n",
        "  [  0,  0,  0,  0,  0,  0,  0,  0,  0,  0,122,229,206,185,180,184,192,196,192,215,226,232,234,226,215,205,177, 24],\n",
        "  [  0,  0,  0,  0,  0,  0,  0,  0,  0,  3,169,225,208,188,180,189,187,180,170,218,235,234,224,217,212,210,160, 10],\n",
        "  [  0,  0,  0,  0,  0,  0,  0,  0,  0, 38,212,220,206,179,179,190,186,173,182,229,229,220,213,211,210,207, 84,  0],\n",
        "  [  0,  0,  0,  0,  0,  0,  0,  0,  0,101,229,216,197,177,188,191,180,187,219,222,214,218,216,211,212,177, 19,  0],\n",
        "  [  0,  0,  0,  0,  0,  0,  0,  0,  5,174,226,211,190,179,189,191,189,215,217,213,216,167,174,211,210,131,  0,  0],\n",
        "  [  0,  0,  0,  0,  0,  0,  0,  0, 62,221,218,203,183,179,185,198,214,214,214,214, 96,  2, 25,198,214, 79,  0,  0],\n",
        "  [  0,  0,  0,  0,  0,  0,  0, 11,166,225,211,192,177,184,203,216,216,212,212, 69,  0,  0, 14,190,204, 34,  0,  0],\n",
        "  [  0,  0,  0,  0,  0,  0, 22,127,219,219,206,187,178,198,223,221,212,219, 86,  0,  0,  0, 11,190,181,  9,  0,  0],\n",
        "  [  0,  0,  0,  2, 33, 92,165,204,211,208,191,185,201,220,228,220,224,134,  0,  0,  0,  0, 14,198,157,  0,  0,  0],\n",
        "  [  0, 21,102,160,192,212,214,199,193,193,182,199,220,226,224,219,202, 26,  0,  0,  0,  0, 16,205,137,  0,  0,  0],\n",
        "  [ 44,193,227,222,217,212,205,190,183,186,198,225,230,228,218,224,111,  0,  0,  0,  0,  0, 17,209,122,  0,  0,  0],\n",
        "  [109,230,213,208,205,205,204,198,196,205,215,227,229,225,221,205, 24,  0,  0,  0,  0,  0, 15,208,113,  0,  0,  0],\n",
        "  [ 25,103,159,193,213,218,215,215,213,213,215,217,220,225,229, 97,  0,  3,  3,  3,  2,  0, 25,225,114,  0,  1,  0],\n",
        "  [  0,  0,  7, 44,100,150,177,192,203,209,212,215,216,198,110, 17, 15, 12, 10,  9,  8,  4, 30,153, 77,  1,  1,  1],\n",
        "  [  0,  0,  0,  0,  0,  0,  5, 15, 23, 31, 35, 37, 34, 17,  2,  4,  2,  1,  1,  1,  1,  1,  0,  0,  0,  0,  0,  0]\n",
        "  ]], dtype=float)\n",
        "\n",
        "print(temp_data.shape) # 多次元配列の形状： (1, 28, 28)\n",
        "\n",
        "# 図を描画\n",
        "plt.imshow(           # 画像を表示する\n",
        "  temp_data[0],        # 1つの訓練用入力データ（28行×28列）\n",
        "  cmap=plt.cm.binary) # 白黒（2値：バイナリ）の配色\n",
        "plt.xlabel('Ankle boot')  # X軸のラベルに分類名を表示\n",
        "plt.show()\n",
        "#display(pd.DataFrame(temp_data[0])) # 表形式で表示する場合"
      ],
      "execution_count": 258,
      "outputs": [
        {
          "output_type": "stream",
          "text": [
            "(1, 28, 28)\n"
          ],
          "name": "stdout"
        },
        {
          "output_type": "display_data",
          "data": {
            "image/png": "[encoded data removed]",
            "text/plain": [
              "<Figure size 432x288 with 1 Axes>"
            ]
          },
          "metadata": {
            "tags": [],
            "needs_background": "light"
          }
        }
      ]
    },
    {
      "cell_type": "markdown",
      "metadata": {
        "id": "0pSRm35OZSN8",
        "colab_type": "text"
      },
      "source": [
        "### リスト5-3　推論： 仮データを入力した場合の予測結果値の取得"
      ]
    },
    {
      "cell_type": "code",
      "metadata": {
        "id": "53eKDTTbknMB",
        "colab_type": "code",
        "colab": {
          "base_uri": "https://localhost:8080/",
          "height": 68
        },
        "outputId": "2a0370fc-1ae0-4e93-fb95-63e089c7fe40"
      },
      "source": [
        "import matplotlib.pyplot as plt  # グラフ描画ライブラリ（データ画像の表示に使用）\n",
        "\n",
        "# 推論（予測）する\n",
        "predictions = model.predict(temp_data)\n",
        "\n",
        "print(predictions)\n",
        "# 以下のように出力される（インデックス番号「9」が99.88％）\n",
        "# array([[1.50212283e-20, 1.48110773e-15, 1.04932664e-13, 2.96827862e-12,\n",
        "#         6.80513210e-08, 5.95744408e-04, 1.75191891e-18, 6.33274554e-04,\n",
        "#         6.95163068e-12, 9.98770893e-01]], dtype=float32)\n",
        "\n",
        "# 数値が最大のインデックス番号を取得（＝分類を決定する）\n",
        "pred_class = np.argmax(predictions)\n",
        "print(pred_class) # 9 （＝Ankle boot）……などと表示される"
      ],
      "execution_count": 259,
      "outputs": [
        {
          "output_type": "stream",
          "text": [
            "[[0.0000000e+00 4.6553826e-32 1.3390404e-32 3.0015204e-27 5.9939032e-19\n",
            "  7.2247941e-10 0.0000000e+00 1.1275127e-08 8.4482750e-27 1.0000000e+00]]\n",
            "9\n"
          ],
          "name": "stdout"
        }
      ]
    },
    {
      "cell_type": "markdown",
      "metadata": {
        "id": "sRkeBH5YZYOn",
        "colab_type": "text"
      },
      "source": [
        "### リスト5-4　推論： 予測結果を棒グラフで描画"
      ]
    },
    {
      "cell_type": "code",
      "metadata": {
        "id": "ax3RYQTkSbAY",
        "colab_type": "code",
        "colab": {
          "base_uri": "https://localhost:8080/",
          "height": 265
        },
        "outputId": "2deee154-60de-4317-c8f1-8cba54a4bd8a"
      },
      "source": [
        "x = range(10)  # 9, 8, 7, ……, 0\n",
        "thisplot = plt.barh(x, predictions[0])\n",
        "plt.xlim([0.0, 1.0]) \n",
        "classes_name = ['T-shirt/top [0]', 'Trouser [1]', 'Pullover [2]', \n",
        "                'Dress [3]', 'Coat [4]', 'Sandal [5]', 'Shirt [6]',\n",
        "                'Sneaker [7]', 'Bag [8]', 'Ankle boot [9]']\n",
        "plt.yticks(x, classes_name)  # X軸のラベル\n",
        "plt.gca().invert_yaxis()\n",
        "plt.show()"
      ],
      "execution_count": 260,
      "outputs": [
        {
          "output_type": "display_data",
          "data": {
            "image/png": "[encoded data removed]",
            "text/plain": [
              "<Figure size 432x288 with 1 Axes>"
            ]
          },
          "metadata": {
            "tags": [],
            "needs_background": "light"
          }
        }
      ]
    },
    {
      "cell_type": "markdown",
      "metadata": {
        "id": "wWmlUxrWBYSv",
        "colab_type": "text"
      },
      "source": [
        "実行結果のポイント：\n",
        "- 「0.2751151」と出力され、やや青色になっている"
      ]
    },
    {
      "cell_type": "markdown",
      "metadata": {
        "id": "E4mSTkCUodUv",
        "colab_type": "text"
      },
      "source": [
        "# 【二値分類編】----------"
      ]
    },
    {
      "cell_type": "markdown",
      "metadata": {
        "id": "nfnv7_TDB1yW",
        "colab_type": "text"
      },
      "source": [
        "- 上記と同様の手順から変更箇所のみ説明"
      ]
    },
    {
      "cell_type": "markdown",
      "metadata": {
        "id": "5TbNQuOvjG9P",
        "colab_type": "text"
      },
      "source": [
        "## ■（6）データの準備"
      ]
    },
    {
      "cell_type": "markdown",
      "metadata": {
        "id": "SyW76DVAjbMq",
        "colab_type": "text"
      },
      "source": [
        "手書き文字の画像データセットとして「[MNIST](https://www.atmarkit.co.jp/ait/articles/2001/22/news012.html)」を使用する。  \n",
        "![MNISTに含まれる画像データセットの例](https://image.itmedia.co.jp/ait/articles/2001/22/l_di-01.gif)"
      ]
    },
    {
      "cell_type": "markdown",
      "metadata": {
        "id": "YzHh04uejxZ2",
        "colab_type": "text"
      },
      "source": [
        "### リスト6-1　MNIST（手書き文字）画像データの取得"
      ]
    },
    {
      "cell_type": "code",
      "metadata": {
        "id": "aLAzOY38j0XP",
        "colab_type": "code",
        "colab": {
          "base_uri": "https://localhost:8080/",
          "height": 260
        },
        "outputId": "047bb128-8577-4cc3-ecc4-80de0cdcee16"
      },
      "source": [
        "# TensorFlowライブラリのtensorflowパッケージを「tf」という別名でインポート\n",
        "import tensorflow as tf\n",
        "import matplotlib.pyplot as plt  # グラフ描画ライブラリ（データ画像の表示に使用）\n",
        "import numpy as np               # 数値計算ライブラリ（データのシャッフルに使用）\n",
        "\n",
        "# Fashion-MNISTデータ（※NumPyの多次元配列型）を取得する\n",
        "(X_train, y_train), (X_test, y_test) = tf.keras.datasets.mnist.load_data()\n",
        "# データ分割は自動で、訓練用が6万枚、テスト用が1万枚（ホールドアウト法）。\n",
        "# さらにそれぞれを「入力データ（X：行列）」と「ラベル（y：ベクトル）」に分ける\n",
        "\n",
        "# データのフィルタリング\n",
        "b = np.where(y_train < 2)[0]  # 訓練データから「0」「1」の全インデックスの取得\n",
        "X_train, y_train = X_train[b], y_train[b]  # そのインデックス行を抽出（＝フィルタリング）\n",
        "c = np.where(y_test < 2)[0]   # テストデータから「0」「1」の全インデックスの取得\n",
        "X_test, y_test = X_test[c], y_test[c]      # そのインデックス行を抽出（＝フィルタリング）\n",
        "\n",
        "# ※訓練データは、学習時のfit関数で訓練用と精度検証用に分割する。\n",
        "# そのため、あらかじめ訓練データをシャッフルしておく\n",
        "p = np.random.permutation(len(X_train))    # ランダムなインデックス順の取得\n",
        "X_train, y_train = X_train[p], y_train[p]  # その順で全行を抽出する（＝シャッフル）\n",
        "\n",
        "# ［内容確認］データのうち、最初の10枚だけを表示\n",
        "classes_name = ['0', '1', '2', '3', '4', '5', '6', '7', '8', '9']\n",
        "plt.figure(figsize=(10,4))  # 横：10インチ、縦：4インチの図\n",
        "for i in range(10):\n",
        "  plt.subplot(2,5,i+1)  # 図内にある（sub）2行5列の描画領域（plot）の何番目かを指定\n",
        "  plt.xticks([])        # X軸の目盛りを表示しない\n",
        "  plt.yticks([])        # y軸の目盛りを表示しない\n",
        "  plt.grid(False)       # グリッド線を表示しない\n",
        "  plt.imshow(           # 画像を表示する\n",
        "    X_train[i],         # 1つの訓練用入力データ（28行×28列）\n",
        "    cmap=plt.cm.binary) # 白黒（2値：バイナリ）の配色\n",
        "  plt.xlabel(classes_name[y_train[i]])  # X軸のラベルに分類名を表示\n",
        "plt.show()"
      ],
      "execution_count": 271,
      "outputs": [
        {
          "output_type": "display_data",
          "data": {
            "image/png": "[encoded data removed]",
            "text/plain": [
              "<Figure size 720x288 with 10 Axes>"
            ]
          },
          "metadata": {
            "tags": []
          }
        }
      ]
    },
    {
      "cell_type": "markdown",
      "metadata": {
        "id": "NwFpmu25oLC8",
        "colab_type": "text"
      },
      "source": [
        "このコードのポイント：\n",
        "- `fashion_mnist.load_data()`を`mnist.load_data()`に変更\n",
        "- MNISTデータセットは、TensorFlowでは[`tf.keras.datasets.mnist.load_data()`関数](https://www.tensorflow.org/api_docs/python/tf/keras/datasets/mnist/load_data)で取得できる\n",
        "- `np.where()`関数を使って「0」と「1」の2値のみにフィルタリングをしている（それ以外の「2」～「9」は使わない）"
      ]
    },
    {
      "cell_type": "markdown",
      "metadata": {
        "id": "EDiyPWVToexp",
        "colab_type": "text"
      },
      "source": [
        "### リスト6-2　1つの画像データの内容確認"
      ]
    },
    {
      "cell_type": "code",
      "metadata": {
        "id": "1X63SGvWogmM",
        "colab_type": "code",
        "colab": {
          "base_uri": "https://localhost:8080/",
          "height": 951
        },
        "outputId": "c80389fb-89f7-46bf-b513-e062fc95a9e3"
      },
      "source": [
        "import pandas as pd # データ解析支援「pandas」\n",
        "\n",
        "# 1件の訓練データの、ラベルと入力データを表示する\n",
        "print('y_train（正解ラベル）: 「',y_train[0],'」');\n",
        "print('X_train:');\n",
        "display(pd.DataFrame(X_train[0])) # NumPy多次元配列をPandasデータフレームに変換して表示"
      ],
      "execution_count": 272,
      "outputs": [
        {
          "output_type": "stream",
          "text": [
            "y_train（正解ラベル）: 「 1 」\n",
            "X_train:\n"
          ],
          "name": "stdout"
        },
        {
          "output_type": "display_data",
          "data": {
            "text/html": [
              "<div>\n",
              "<style scoped>\n",
              "    .dataframe tbody tr th:only-of-type {\n",
              "        vertical-align: middle;\n",
              "    }\n",
              "\n",
              "    .dataframe tbody tr th {\n",
              "        vertical-align: top;\n",
              "    }\n",
              "\n",
              "    .dataframe thead th {\n",
              "        text-align: right;\n",
              "    }\n",
              "</style>\n",
              "<table border=\"1\" class=\"dataframe\">\n",
              "  <thead>\n",
              "    <tr style=\"text-align: right;\">\n",
              "      <th></th>\n",
              "      <th>0</th>\n",
              "      <th>1</th>\n",
              "      <th>2</th>\n",
              "      <th>3</th>\n",
              "      <th>4</th>\n",
              "      <th>5</th>\n",
              "      <th>6</th>\n",
              "      <th>7</th>\n",
              "      <th>8</th>\n",
              "      <th>9</th>\n",
              "      <th>10</th>\n",
              "      <th>11</th>\n",
              "      <th>12</th>\n",
              "      <th>13</th>\n",
              "      <th>14</th>\n",
              "      <th>15</th>\n",
              "      <th>16</th>\n",
              "      <th>17</th>\n",
              "      <th>18</th>\n",
              "      <th>19</th>\n",
              "      <th>20</th>\n",
              "      <th>21</th>\n",
              "      <th>22</th>\n",
              "      <th>23</th>\n",
              "      <th>24</th>\n",
              "      <th>25</th>\n",
              "      <th>26</th>\n",
              "      <th>27</th>\n",
              "    </tr>\n",
              "  </thead>\n",
              "  <tbody>\n",
              "    <tr>\n",
              "      <th>0</th>\n",
              "      <td>0</td>\n",
              "      <td>0</td>\n",
              "      <td>0</td>\n",
              "      <td>0</td>\n",
              "      <td>0</td>\n",
              "      <td>0</td>\n",
              "      <td>0</td>\n",
              "      <td>0</td>\n",
              "      <td>0</td>\n",
              "      <td>0</td>\n",
              "      <td>0</td>\n",
              "      <td>0</td>\n",
              "      <td>0</td>\n",
              "      <td>0</td>\n",
              "      <td>0</td>\n",
              "      <td>0</td>\n",
              "      <td>0</td>\n",
              "      <td>0</td>\n",
              "      <td>0</td>\n",
              "      <td>0</td>\n",
              "      <td>0</td>\n",
              "      <td>0</td>\n",
              "      <td>0</td>\n",
              "      <td>0</td>\n",
              "      <td>0</td>\n",
              "      <td>0</td>\n",
              "      <td>0</td>\n",
              "      <td>0</td>\n",
              "    </tr>\n",
              "    <tr>\n",
              "      <th>1</th>\n",
              "      <td>0</td>\n",
              "      <td>0</td>\n",
              "      <td>0</td>\n",
              "      <td>0</td>\n",
              "      <td>0</td>\n",
              "      <td>0</td>\n",
              "      <td>0</td>\n",
              "      <td>0</td>\n",
              "      <td>0</td>\n",
              "      <td>0</td>\n",
              "      <td>0</td>\n",
              "      <td>0</td>\n",
              "      <td>0</td>\n",
              "      <td>0</td>\n",
              "      <td>0</td>\n",
              "      <td>0</td>\n",
              "      <td>0</td>\n",
              "      <td>0</td>\n",
              "      <td>0</td>\n",
              "      <td>0</td>\n",
              "      <td>0</td>\n",
              "      <td>0</td>\n",
              "      <td>0</td>\n",
              "      <td>0</td>\n",
              "      <td>0</td>\n",
              "      <td>0</td>\n",
              "      <td>0</td>\n",
              "      <td>0</td>\n",
              "    </tr>\n",
              "    <tr>\n",
              "      <th>2</th>\n",
              "      <td>0</td>\n",
              "      <td>0</td>\n",
              "      <td>0</td>\n",
              "      <td>0</td>\n",
              "      <td>0</td>\n",
              "      <td>0</td>\n",
              "      <td>0</td>\n",
              "      <td>0</td>\n",
              "      <td>0</td>\n",
              "      <td>0</td>\n",
              "      <td>0</td>\n",
              "      <td>0</td>\n",
              "      <td>0</td>\n",
              "      <td>0</td>\n",
              "      <td>0</td>\n",
              "      <td>0</td>\n",
              "      <td>0</td>\n",
              "      <td>0</td>\n",
              "      <td>0</td>\n",
              "      <td>0</td>\n",
              "      <td>0</td>\n",
              "      <td>0</td>\n",
              "      <td>0</td>\n",
              "      <td>0</td>\n",
              "      <td>0</td>\n",
              "      <td>0</td>\n",
              "      <td>0</td>\n",
              "      <td>0</td>\n",
              "    </tr>\n",
              "    <tr>\n",
              "      <th>3</th>\n",
              "      <td>0</td>\n",
              "      <td>0</td>\n",
              "      <td>0</td>\n",
              "      <td>0</td>\n",
              "      <td>0</td>\n",
              "      <td>0</td>\n",
              "      <td>0</td>\n",
              "      <td>0</td>\n",
              "      <td>0</td>\n",
              "      <td>0</td>\n",
              "      <td>0</td>\n",
              "      <td>0</td>\n",
              "      <td>0</td>\n",
              "      <td>0</td>\n",
              "      <td>0</td>\n",
              "      <td>0</td>\n",
              "      <td>0</td>\n",
              "      <td>0</td>\n",
              "      <td>0</td>\n",
              "      <td>0</td>\n",
              "      <td>0</td>\n",
              "      <td>0</td>\n",
              "      <td>0</td>\n",
              "      <td>0</td>\n",
              "      <td>0</td>\n",
              "      <td>0</td>\n",
              "      <td>0</td>\n",
              "      <td>0</td>\n",
              "    </tr>\n",
              "    <tr>\n",
              "      <th>4</th>\n",
              "      <td>0</td>\n",
              "      <td>0</td>\n",
              "      <td>0</td>\n",
              "      <td>0</td>\n",
              "      <td>0</td>\n",
              "      <td>0</td>\n",
              "      <td>0</td>\n",
              "      <td>0</td>\n",
              "      <td>0</td>\n",
              "      <td>0</td>\n",
              "      <td>0</td>\n",
              "      <td>0</td>\n",
              "      <td>0</td>\n",
              "      <td>0</td>\n",
              "      <td>0</td>\n",
              "      <td>0</td>\n",
              "      <td>0</td>\n",
              "      <td>0</td>\n",
              "      <td>11</td>\n",
              "      <td>173</td>\n",
              "      <td>123</td>\n",
              "      <td>0</td>\n",
              "      <td>0</td>\n",
              "      <td>0</td>\n",
              "      <td>0</td>\n",
              "      <td>0</td>\n",
              "      <td>0</td>\n",
              "      <td>0</td>\n",
              "    </tr>\n",
              "    <tr>\n",
              "      <th>5</th>\n",
              "      <td>0</td>\n",
              "      <td>0</td>\n",
              "      <td>0</td>\n",
              "      <td>0</td>\n",
              "      <td>0</td>\n",
              "      <td>0</td>\n",
              "      <td>0</td>\n",
              "      <td>0</td>\n",
              "      <td>0</td>\n",
              "      <td>0</td>\n",
              "      <td>0</td>\n",
              "      <td>0</td>\n",
              "      <td>0</td>\n",
              "      <td>0</td>\n",
              "      <td>0</td>\n",
              "      <td>0</td>\n",
              "      <td>0</td>\n",
              "      <td>0</td>\n",
              "      <td>92</td>\n",
              "      <td>252</td>\n",
              "      <td>203</td>\n",
              "      <td>0</td>\n",
              "      <td>0</td>\n",
              "      <td>0</td>\n",
              "      <td>0</td>\n",
              "      <td>0</td>\n",
              "      <td>0</td>\n",
              "      <td>0</td>\n",
              "    </tr>\n",
              "    <tr>\n",
              "      <th>6</th>\n",
              "      <td>0</td>\n",
              "      <td>0</td>\n",
              "      <td>0</td>\n",
              "      <td>0</td>\n",
              "      <td>0</td>\n",
              "      <td>0</td>\n",
              "      <td>0</td>\n",
              "      <td>0</td>\n",
              "      <td>0</td>\n",
              "      <td>0</td>\n",
              "      <td>0</td>\n",
              "      <td>0</td>\n",
              "      <td>0</td>\n",
              "      <td>0</td>\n",
              "      <td>0</td>\n",
              "      <td>0</td>\n",
              "      <td>0</td>\n",
              "      <td>0</td>\n",
              "      <td>152</td>\n",
              "      <td>253</td>\n",
              "      <td>203</td>\n",
              "      <td>0</td>\n",
              "      <td>0</td>\n",
              "      <td>0</td>\n",
              "      <td>0</td>\n",
              "      <td>0</td>\n",
              "      <td>0</td>\n",
              "      <td>0</td>\n",
              "    </tr>\n",
              "    <tr>\n",
              "      <th>7</th>\n",
              "      <td>0</td>\n",
              "      <td>0</td>\n",
              "      <td>0</td>\n",
              "      <td>0</td>\n",
              "      <td>0</td>\n",
              "      <td>0</td>\n",
              "      <td>0</td>\n",
              "      <td>0</td>\n",
              "      <td>0</td>\n",
              "      <td>0</td>\n",
              "      <td>0</td>\n",
              "      <td>0</td>\n",
              "      <td>0</td>\n",
              "      <td>0</td>\n",
              "      <td>0</td>\n",
              "      <td>0</td>\n",
              "      <td>0</td>\n",
              "      <td>41</td>\n",
              "      <td>233</td>\n",
              "      <td>252</td>\n",
              "      <td>122</td>\n",
              "      <td>0</td>\n",
              "      <td>0</td>\n",
              "      <td>0</td>\n",
              "      <td>0</td>\n",
              "      <td>0</td>\n",
              "      <td>0</td>\n",
              "      <td>0</td>\n",
              "    </tr>\n",
              "    <tr>\n",
              "      <th>8</th>\n",
              "      <td>0</td>\n",
              "      <td>0</td>\n",
              "      <td>0</td>\n",
              "      <td>0</td>\n",
              "      <td>0</td>\n",
              "      <td>0</td>\n",
              "      <td>0</td>\n",
              "      <td>0</td>\n",
              "      <td>0</td>\n",
              "      <td>0</td>\n",
              "      <td>0</td>\n",
              "      <td>0</td>\n",
              "      <td>0</td>\n",
              "      <td>0</td>\n",
              "      <td>0</td>\n",
              "      <td>0</td>\n",
              "      <td>11</td>\n",
              "      <td>213</td>\n",
              "      <td>254</td>\n",
              "      <td>253</td>\n",
              "      <td>0</td>\n",
              "      <td>0</td>\n",
              "      <td>0</td>\n",
              "      <td>0</td>\n",
              "      <td>0</td>\n",
              "      <td>0</td>\n",
              "      <td>0</td>\n",
              "      <td>0</td>\n",
              "    </tr>\n",
              "    <tr>\n",
              "      <th>9</th>\n",
              "      <td>0</td>\n",
              "      <td>0</td>\n",
              "      <td>0</td>\n",
              "      <td>0</td>\n",
              "      <td>0</td>\n",
              "      <td>0</td>\n",
              "      <td>0</td>\n",
              "      <td>0</td>\n",
              "      <td>0</td>\n",
              "      <td>0</td>\n",
              "      <td>0</td>\n",
              "      <td>0</td>\n",
              "      <td>0</td>\n",
              "      <td>0</td>\n",
              "      <td>0</td>\n",
              "      <td>0</td>\n",
              "      <td>173</td>\n",
              "      <td>252</td>\n",
              "      <td>253</td>\n",
              "      <td>171</td>\n",
              "      <td>0</td>\n",
              "      <td>0</td>\n",
              "      <td>0</td>\n",
              "      <td>0</td>\n",
              "      <td>0</td>\n",
              "      <td>0</td>\n",
              "      <td>0</td>\n",
              "      <td>0</td>\n",
              "    </tr>\n",
              "    <tr>\n",
              "      <th>10</th>\n",
              "      <td>0</td>\n",
              "      <td>0</td>\n",
              "      <td>0</td>\n",
              "      <td>0</td>\n",
              "      <td>0</td>\n",
              "      <td>0</td>\n",
              "      <td>0</td>\n",
              "      <td>0</td>\n",
              "      <td>0</td>\n",
              "      <td>0</td>\n",
              "      <td>0</td>\n",
              "      <td>0</td>\n",
              "      <td>0</td>\n",
              "      <td>0</td>\n",
              "      <td>0</td>\n",
              "      <td>41</td>\n",
              "      <td>254</td>\n",
              "      <td>253</td>\n",
              "      <td>142</td>\n",
              "      <td>0</td>\n",
              "      <td>0</td>\n",
              "      <td>0</td>\n",
              "      <td>0</td>\n",
              "      <td>0</td>\n",
              "      <td>0</td>\n",
              "      <td>0</td>\n",
              "      <td>0</td>\n",
              "      <td>0</td>\n",
              "    </tr>\n",
              "    <tr>\n",
              "      <th>11</th>\n",
              "      <td>0</td>\n",
              "      <td>0</td>\n",
              "      <td>0</td>\n",
              "      <td>0</td>\n",
              "      <td>0</td>\n",
              "      <td>0</td>\n",
              "      <td>0</td>\n",
              "      <td>0</td>\n",
              "      <td>0</td>\n",
              "      <td>0</td>\n",
              "      <td>0</td>\n",
              "      <td>0</td>\n",
              "      <td>0</td>\n",
              "      <td>0</td>\n",
              "      <td>41</td>\n",
              "      <td>243</td>\n",
              "      <td>253</td>\n",
              "      <td>252</td>\n",
              "      <td>61</td>\n",
              "      <td>0</td>\n",
              "      <td>0</td>\n",
              "      <td>0</td>\n",
              "      <td>0</td>\n",
              "      <td>0</td>\n",
              "      <td>0</td>\n",
              "      <td>0</td>\n",
              "      <td>0</td>\n",
              "      <td>0</td>\n",
              "    </tr>\n",
              "    <tr>\n",
              "      <th>12</th>\n",
              "      <td>0</td>\n",
              "      <td>0</td>\n",
              "      <td>0</td>\n",
              "      <td>0</td>\n",
              "      <td>0</td>\n",
              "      <td>0</td>\n",
              "      <td>0</td>\n",
              "      <td>0</td>\n",
              "      <td>0</td>\n",
              "      <td>0</td>\n",
              "      <td>0</td>\n",
              "      <td>0</td>\n",
              "      <td>0</td>\n",
              "      <td>21</td>\n",
              "      <td>214</td>\n",
              "      <td>253</td>\n",
              "      <td>244</td>\n",
              "      <td>81</td>\n",
              "      <td>0</td>\n",
              "      <td>0</td>\n",
              "      <td>0</td>\n",
              "      <td>0</td>\n",
              "      <td>0</td>\n",
              "      <td>0</td>\n",
              "      <td>0</td>\n",
              "      <td>0</td>\n",
              "      <td>0</td>\n",
              "      <td>0</td>\n",
              "    </tr>\n",
              "    <tr>\n",
              "      <th>13</th>\n",
              "      <td>0</td>\n",
              "      <td>0</td>\n",
              "      <td>0</td>\n",
              "      <td>0</td>\n",
              "      <td>0</td>\n",
              "      <td>0</td>\n",
              "      <td>0</td>\n",
              "      <td>0</td>\n",
              "      <td>0</td>\n",
              "      <td>0</td>\n",
              "      <td>0</td>\n",
              "      <td>0</td>\n",
              "      <td>0</td>\n",
              "      <td>142</td>\n",
              "      <td>253</td>\n",
              "      <td>252</td>\n",
              "      <td>81</td>\n",
              "      <td>0</td>\n",
              "      <td>0</td>\n",
              "      <td>0</td>\n",
              "      <td>0</td>\n",
              "      <td>0</td>\n",
              "      <td>0</td>\n",
              "      <td>0</td>\n",
              "      <td>0</td>\n",
              "      <td>0</td>\n",
              "      <td>0</td>\n",
              "      <td>0</td>\n",
              "    </tr>\n",
              "    <tr>\n",
              "      <th>14</th>\n",
              "      <td>0</td>\n",
              "      <td>0</td>\n",
              "      <td>0</td>\n",
              "      <td>0</td>\n",
              "      <td>0</td>\n",
              "      <td>0</td>\n",
              "      <td>0</td>\n",
              "      <td>0</td>\n",
              "      <td>0</td>\n",
              "      <td>0</td>\n",
              "      <td>0</td>\n",
              "      <td>0</td>\n",
              "      <td>132</td>\n",
              "      <td>253</td>\n",
              "      <td>244</td>\n",
              "      <td>162</td>\n",
              "      <td>0</td>\n",
              "      <td>0</td>\n",
              "      <td>0</td>\n",
              "      <td>0</td>\n",
              "      <td>0</td>\n",
              "      <td>0</td>\n",
              "      <td>0</td>\n",
              "      <td>0</td>\n",
              "      <td>0</td>\n",
              "      <td>0</td>\n",
              "      <td>0</td>\n",
              "      <td>0</td>\n",
              "    </tr>\n",
              "    <tr>\n",
              "      <th>15</th>\n",
              "      <td>0</td>\n",
              "      <td>0</td>\n",
              "      <td>0</td>\n",
              "      <td>0</td>\n",
              "      <td>0</td>\n",
              "      <td>0</td>\n",
              "      <td>0</td>\n",
              "      <td>0</td>\n",
              "      <td>0</td>\n",
              "      <td>0</td>\n",
              "      <td>0</td>\n",
              "      <td>41</td>\n",
              "      <td>253</td>\n",
              "      <td>252</td>\n",
              "      <td>203</td>\n",
              "      <td>0</td>\n",
              "      <td>0</td>\n",
              "      <td>0</td>\n",
              "      <td>0</td>\n",
              "      <td>0</td>\n",
              "      <td>0</td>\n",
              "      <td>0</td>\n",
              "      <td>0</td>\n",
              "      <td>0</td>\n",
              "      <td>0</td>\n",
              "      <td>0</td>\n",
              "      <td>0</td>\n",
              "      <td>0</td>\n",
              "    </tr>\n",
              "    <tr>\n",
              "      <th>16</th>\n",
              "      <td>0</td>\n",
              "      <td>0</td>\n",
              "      <td>0</td>\n",
              "      <td>0</td>\n",
              "      <td>0</td>\n",
              "      <td>0</td>\n",
              "      <td>0</td>\n",
              "      <td>0</td>\n",
              "      <td>0</td>\n",
              "      <td>0</td>\n",
              "      <td>51</td>\n",
              "      <td>233</td>\n",
              "      <td>254</td>\n",
              "      <td>192</td>\n",
              "      <td>41</td>\n",
              "      <td>0</td>\n",
              "      <td>0</td>\n",
              "      <td>0</td>\n",
              "      <td>0</td>\n",
              "      <td>0</td>\n",
              "      <td>0</td>\n",
              "      <td>0</td>\n",
              "      <td>0</td>\n",
              "      <td>0</td>\n",
              "      <td>0</td>\n",
              "      <td>0</td>\n",
              "      <td>0</td>\n",
              "      <td>0</td>\n",
              "    </tr>\n",
              "    <tr>\n",
              "      <th>17</th>\n",
              "      <td>0</td>\n",
              "      <td>0</td>\n",
              "      <td>0</td>\n",
              "      <td>0</td>\n",
              "      <td>0</td>\n",
              "      <td>0</td>\n",
              "      <td>0</td>\n",
              "      <td>0</td>\n",
              "      <td>0</td>\n",
              "      <td>0</td>\n",
              "      <td>233</td>\n",
              "      <td>252</td>\n",
              "      <td>253</td>\n",
              "      <td>111</td>\n",
              "      <td>0</td>\n",
              "      <td>0</td>\n",
              "      <td>0</td>\n",
              "      <td>0</td>\n",
              "      <td>0</td>\n",
              "      <td>0</td>\n",
              "      <td>0</td>\n",
              "      <td>0</td>\n",
              "      <td>0</td>\n",
              "      <td>0</td>\n",
              "      <td>0</td>\n",
              "      <td>0</td>\n",
              "      <td>0</td>\n",
              "      <td>0</td>\n",
              "    </tr>\n",
              "    <tr>\n",
              "      <th>18</th>\n",
              "      <td>0</td>\n",
              "      <td>0</td>\n",
              "      <td>0</td>\n",
              "      <td>0</td>\n",
              "      <td>0</td>\n",
              "      <td>0</td>\n",
              "      <td>0</td>\n",
              "      <td>0</td>\n",
              "      <td>0</td>\n",
              "      <td>163</td>\n",
              "      <td>254</td>\n",
              "      <td>253</td>\n",
              "      <td>82</td>\n",
              "      <td>0</td>\n",
              "      <td>0</td>\n",
              "      <td>0</td>\n",
              "      <td>0</td>\n",
              "      <td>0</td>\n",
              "      <td>0</td>\n",
              "      <td>0</td>\n",
              "      <td>0</td>\n",
              "      <td>0</td>\n",
              "      <td>0</td>\n",
              "      <td>0</td>\n",
              "      <td>0</td>\n",
              "      <td>0</td>\n",
              "      <td>0</td>\n",
              "      <td>0</td>\n",
              "    </tr>\n",
              "    <tr>\n",
              "      <th>19</th>\n",
              "      <td>0</td>\n",
              "      <td>0</td>\n",
              "      <td>0</td>\n",
              "      <td>0</td>\n",
              "      <td>0</td>\n",
              "      <td>0</td>\n",
              "      <td>0</td>\n",
              "      <td>0</td>\n",
              "      <td>41</td>\n",
              "      <td>243</td>\n",
              "      <td>253</td>\n",
              "      <td>130</td>\n",
              "      <td>0</td>\n",
              "      <td>0</td>\n",
              "      <td>0</td>\n",
              "      <td>0</td>\n",
              "      <td>0</td>\n",
              "      <td>0</td>\n",
              "      <td>0</td>\n",
              "      <td>0</td>\n",
              "      <td>0</td>\n",
              "      <td>0</td>\n",
              "      <td>0</td>\n",
              "      <td>0</td>\n",
              "      <td>0</td>\n",
              "      <td>0</td>\n",
              "      <td>0</td>\n",
              "      <td>0</td>\n",
              "    </tr>\n",
              "    <tr>\n",
              "      <th>20</th>\n",
              "      <td>0</td>\n",
              "      <td>0</td>\n",
              "      <td>0</td>\n",
              "      <td>0</td>\n",
              "      <td>0</td>\n",
              "      <td>0</td>\n",
              "      <td>0</td>\n",
              "      <td>21</td>\n",
              "      <td>214</td>\n",
              "      <td>253</td>\n",
              "      <td>255</td>\n",
              "      <td>50</td>\n",
              "      <td>0</td>\n",
              "      <td>0</td>\n",
              "      <td>0</td>\n",
              "      <td>0</td>\n",
              "      <td>0</td>\n",
              "      <td>0</td>\n",
              "      <td>0</td>\n",
              "      <td>0</td>\n",
              "      <td>0</td>\n",
              "      <td>0</td>\n",
              "      <td>0</td>\n",
              "      <td>0</td>\n",
              "      <td>0</td>\n",
              "      <td>0</td>\n",
              "      <td>0</td>\n",
              "      <td>0</td>\n",
              "    </tr>\n",
              "    <tr>\n",
              "      <th>21</th>\n",
              "      <td>0</td>\n",
              "      <td>0</td>\n",
              "      <td>0</td>\n",
              "      <td>0</td>\n",
              "      <td>0</td>\n",
              "      <td>0</td>\n",
              "      <td>0</td>\n",
              "      <td>142</td>\n",
              "      <td>253</td>\n",
              "      <td>252</td>\n",
              "      <td>131</td>\n",
              "      <td>10</td>\n",
              "      <td>0</td>\n",
              "      <td>0</td>\n",
              "      <td>0</td>\n",
              "      <td>0</td>\n",
              "      <td>0</td>\n",
              "      <td>0</td>\n",
              "      <td>0</td>\n",
              "      <td>0</td>\n",
              "      <td>0</td>\n",
              "      <td>0</td>\n",
              "      <td>0</td>\n",
              "      <td>0</td>\n",
              "      <td>0</td>\n",
              "      <td>0</td>\n",
              "      <td>0</td>\n",
              "      <td>0</td>\n",
              "    </tr>\n",
              "    <tr>\n",
              "      <th>22</th>\n",
              "      <td>0</td>\n",
              "      <td>0</td>\n",
              "      <td>0</td>\n",
              "      <td>0</td>\n",
              "      <td>0</td>\n",
              "      <td>0</td>\n",
              "      <td>21</td>\n",
              "      <td>223</td>\n",
              "      <td>244</td>\n",
              "      <td>203</td>\n",
              "      <td>0</td>\n",
              "      <td>0</td>\n",
              "      <td>0</td>\n",
              "      <td>0</td>\n",
              "      <td>0</td>\n",
              "      <td>0</td>\n",
              "      <td>0</td>\n",
              "      <td>0</td>\n",
              "      <td>0</td>\n",
              "      <td>0</td>\n",
              "      <td>0</td>\n",
              "      <td>0</td>\n",
              "      <td>0</td>\n",
              "      <td>0</td>\n",
              "      <td>0</td>\n",
              "      <td>0</td>\n",
              "      <td>0</td>\n",
              "      <td>0</td>\n",
              "    </tr>\n",
              "    <tr>\n",
              "      <th>23</th>\n",
              "      <td>0</td>\n",
              "      <td>0</td>\n",
              "      <td>0</td>\n",
              "      <td>0</td>\n",
              "      <td>0</td>\n",
              "      <td>0</td>\n",
              "      <td>0</td>\n",
              "      <td>162</td>\n",
              "      <td>122</td>\n",
              "      <td>0</td>\n",
              "      <td>0</td>\n",
              "      <td>0</td>\n",
              "      <td>0</td>\n",
              "      <td>0</td>\n",
              "      <td>0</td>\n",
              "      <td>0</td>\n",
              "      <td>0</td>\n",
              "      <td>0</td>\n",
              "      <td>0</td>\n",
              "      <td>0</td>\n",
              "      <td>0</td>\n",
              "      <td>0</td>\n",
              "      <td>0</td>\n",
              "      <td>0</td>\n",
              "      <td>0</td>\n",
              "      <td>0</td>\n",
              "      <td>0</td>\n",
              "      <td>0</td>\n",
              "    </tr>\n",
              "    <tr>\n",
              "      <th>24</th>\n",
              "      <td>0</td>\n",
              "      <td>0</td>\n",
              "      <td>0</td>\n",
              "      <td>0</td>\n",
              "      <td>0</td>\n",
              "      <td>0</td>\n",
              "      <td>0</td>\n",
              "      <td>0</td>\n",
              "      <td>0</td>\n",
              "      <td>0</td>\n",
              "      <td>0</td>\n",
              "      <td>0</td>\n",
              "      <td>0</td>\n",
              "      <td>0</td>\n",
              "      <td>0</td>\n",
              "      <td>0</td>\n",
              "      <td>0</td>\n",
              "      <td>0</td>\n",
              "      <td>0</td>\n",
              "      <td>0</td>\n",
              "      <td>0</td>\n",
              "      <td>0</td>\n",
              "      <td>0</td>\n",
              "      <td>0</td>\n",
              "      <td>0</td>\n",
              "      <td>0</td>\n",
              "      <td>0</td>\n",
              "      <td>0</td>\n",
              "    </tr>\n",
              "    <tr>\n",
              "      <th>25</th>\n",
              "      <td>0</td>\n",
              "      <td>0</td>\n",
              "      <td>0</td>\n",
              "      <td>0</td>\n",
              "      <td>0</td>\n",
              "      <td>0</td>\n",
              "      <td>0</td>\n",
              "      <td>0</td>\n",
              "      <td>0</td>\n",
              "      <td>0</td>\n",
              "      <td>0</td>\n",
              "      <td>0</td>\n",
              "      <td>0</td>\n",
              "      <td>0</td>\n",
              "      <td>0</td>\n",
              "      <td>0</td>\n",
              "      <td>0</td>\n",
              "      <td>0</td>\n",
              "      <td>0</td>\n",
              "      <td>0</td>\n",
              "      <td>0</td>\n",
              "      <td>0</td>\n",
              "      <td>0</td>\n",
              "      <td>0</td>\n",
              "      <td>0</td>\n",
              "      <td>0</td>\n",
              "      <td>0</td>\n",
              "      <td>0</td>\n",
              "    </tr>\n",
              "    <tr>\n",
              "      <th>26</th>\n",
              "      <td>0</td>\n",
              "      <td>0</td>\n",
              "      <td>0</td>\n",
              "      <td>0</td>\n",
              "      <td>0</td>\n",
              "      <td>0</td>\n",
              "      <td>0</td>\n",
              "      <td>0</td>\n",
              "      <td>0</td>\n",
              "      <td>0</td>\n",
              "      <td>0</td>\n",
              "      <td>0</td>\n",
              "      <td>0</td>\n",
              "      <td>0</td>\n",
              "      <td>0</td>\n",
              "      <td>0</td>\n",
              "      <td>0</td>\n",
              "      <td>0</td>\n",
              "      <td>0</td>\n",
              "      <td>0</td>\n",
              "      <td>0</td>\n",
              "      <td>0</td>\n",
              "      <td>0</td>\n",
              "      <td>0</td>\n",
              "      <td>0</td>\n",
              "      <td>0</td>\n",
              "      <td>0</td>\n",
              "      <td>0</td>\n",
              "    </tr>\n",
              "    <tr>\n",
              "      <th>27</th>\n",
              "      <td>0</td>\n",
              "      <td>0</td>\n",
              "      <td>0</td>\n",
              "      <td>0</td>\n",
              "      <td>0</td>\n",
              "      <td>0</td>\n",
              "      <td>0</td>\n",
              "      <td>0</td>\n",
              "      <td>0</td>\n",
              "      <td>0</td>\n",
              "      <td>0</td>\n",
              "      <td>0</td>\n",
              "      <td>0</td>\n",
              "      <td>0</td>\n",
              "      <td>0</td>\n",
              "      <td>0</td>\n",
              "      <td>0</td>\n",
              "      <td>0</td>\n",
              "      <td>0</td>\n",
              "      <td>0</td>\n",
              "      <td>0</td>\n",
              "      <td>0</td>\n",
              "      <td>0</td>\n",
              "      <td>0</td>\n",
              "      <td>0</td>\n",
              "      <td>0</td>\n",
              "      <td>0</td>\n",
              "      <td>0</td>\n",
              "    </tr>\n",
              "  </tbody>\n",
              "</table>\n",
              "</div>"
            ],
            "text/plain": [
              "    0   1   2   3   4   5   6    7    8   ...   19   20  21  22  23  24  25  26  27\n",
              "0    0   0   0   0   0   0   0    0    0  ...    0    0   0   0   0   0   0   0   0\n",
              "1    0   0   0   0   0   0   0    0    0  ...    0    0   0   0   0   0   0   0   0\n",
              "2    0   0   0   0   0   0   0    0    0  ...    0    0   0   0   0   0   0   0   0\n",
              "3    0   0   0   0   0   0   0    0    0  ...    0    0   0   0   0   0   0   0   0\n",
              "4    0   0   0   0   0   0   0    0    0  ...  173  123   0   0   0   0   0   0   0\n",
              "5    0   0   0   0   0   0   0    0    0  ...  252  203   0   0   0   0   0   0   0\n",
              "6    0   0   0   0   0   0   0    0    0  ...  253  203   0   0   0   0   0   0   0\n",
              "7    0   0   0   0   0   0   0    0    0  ...  252  122   0   0   0   0   0   0   0\n",
              "8    0   0   0   0   0   0   0    0    0  ...  253    0   0   0   0   0   0   0   0\n",
              "9    0   0   0   0   0   0   0    0    0  ...  171    0   0   0   0   0   0   0   0\n",
              "10   0   0   0   0   0   0   0    0    0  ...    0    0   0   0   0   0   0   0   0\n",
              "11   0   0   0   0   0   0   0    0    0  ...    0    0   0   0   0   0   0   0   0\n",
              "12   0   0   0   0   0   0   0    0    0  ...    0    0   0   0   0   0   0   0   0\n",
              "13   0   0   0   0   0   0   0    0    0  ...    0    0   0   0   0   0   0   0   0\n",
              "14   0   0   0   0   0   0   0    0    0  ...    0    0   0   0   0   0   0   0   0\n",
              "15   0   0   0   0   0   0   0    0    0  ...    0    0   0   0   0   0   0   0   0\n",
              "16   0   0   0   0   0   0   0    0    0  ...    0    0   0   0   0   0   0   0   0\n",
              "17   0   0   0   0   0   0   0    0    0  ...    0    0   0   0   0   0   0   0   0\n",
              "18   0   0   0   0   0   0   0    0    0  ...    0    0   0   0   0   0   0   0   0\n",
              "19   0   0   0   0   0   0   0    0   41  ...    0    0   0   0   0   0   0   0   0\n",
              "20   0   0   0   0   0   0   0   21  214  ...    0    0   0   0   0   0   0   0   0\n",
              "21   0   0   0   0   0   0   0  142  253  ...    0    0   0   0   0   0   0   0   0\n",
              "22   0   0   0   0   0   0  21  223  244  ...    0    0   0   0   0   0   0   0   0\n",
              "23   0   0   0   0   0   0   0  162  122  ...    0    0   0   0   0   0   0   0   0\n",
              "24   0   0   0   0   0   0   0    0    0  ...    0    0   0   0   0   0   0   0   0\n",
              "25   0   0   0   0   0   0   0    0    0  ...    0    0   0   0   0   0   0   0   0\n",
              "26   0   0   0   0   0   0   0    0    0  ...    0    0   0   0   0   0   0   0   0\n",
              "27   0   0   0   0   0   0   0    0    0  ...    0    0   0   0   0   0   0   0   0\n",
              "\n",
              "[28 rows x 28 columns]"
            ]
          },
          "metadata": {
            "tags": []
          }
        }
      ]
    },
    {
      "cell_type": "markdown",
      "metadata": {
        "id": "lKOr0plroria",
        "colab_type": "text"
      },
      "source": [
        "このコードのポイント：\n",
        "- リスト1-2と全く同じです"
      ]
    },
    {
      "cell_type": "markdown",
      "metadata": {
        "id": "Hl1laWgKoxtw",
        "colab_type": "text"
      },
      "source": [
        "### リスト6-3　入力データの正規化（Normalization）"
      ]
    },
    {
      "cell_type": "code",
      "metadata": {
        "id": "y8Y6ntTroz4Y",
        "colab_type": "code",
        "colab": {}
      },
      "source": [
        "X_train = X_train / 255.0\n",
        "X_test = X_test / 255.0"
      ],
      "execution_count": 0,
      "outputs": []
    },
    {
      "cell_type": "markdown",
      "metadata": {
        "id": "jHT-wX_uo20c",
        "colab_type": "text"
      },
      "source": [
        "このコードのポイント：\n",
        "- リスト1-3と全く同じです"
      ]
    },
    {
      "cell_type": "markdown",
      "metadata": {
        "id": "fGlmY3Xto8dV",
        "colab_type": "text"
      },
      "source": [
        "## ■（7）モデルの定義"
      ]
    },
    {
      "cell_type": "markdown",
      "metadata": {
        "id": "uNLS8alkpAga",
        "colab_type": "text"
      },
      "source": [
        "以下の通りで進めていく。\n",
        "- `tf.keras.Model`クラスを**サブクラス化**してモデルを定義する（**初中級者以上にお勧め**）\n",
        "- tf.kerasの基本である`compile()`＆`fit()`メソッドを使用する（今回はカスタムループの実装は不要なため）\n"
      ]
    },
    {
      "cell_type": "markdown",
      "metadata": {
        "id": "us19IpfbpDWd",
        "colab_type": "text"
      },
      "source": [
        "### ●ディープニューラルネットワークのモデル設計"
      ]
    },
    {
      "cell_type": "markdown",
      "metadata": {
        "id": "XdOPH6NspFIg",
        "colab_type": "text"
      },
      "source": [
        "- 入力の数（`INPUT_FEATURES`）は、**28行**×**28列**（＝784）になっているので、フラット化（Flatten）して**784個**\n",
        "- 隠れ層のレイヤー数は、**2つ**\n",
        "  - 隠れ層にある1つ目のニューロンの数（`LAYER1_NEURONS`）は、**128個**\n",
        "  - 隠れ層にある2つ目のニューロンの数（`LAYER2_NEURONS`）は、**32個**\n",
        "- 出力層にあるニューロンの数（`OUTPUT_RESULTS`）は、**1個**（0～1の数値1個で判定できるため、2クラスにする必要はない）"
      ]
    },
    {
      "cell_type": "markdown",
      "metadata": {
        "id": "lVgarGgMpUk6",
        "colab_type": "text"
      },
      "source": [
        "### リスト7-1　モデルの定義"
      ]
    },
    {
      "cell_type": "code",
      "metadata": {
        "id": "UzSW_7a3pXnQ",
        "colab_type": "code",
        "colab": {}
      },
      "source": [
        "import tensorflow as tf  # ライブラリ「TensorFlow」のtensorflowパッケージをインポート\n",
        "from tensorflow.keras import layers    # レイヤー関連モジュールのインポート\n",
        "from IPython.display import Image\n",
        "\n",
        "# 定数（モデル定義時に必要となるもの）\n",
        "INPUT_ROWS = 28         # 入力行の数： 28行\n",
        "INPUT_COLS = 28         # 入力列の数： 28列\n",
        "                        # 入力（特徴）の数： 784（＝28行×28列）\n",
        "LAYER1_NEURONS = 128    # ニューロンの数： 128\n",
        "LAYER2_NEURONS = 32     # ニューロンの数： 32\n",
        "#OUTPUT_RESULTS = 10    # 前述する多クラス分類の場合： 10（＝「0」～「9」の10クラスに分類）\n",
        "OUTPUT_RESULTS = 1      # 出力結果の数： 1（＝「0.0」～「1.0」の2値に分類）\n",
        "\n",
        "# 過学習対策でドロップアウトを使う場合はコメントオフ：\n",
        "#DROPOUT1_RATE = 0.2     # 第1隠れ層から第2隠れ層へのドロップ率： 0.2（20％）\n",
        "\n",
        "# 変数（モデル定義時に必要となるもの）\n",
        "activation1 = layers.ReLU(name='activation1')  # 活性化関数（隠れ層用）： ReLU関数（変更可能）\n",
        "activation2 = layers.ReLU(name='activation2')  # 活性化関数（隠れ層用）： ReLU関数（変更可能）\n",
        "act_output = layers.Activation('sigmoid', name='act_output') # 活性化関数（出力層用）： Sigmoid関数（固定）\n",
        "\n",
        "# tf.keras.Modelによるモデルの定義\n",
        "class NeuralNetwork(tf.keras.Model):\n",
        "\n",
        "  # レイヤー（層）を定義\n",
        "  def __init__(self):\n",
        "    super(NeuralNetwork, self).__init__()\n",
        "\n",
        "    # 入力層：入力データのフラット化（Flatten）\n",
        "    self.flatten_input = layers.Flatten(    # 行列データのフラット化\n",
        "      input_shape=(INPUT_ROWS, INPUT_COLS), # 入力の形状（＝入力層）※タプル形式\n",
        "      name='flatten_input')\n",
        " \n",
        "    # 隠れ層：1つ目のレイヤー（layer）\n",
        "    self.layer1 = layers.Dense(       # 全結合層（線形変換）\n",
        "      # 入力ユニット数は、前の出力ユニット数が使われるので、指定不要\n",
        "      LAYER1_NEURONS,                 # 次のレイヤーへの出力ユニット数\n",
        "      name='layer1')\n",
        "\n",
        "    # 第1レイヤーの後でドロップアウトを使う場合はコメントオフ：\n",
        "    #self.dropput1 = layers.Dropout(  # ドロップアウト\n",
        "    #  DROPOUT1_RATE,                 # 何％ドロップするか\n",
        "    #  name='dropput1')\n",
        "    \n",
        "    # 隠れ層：2つ目のレイヤー（layer）\n",
        "    self.layer2 = layers.Dense(       # 全結合層\n",
        "      LAYER2_NEURONS,                 # 次のレイヤーへの出力ユニット数\n",
        "      name='layer2')\n",
        "\n",
        "    # 出力層\n",
        "    self.layer_out = layers.Dense(    # 全結合層\n",
        "      OUTPUT_RESULTS,                 # 出力結果への出力ユニット数\n",
        "      name='layer_out')\n",
        "\n",
        "  # フォワードパスを定義\n",
        "  def call(self, x, train_mode=True):\n",
        "    x = self.flatten_input(x)         # 入力データのフラット化\n",
        "\n",
        "    # 「出力＝活性化関数（第n層（入力））」の形式で記述\n",
        "    x = activation1(self.layer1(x))   # 活性化関数は変数として定義\n",
        "\n",
        "    #ドロップアウトを使う場合はコメントオフ：\n",
        "    #if train_mode:                   # 訓練時のみ……\n",
        "    #  x = self.dropput2(x)           # ……ドロップアウト（不活性化）\n",
        "\n",
        "    x = activation2(self.layer2(x))   # 活性化関数は変数として定義\n",
        "\n",
        "    x = act_output(self.layer_out(x)) # ※活性化関数は「softmax」固定\n",
        "    return x\n",
        "\n",
        "  # モデル内容の出力を行う独自メソッド\n",
        "  def get_static_model(self):\n",
        "    x = layers.Input(shape=(28,28), name='input_features')\n",
        "    static_model = tf.keras.Model(inputs=[x], outputs=self.call(x)) \n",
        "    return static_model"
      ],
      "execution_count": 0,
      "outputs": []
    },
    {
      "cell_type": "markdown",
      "metadata": {
        "id": "LqJlpoPZpo2S",
        "colab_type": "text"
      },
      "source": [
        "このコードのポイント：\n",
        "- 出力層のニューロン数が10個から1個に変わりました\n",
        "- 出力層の活性化関数は、二値分類時に一般的な[シグモイド関数](https://www.atmarkit.co.jp/ait/articles/2003/04/news021.html)を指定している（※先ほどの多クラス分類ではソフトマックス関数だった）。セットで、損失関数には二値分類用の交差エントロピーを使う（後述）\n"
      ]
    },
    {
      "cell_type": "markdown",
      "metadata": {
        "id": "kB5JrcxKqJcp",
        "colab_type": "text"
      },
      "source": [
        "### リスト7-2　モデル内容（図）の確認"
      ]
    },
    {
      "cell_type": "code",
      "metadata": {
        "id": "h97kx2nIqLw_",
        "colab_type": "code",
        "colab": {
          "base_uri": "https://localhost:8080/",
          "height": 865
        },
        "outputId": "9a16543a-2f92-4efa-d7a3-40d186f7cd59"
      },
      "source": [
        "# モデル（NeuralNetworkクラス）のインスタンス化\n",
        "model = NeuralNetwork()\n",
        "\n",
        "# モデル概要の図を描画する\n",
        "f_model = model.get_static_model()\n",
        "filename = 'model.png';\n",
        "tf.keras.utils.plot_model(f_model, show_shapes=True, show_layer_names=True, to_file=filename)\n",
        "from IPython.display import Image\n",
        "Image(retina=False, filename=filename) # 図で描画\n",
        "#f_model.summary()                     # テキストで出力"
      ],
      "execution_count": 278,
      "outputs": [
        {
          "output_type": "execute_result",
          "data": {
            "image/png": "[encoded data removed]",
            "text/plain": [
              "<IPython.core.display.Image object>"
            ]
          },
          "metadata": {
            "tags": []
          },
          "execution_count": 278
        }
      ]
    },
    {
      "cell_type": "markdown",
      "metadata": {
        "id": "8Kygw2Cfq9AW",
        "colab_type": "text"
      },
      "source": [
        "## ■（8）学習／最適化（オプティマイザー）"
      ]
    },
    {
      "cell_type": "markdown",
      "metadata": {
        "id": "95F1Mbieq_93",
        "colab_type": "text"
      },
      "source": [
        "### リスト8-1　学習方法（損失関数／最適化／学習率）の定義"
      ]
    },
    {
      "cell_type": "code",
      "metadata": {
        "id": "QQ--p2-9rBkH",
        "colab_type": "code",
        "colab": {}
      },
      "source": [
        "# 定数（学習方法設計時に必要となる数値）\n",
        "LOSS = 'binary_crossentropy'  # 損失関数：多クラス分類用の交差エントロピー\n",
        "METRICS = ['accuracy']                    # 評価関数：正解率\n",
        "OPTIMIZER = tf.keras.optimizers.Adam      # 最適化：Adam\n",
        "LEARNING_RATE = 0.001                     # 学習率： 0.001（学習率の調整）\n",
        "\n",
        "# 学習方法を定義する\n",
        "model.compile(optimizer=OPTIMIZER(learning_rate=LEARNING_RATE),\n",
        "              loss=LOSS,\n",
        "              metrics=METRICS)            # 精度（分類では正解率。回帰では損失）"
      ],
      "execution_count": 0,
      "outputs": []
    },
    {
      "cell_type": "markdown",
      "metadata": {
        "id": "m1UnY8zprLic",
        "colab_type": "text"
      },
      "source": [
        "このコードのポイント：\n",
        "- 損失関数には、シグモイド活性化関数とセットになる、二値用の交差エントロピー（binary_crossentropy）を指定している\n",
        "  - 多クラス分類用は（sparse_categorical_crossentropyもしくはcategorical_crossentropy）だった"
      ]
    },
    {
      "cell_type": "markdown",
      "metadata": {
        "id": "nmMqwbkwrlMU",
        "colab_type": "text"
      },
      "source": [
        "### リスト8-2　トレーニング（ミニバッチ学習）"
      ]
    },
    {
      "cell_type": "code",
      "metadata": {
        "id": "ox6_iuthroxL",
        "colab_type": "code",
        "colab": {
          "base_uri": "https://localhost:8080/",
          "height": 1000
        },
        "outputId": "e6525acb-def6-40d9-f88f-2a5f4269fab1"
      },
      "source": [
        "# 定数（ミニバッチ学習時に必要となるもの）\n",
        "BATCH_SIZE = 96   # バッチサイズ： 96\n",
        "EPOCHS = 100      # エポック数： 100\n",
        "\n",
        "# 早期終了\n",
        "#es = tf.keras.callbacks.EarlyStopping(monitor='val_loss', patience=3)\n",
        "\n",
        "# 学習する\n",
        "hist = model.fit(x=X_train,                          # 訓練用データ\n",
        "                 y=y_train,                          # 訓練用ラベル\n",
        "                 validation_split=0.2,               # 精度検証用の割合：20％\n",
        "                 batch_size=BATCH_SIZE,              # バッチサイズ\n",
        "                 epochs=EPOCHS,                      # エポック数\n",
        "                 verbose=1,                          # 実行状況表示\n",
        "                 callbacks=[])                       # コールバック（早期終了しない場合）\n",
        "                 #callbacks=[es])                    # コールバック（早期終了する場合）"
      ],
      "execution_count": 280,
      "outputs": [
        {
          "output_type": "stream",
          "text": [
            "Epoch 1/100\n",
            "WARNING:tensorflow:Layer neural_network_12 is casting an input tensor from dtype float64 to the layer's dtype of float32, which is new behavior in TensorFlow 2.  The layer has dtype float32 because it's dtype defaults to floatx.\n",
            "\n",
            "If you intended to run this layer in float32, you can safely ignore this warning. If in doubt, this warning is likely only an issue if you are porting a TensorFlow 1.X model to TensorFlow 2.\n",
            "\n",
            "To change all layers to have dtype float64 by default, call `tf.keras.backend.set_floatx('float64')`. To change just this layer, pass dtype='float64' to the layer constructor. If you are the author of this layer, you can disable autocasting by passing autocast=False to the base Layer constructor.\n",
            "\n",
            "106/106 [==============================] - 1s 5ms/step - loss: 0.0445 - accuracy: 0.9840 - val_loss: 0.0053 - val_accuracy: 0.9984\n",
            "Epoch 2/100\n",
            "106/106 [==============================] - 0s 4ms/step - loss: 0.0031 - accuracy: 0.9991 - val_loss: 0.0041 - val_accuracy: 0.9984\n",
            "Epoch 3/100\n",
            "106/106 [==============================] - 0s 4ms/step - loss: 0.0015 - accuracy: 0.9995 - val_loss: 0.0035 - val_accuracy: 0.9992\n",
            "Epoch 4/100\n",
            "106/106 [==============================] - 0s 4ms/step - loss: 7.8522e-04 - accuracy: 0.9998 - val_loss: 0.0042 - val_accuracy: 0.9992\n",
            "Epoch 5/100\n",
            "106/106 [==============================] - 0s 3ms/step - loss: 4.0166e-04 - accuracy: 0.9999 - val_loss: 0.0045 - val_accuracy: 0.9984\n",
            "Epoch 6/100\n",
            "106/106 [==============================] - 0s 4ms/step - loss: 1.2682e-04 - accuracy: 1.0000 - val_loss: 0.0052 - val_accuracy: 0.9984\n",
            "Epoch 7/100\n",
            "106/106 [==============================] - 0s 4ms/step - loss: 8.0462e-05 - accuracy: 1.0000 - val_loss: 0.0043 - val_accuracy: 0.9992\n",
            "Epoch 8/100\n",
            "106/106 [==============================] - 0s 4ms/step - loss: 5.1900e-05 - accuracy: 1.0000 - val_loss: 0.0048 - val_accuracy: 0.9984\n",
            "Epoch 9/100\n",
            "106/106 [==============================] - 0s 4ms/step - loss: 2.7964e-05 - accuracy: 1.0000 - val_loss: 0.0051 - val_accuracy: 0.9988\n",
            "Epoch 10/100\n",
            "106/106 [==============================] - 0s 4ms/step - loss: 2.0030e-05 - accuracy: 1.0000 - val_loss: 0.0047 - val_accuracy: 0.9984\n",
            "Epoch 11/100\n",
            "106/106 [==============================] - 0s 4ms/step - loss: 1.4499e-05 - accuracy: 1.0000 - val_loss: 0.0046 - val_accuracy: 0.9988\n",
            "Epoch 12/100\n",
            "106/106 [==============================] - 0s 4ms/step - loss: 1.1040e-05 - accuracy: 1.0000 - val_loss: 0.0047 - val_accuracy: 0.9988\n",
            "Epoch 13/100\n",
            "106/106 [==============================] - 0s 3ms/step - loss: 8.4786e-06 - accuracy: 1.0000 - val_loss: 0.0047 - val_accuracy: 0.9988\n",
            "Epoch 14/100\n",
            "106/106 [==============================] - 0s 4ms/step - loss: 7.1057e-06 - accuracy: 1.0000 - val_loss: 0.0047 - val_accuracy: 0.9988\n",
            "Epoch 15/100\n",
            "106/106 [==============================] - 0s 3ms/step - loss: 5.7987e-06 - accuracy: 1.0000 - val_loss: 0.0047 - val_accuracy: 0.9988\n",
            "Epoch 16/100\n",
            "106/106 [==============================] - 0s 4ms/step - loss: 5.2416e-06 - accuracy: 1.0000 - val_loss: 0.0047 - val_accuracy: 0.9988\n",
            "Epoch 17/100\n",
            "106/106 [==============================] - 0s 4ms/step - loss: 4.1653e-06 - accuracy: 1.0000 - val_loss: 0.0047 - val_accuracy: 0.9988\n",
            "Epoch 18/100\n",
            "106/106 [==============================] - 0s 4ms/step - loss: 3.5101e-06 - accuracy: 1.0000 - val_loss: 0.0048 - val_accuracy: 0.9988\n",
            "Epoch 19/100\n",
            "106/106 [==============================] - 0s 4ms/step - loss: 3.1364e-06 - accuracy: 1.0000 - val_loss: 0.0048 - val_accuracy: 0.9992\n",
            "Epoch 20/100\n",
            "106/106 [==============================] - 0s 4ms/step - loss: 2.8407e-06 - accuracy: 1.0000 - val_loss: 0.0048 - val_accuracy: 0.9992\n",
            "Epoch 21/100\n",
            "106/106 [==============================] - 0s 4ms/step - loss: 2.2748e-06 - accuracy: 1.0000 - val_loss: 0.0048 - val_accuracy: 0.9988\n",
            "Epoch 22/100\n",
            "106/106 [==============================] - 0s 4ms/step - loss: 2.0181e-06 - accuracy: 1.0000 - val_loss: 0.0049 - val_accuracy: 0.9992\n",
            "Epoch 23/100\n",
            "106/106 [==============================] - 0s 3ms/step - loss: 1.8083e-06 - accuracy: 1.0000 - val_loss: 0.0049 - val_accuracy: 0.9988\n",
            "Epoch 24/100\n",
            "106/106 [==============================] - 0s 4ms/step - loss: 1.6178e-06 - accuracy: 1.0000 - val_loss: 0.0049 - val_accuracy: 0.9988\n",
            "Epoch 25/100\n",
            "106/106 [==============================] - 0s 4ms/step - loss: 1.4067e-06 - accuracy: 1.0000 - val_loss: 0.0050 - val_accuracy: 0.9992\n",
            "Epoch 26/100\n",
            "106/106 [==============================] - 0s 4ms/step - loss: 1.2915e-06 - accuracy: 1.0000 - val_loss: 0.0050 - val_accuracy: 0.9992\n",
            "Epoch 27/100\n",
            "106/106 [==============================] - 0s 4ms/step - loss: 1.1397e-06 - accuracy: 1.0000 - val_loss: 0.0050 - val_accuracy: 0.9988\n",
            "Epoch 28/100\n",
            "106/106 [==============================] - 0s 4ms/step - loss: 1.0272e-06 - accuracy: 1.0000 - val_loss: 0.0051 - val_accuracy: 0.9992\n",
            "Epoch 29/100\n",
            "106/106 [==============================] - 0s 4ms/step - loss: 9.3986e-07 - accuracy: 1.0000 - val_loss: 0.0051 - val_accuracy: 0.9988\n",
            "Epoch 30/100\n",
            "106/106 [==============================] - 0s 4ms/step - loss: 8.4023e-07 - accuracy: 1.0000 - val_loss: 0.0051 - val_accuracy: 0.9992\n",
            "Epoch 31/100\n",
            "106/106 [==============================] - 0s 3ms/step - loss: 7.7138e-07 - accuracy: 1.0000 - val_loss: 0.0052 - val_accuracy: 0.9992\n",
            "Epoch 32/100\n",
            "106/106 [==============================] - 0s 4ms/step - loss: 6.9384e-07 - accuracy: 1.0000 - val_loss: 0.0052 - val_accuracy: 0.9988\n",
            "Epoch 33/100\n",
            "106/106 [==============================] - 0s 3ms/step - loss: 6.3187e-07 - accuracy: 1.0000 - val_loss: 0.0052 - val_accuracy: 0.9988\n",
            "Epoch 34/100\n",
            "106/106 [==============================] - 0s 4ms/step - loss: 5.7729e-07 - accuracy: 1.0000 - val_loss: 0.0053 - val_accuracy: 0.9992\n",
            "Epoch 35/100\n",
            "106/106 [==============================] - 0s 4ms/step - loss: 5.2600e-07 - accuracy: 1.0000 - val_loss: 0.0053 - val_accuracy: 0.9992\n",
            "Epoch 36/100\n",
            "106/106 [==============================] - 0s 4ms/step - loss: 4.8340e-07 - accuracy: 1.0000 - val_loss: 0.0053 - val_accuracy: 0.9992\n",
            "Epoch 37/100\n",
            "106/106 [==============================] - 0s 4ms/step - loss: 4.5259e-07 - accuracy: 1.0000 - val_loss: 0.0053 - val_accuracy: 0.9992\n",
            "Epoch 38/100\n",
            "106/106 [==============================] - 0s 3ms/step - loss: 4.1071e-07 - accuracy: 1.0000 - val_loss: 0.0054 - val_accuracy: 0.9992\n",
            "Epoch 39/100\n",
            "106/106 [==============================] - 0s 3ms/step - loss: 3.7838e-07 - accuracy: 1.0000 - val_loss: 0.0054 - val_accuracy: 0.9992\n",
            "Epoch 40/100\n",
            "106/106 [==============================] - 0s 4ms/step - loss: 3.5509e-07 - accuracy: 1.0000 - val_loss: 0.0054 - val_accuracy: 0.9988\n",
            "Epoch 41/100\n",
            "106/106 [==============================] - 0s 3ms/step - loss: 3.2773e-07 - accuracy: 1.0000 - val_loss: 0.0055 - val_accuracy: 0.9988\n",
            "Epoch 42/100\n",
            "106/106 [==============================] - 0s 3ms/step - loss: 2.9787e-07 - accuracy: 1.0000 - val_loss: 0.0055 - val_accuracy: 0.9992\n",
            "Epoch 43/100\n",
            "106/106 [==============================] - 0s 4ms/step - loss: 2.7814e-07 - accuracy: 1.0000 - val_loss: 0.0055 - val_accuracy: 0.9992\n",
            "Epoch 44/100\n",
            "106/106 [==============================] - 0s 4ms/step - loss: 2.5577e-07 - accuracy: 1.0000 - val_loss: 0.0055 - val_accuracy: 0.9992\n",
            "Epoch 45/100\n",
            "106/106 [==============================] - 0s 4ms/step - loss: 2.4011e-07 - accuracy: 1.0000 - val_loss: 0.0056 - val_accuracy: 0.9992\n",
            "Epoch 46/100\n",
            "106/106 [==============================] - 0s 3ms/step - loss: 2.2381e-07 - accuracy: 1.0000 - val_loss: 0.0056 - val_accuracy: 0.9992\n",
            "Epoch 47/100\n",
            "106/106 [==============================] - 0s 4ms/step - loss: 2.1046e-07 - accuracy: 1.0000 - val_loss: 0.0056 - val_accuracy: 0.9988\n",
            "Epoch 48/100\n",
            "106/106 [==============================] - 0s 3ms/step - loss: 1.9528e-07 - accuracy: 1.0000 - val_loss: 0.0057 - val_accuracy: 0.9992\n",
            "Epoch 49/100\n",
            "106/106 [==============================] - 0s 3ms/step - loss: 1.8008e-07 - accuracy: 1.0000 - val_loss: 0.0057 - val_accuracy: 0.9992\n",
            "Epoch 50/100\n",
            "106/106 [==============================] - 0s 4ms/step - loss: 1.6938e-07 - accuracy: 1.0000 - val_loss: 0.0057 - val_accuracy: 0.9992\n",
            "Epoch 51/100\n",
            "106/106 [==============================] - 0s 4ms/step - loss: 1.5875e-07 - accuracy: 1.0000 - val_loss: 0.0057 - val_accuracy: 0.9992\n",
            "Epoch 52/100\n",
            "106/106 [==============================] - 0s 4ms/step - loss: 1.5018e-07 - accuracy: 1.0000 - val_loss: 0.0057 - val_accuracy: 0.9992\n",
            "Epoch 53/100\n",
            "106/106 [==============================] - 0s 4ms/step - loss: 1.4000e-07 - accuracy: 1.0000 - val_loss: 0.0058 - val_accuracy: 0.9992\n",
            "Epoch 54/100\n",
            "106/106 [==============================] - 0s 4ms/step - loss: 1.2930e-07 - accuracy: 1.0000 - val_loss: 0.0058 - val_accuracy: 0.9988\n",
            "Epoch 55/100\n",
            "106/106 [==============================] - 0s 4ms/step - loss: 1.2264e-07 - accuracy: 1.0000 - val_loss: 0.0058 - val_accuracy: 0.9992\n",
            "Epoch 56/100\n",
            "106/106 [==============================] - 0s 4ms/step - loss: 1.1361e-07 - accuracy: 1.0000 - val_loss: 0.0058 - val_accuracy: 0.9992\n",
            "Epoch 57/100\n",
            "106/106 [==============================] - 0s 4ms/step - loss: 1.0728e-07 - accuracy: 1.0000 - val_loss: 0.0059 - val_accuracy: 0.9992\n",
            "Epoch 58/100\n",
            "106/106 [==============================] - 0s 4ms/step - loss: 1.0045e-07 - accuracy: 1.0000 - val_loss: 0.0059 - val_accuracy: 0.9992\n",
            "Epoch 59/100\n",
            "106/106 [==============================] - 0s 4ms/step - loss: 9.3167e-08 - accuracy: 1.0000 - val_loss: 0.0059 - val_accuracy: 0.9992\n",
            "Epoch 60/100\n",
            "106/106 [==============================] - 0s 4ms/step - loss: 8.8015e-08 - accuracy: 1.0000 - val_loss: 0.0059 - val_accuracy: 0.9992\n",
            "Epoch 61/100\n",
            "106/106 [==============================] - 0s 4ms/step - loss: 8.3088e-08 - accuracy: 1.0000 - val_loss: 0.0060 - val_accuracy: 0.9992\n",
            "Epoch 62/100\n",
            "106/106 [==============================] - 0s 4ms/step - loss: 7.7790e-08 - accuracy: 1.0000 - val_loss: 0.0060 - val_accuracy: 0.9992\n",
            "Epoch 63/100\n",
            "106/106 [==============================] - 0s 4ms/step - loss: 7.3195e-08 - accuracy: 1.0000 - val_loss: 0.0060 - val_accuracy: 0.9992\n",
            "Epoch 64/100\n",
            "106/106 [==============================] - 0s 4ms/step - loss: 6.8867e-08 - accuracy: 1.0000 - val_loss: 0.0060 - val_accuracy: 0.9992\n",
            "Epoch 65/100\n",
            "106/106 [==============================] - 0s 4ms/step - loss: 6.5419e-08 - accuracy: 1.0000 - val_loss: 0.0061 - val_accuracy: 0.9992\n",
            "Epoch 66/100\n",
            "106/106 [==============================] - 0s 4ms/step - loss: 6.1286e-08 - accuracy: 1.0000 - val_loss: 0.0061 - val_accuracy: 0.9992\n",
            "Epoch 67/100\n",
            "106/106 [==============================] - 0s 4ms/step - loss: 5.7475e-08 - accuracy: 1.0000 - val_loss: 0.0061 - val_accuracy: 0.9992\n",
            "Epoch 68/100\n",
            "106/106 [==============================] - 0s 4ms/step - loss: 5.4924e-08 - accuracy: 1.0000 - val_loss: 0.0061 - val_accuracy: 0.9992\n",
            "Epoch 69/100\n",
            "106/106 [==============================] - 0s 4ms/step - loss: 5.1572e-08 - accuracy: 1.0000 - val_loss: 0.0061 - val_accuracy: 0.9992\n",
            "Epoch 70/100\n",
            "106/106 [==============================] - 0s 4ms/step - loss: 4.9002e-08 - accuracy: 1.0000 - val_loss: 0.0062 - val_accuracy: 0.9992\n",
            "Epoch 71/100\n",
            "106/106 [==============================] - 0s 4ms/step - loss: 4.5556e-08 - accuracy: 1.0000 - val_loss: 0.0062 - val_accuracy: 0.9992\n",
            "Epoch 72/100\n",
            "106/106 [==============================] - 0s 3ms/step - loss: 4.3007e-08 - accuracy: 1.0000 - val_loss: 0.0062 - val_accuracy: 0.9992\n",
            "Epoch 73/100\n",
            "106/106 [==============================] - 0s 4ms/step - loss: 4.0670e-08 - accuracy: 1.0000 - val_loss: 0.0062 - val_accuracy: 0.9992\n",
            "Epoch 74/100\n",
            "106/106 [==============================] - 0s 4ms/step - loss: 3.8484e-08 - accuracy: 1.0000 - val_loss: 0.0062 - val_accuracy: 0.9992\n",
            "Epoch 75/100\n",
            "106/106 [==============================] - 0s 4ms/step - loss: 3.6831e-08 - accuracy: 1.0000 - val_loss: 0.0063 - val_accuracy: 0.9992\n",
            "Epoch 76/100\n",
            "106/106 [==============================] - 0s 4ms/step - loss: 3.4609e-08 - accuracy: 1.0000 - val_loss: 0.0063 - val_accuracy: 0.9992\n",
            "Epoch 77/100\n",
            "106/106 [==============================] - 0s 4ms/step - loss: 3.2536e-08 - accuracy: 1.0000 - val_loss: 0.0063 - val_accuracy: 0.9992\n",
            "Epoch 78/100\n",
            "106/106 [==============================] - 0s 4ms/step - loss: 3.0633e-08 - accuracy: 1.0000 - val_loss: 0.0064 - val_accuracy: 0.9992\n",
            "Epoch 79/100\n",
            "106/106 [==============================] - 0s 4ms/step - loss: 2.9030e-08 - accuracy: 1.0000 - val_loss: 0.0064 - val_accuracy: 0.9992\n",
            "Epoch 80/100\n",
            "106/106 [==============================] - 0s 4ms/step - loss: 2.7516e-08 - accuracy: 1.0000 - val_loss: 0.0064 - val_accuracy: 0.9992\n",
            "Epoch 81/100\n",
            "106/106 [==============================] - 0s 4ms/step - loss: 2.6007e-08 - accuracy: 1.0000 - val_loss: 0.0064 - val_accuracy: 0.9992\n",
            "Epoch 82/100\n",
            "106/106 [==============================] - 0s 4ms/step - loss: 2.4546e-08 - accuracy: 1.0000 - val_loss: 0.0064 - val_accuracy: 0.9992\n",
            "Epoch 83/100\n",
            "106/106 [==============================] - 0s 4ms/step - loss: 2.3369e-08 - accuracy: 1.0000 - val_loss: 0.0065 - val_accuracy: 0.9992\n",
            "Epoch 84/100\n",
            "106/106 [==============================] - 0s 4ms/step - loss: 2.2016e-08 - accuracy: 1.0000 - val_loss: 0.0065 - val_accuracy: 0.9992\n",
            "Epoch 85/100\n",
            "106/106 [==============================] - 0s 4ms/step - loss: 2.1259e-08 - accuracy: 1.0000 - val_loss: 0.0065 - val_accuracy: 0.9992\n",
            "Epoch 86/100\n",
            "106/106 [==============================] - 0s 4ms/step - loss: 1.9605e-08 - accuracy: 1.0000 - val_loss: 0.0065 - val_accuracy: 0.9992\n",
            "Epoch 87/100\n",
            "106/106 [==============================] - 0s 4ms/step - loss: 1.8721e-08 - accuracy: 1.0000 - val_loss: 0.0065 - val_accuracy: 0.9992\n",
            "Epoch 88/100\n",
            "106/106 [==============================] - 0s 4ms/step - loss: 1.7690e-08 - accuracy: 1.0000 - val_loss: 0.0066 - val_accuracy: 0.9992\n",
            "Epoch 89/100\n",
            "106/106 [==============================] - 0s 3ms/step - loss: 1.6821e-08 - accuracy: 1.0000 - val_loss: 0.0066 - val_accuracy: 0.9992\n",
            "Epoch 90/100\n",
            "106/106 [==============================] - 0s 4ms/step - loss: 1.5978e-08 - accuracy: 1.0000 - val_loss: 0.0066 - val_accuracy: 0.9992\n",
            "Epoch 91/100\n",
            "106/106 [==============================] - 0s 4ms/step - loss: 1.5187e-08 - accuracy: 1.0000 - val_loss: 0.0066 - val_accuracy: 0.9992\n",
            "Epoch 92/100\n",
            "106/106 [==============================] - 0s 4ms/step - loss: 1.4421e-08 - accuracy: 1.0000 - val_loss: 0.0066 - val_accuracy: 0.9992\n",
            "Epoch 93/100\n",
            "106/106 [==============================] - 0s 4ms/step - loss: 1.3608e-08 - accuracy: 1.0000 - val_loss: 0.0067 - val_accuracy: 0.9992\n",
            "Epoch 94/100\n",
            "106/106 [==============================] - 0s 4ms/step - loss: 1.2906e-08 - accuracy: 1.0000 - val_loss: 0.0066 - val_accuracy: 0.9992\n",
            "Epoch 95/100\n",
            "106/106 [==============================] - 0s 4ms/step - loss: 1.2361e-08 - accuracy: 1.0000 - val_loss: 0.0067 - val_accuracy: 0.9992\n",
            "Epoch 96/100\n",
            "106/106 [==============================] - 0s 4ms/step - loss: 1.1676e-08 - accuracy: 1.0000 - val_loss: 0.0067 - val_accuracy: 0.9992\n",
            "Epoch 97/100\n",
            "106/106 [==============================] - 0s 4ms/step - loss: 1.0988e-08 - accuracy: 1.0000 - val_loss: 0.0067 - val_accuracy: 0.9992\n",
            "Epoch 98/100\n",
            "106/106 [==============================] - 0s 4ms/step - loss: 1.0458e-08 - accuracy: 1.0000 - val_loss: 0.0068 - val_accuracy: 0.9992\n",
            "Epoch 99/100\n",
            "106/106 [==============================] - 0s 3ms/step - loss: 9.9866e-09 - accuracy: 1.0000 - val_loss: 0.0068 - val_accuracy: 0.9992\n",
            "Epoch 100/100\n",
            "106/106 [==============================] - 0s 4ms/step - loss: 9.5173e-09 - accuracy: 1.0000 - val_loss: 0.0068 - val_accuracy: 0.9992\n"
          ],
          "name": "stdout"
        }
      ]
    },
    {
      "cell_type": "markdown",
      "metadata": {
        "id": "HwOOv1U0r1nR",
        "colab_type": "text"
      },
      "source": [
        "このコードのポイント：\n",
        "- リスト3-2と全く同じです"
      ]
    },
    {
      "cell_type": "markdown",
      "metadata": {
        "id": "N3b2xrSGr7kB",
        "colab_type": "text"
      },
      "source": [
        "## ■（9）評価／精度検証"
      ]
    },
    {
      "cell_type": "markdown",
      "metadata": {
        "id": "Uxt4ZcMTsAwU",
        "colab_type": "text"
      },
      "source": [
        "### リスト9-1　損失値／評価関数値の推移グラフ描画"
      ]
    },
    {
      "cell_type": "code",
      "metadata": {
        "id": "VR-QEbvLsC1D",
        "colab_type": "code",
        "colab": {
          "base_uri": "https://localhost:8080/",
          "height": 541
        },
        "outputId": "660674f4-2674-4f47-82e5-b9870dba62f9"
      },
      "source": [
        "import matplotlib.pyplot as plt\n",
        "\n",
        "# 学習結果（損失＝交差エントロピー）のグラフを描画\n",
        "plt.figure()\n",
        "train_loss = hist.history['loss']\n",
        "valid_loss = hist.history['val_loss']\n",
        "epochs = len(train_loss)\n",
        "plt.plot(range(epochs), train_loss, marker='.', label='loss (training data)')\n",
        "plt.plot(range(epochs), valid_loss, marker='.', label='loss (validation data)')\n",
        "plt.legend(loc='best')\n",
        "plt.grid()\n",
        "plt.xlabel('epoch')\n",
        "plt.ylabel('loss (cross entropy)')\n",
        "\n",
        "# 評価関数（正解率）のグラフを描画\n",
        "plt.figure()\n",
        "train_mae = hist.history['accuracy']\n",
        "valid_mae = hist.history['val_accuracy']\n",
        "epochs = len(train_mae)\n",
        "plt.plot(range(epochs), train_mae, marker='.', label='accuracy (training data)')\n",
        "plt.plot(range(epochs), valid_mae, marker='.', label='accuracy (validation data)')\n",
        "plt.legend(loc='best')\n",
        "plt.grid()\n",
        "plt.xlabel('epoch')\n",
        "plt.ylabel('accuracy')\n",
        "\n",
        "plt.show()"
      ],
      "execution_count": 281,
      "outputs": [
        {
          "output_type": "display_data",
          "data": {
            "image/png": "[encoded data removed]",
            "text/plain": [
              "<Figure size 432x288 with 1 Axes>"
            ]
          },
          "metadata": {
            "tags": [],
            "needs_background": "light"
          }
        },
        {
          "output_type": "display_data",
          "data": {
            "image/png": "[encoded data removed]",
            "text/plain": [
              "<Figure size 432x288 with 1 Axes>"
            ]
          },
          "metadata": {
            "tags": [],
            "needs_background": "light"
          }
        }
      ]
    },
    {
      "cell_type": "markdown",
      "metadata": {
        "id": "O44PS_0GsF3p",
        "colab_type": "text"
      },
      "source": [
        "このコードのポイント：\n",
        "- リスト4-1と全く同じです\n",
        "- かなり早い段階で過学習となっている"
      ]
    },
    {
      "cell_type": "markdown",
      "metadata": {
        "id": "SaMt7FjFsY1f",
        "colab_type": "text"
      },
      "source": [
        "## ■（10）推論／未知データによるテスト"
      ]
    },
    {
      "cell_type": "markdown",
      "metadata": {
        "id": "JAa2tVcIsb3I",
        "colab_type": "text"
      },
      "source": [
        "### リスト10-1　未知データによるテスト（テストデータで評価）"
      ]
    },
    {
      "cell_type": "code",
      "metadata": {
        "id": "z2XuQ6DNseJd",
        "colab_type": "code",
        "colab": {
          "base_uri": "https://localhost:8080/",
          "height": 51
        },
        "outputId": "287873bd-3d4f-4884-fa0e-bf9a0b1b6ef3"
      },
      "source": [
        "#BATCH_SIZE = 96   # バッチサイズ（リスト3-2で定義済み）\n",
        "\n",
        "# 未知のテストデータで学習済みモデルの汎化性能を評価\n",
        "score = model.evaluate(X_test, y_test, batch_size=BATCH_SIZE)\n",
        "print('test socre([loss, accuracy]):', score)\n",
        "\n",
        "# 出力例：\n",
        "# 23/23 [==============================] - 0s 2ms/step - loss: 0.0030 - accuracy: 0.9995\n",
        "# test socre([loss, accuracy]): [0.002963468199595809, 0.9995272159576416]"
      ],
      "execution_count": 282,
      "outputs": [
        {
          "output_type": "stream",
          "text": [
            "23/23 [==============================] - 0s 2ms/step - loss: 0.0030 - accuracy: 0.9995\n",
            "test socre([loss, accuracy]): [0.002963468199595809, 0.9995272159576416]\n"
          ],
          "name": "stdout"
        }
      ]
    },
    {
      "cell_type": "markdown",
      "metadata": {
        "id": "cezhc9cksnY6",
        "colab_type": "text"
      },
      "source": [
        "このコードのポイント：\n",
        "- リスト5-1と全く同じです"
      ]
    },
    {
      "cell_type": "markdown",
      "metadata": {
        "id": "xFUoUH6tsvnd",
        "colab_type": "text"
      },
      "source": [
        "### リスト10-2　推論： 手書き文字データを自作"
      ]
    },
    {
      "cell_type": "code",
      "metadata": {
        "id": "iQK-fu92tmpA",
        "colab_type": "code",
        "colab": {
          "base_uri": "https://localhost:8080/",
          "height": 407
        },
        "cellView": "form",
        "outputId": "fdd67bc1-80fd-43ac-cb9f-0a79b110e773"
      },
      "source": [
        "#@title 「0」か「1」を手書きしてください。\n",
        "# This code will be hidden when the notebook is loaded.\n",
        "\n",
        "from IPython.core.display import HTML\n",
        "from IPython.display import Image\n",
        "from PIL import Image\n",
        "from io import BytesIO\n",
        "import base64\n",
        "import numpy as np\n",
        "import matplotlib.pyplot as plt\n",
        "import google.colab.output\n",
        "\n",
        "temp_data = np.zeros((1, 28, 28))\n",
        "\n",
        "def Base64image(encoded):\n",
        "  print(encoded)\n",
        "  binary = base64.b64decode(encoded.split(',')[1])\n",
        "  im224 = Image.open(BytesIO(binary))\n",
        "  im28 = im224.resize(\n",
        "      (28, 28),\n",
        "      Image.BICUBIC).convert('L') # L＝ 8ビット白黒\n",
        "  global temp_data\n",
        "  temp_data = np.array(im28).reshape((1, 28, 28)) # 多次元配列の形状\n",
        "  for i in range(28):\n",
        "    for j in range(28):\n",
        "      temp_data[0, i, j] = 255 - temp_data[0, i, j] #「白＝0」～「黒＝1」に変換\n",
        "  \n",
        "google.colab.output.register_callback('Base64image', Base64image)\n",
        "\n",
        "HTML('''\n",
        "<canvas id=\"myCanvas\" width=\"224\" height=\"224\" style=\"border:1px solid #d3d3d3;\">\n",
        "お使いのブラウザーではHTML canvasをサポートしていないようです。\n",
        "</canvas>\n",
        "<p>\n",
        "  <button id=\"clear\">削除</button>\n",
        "  <button id=\"submit\">このデータを保存</button>\n",
        "  <span id=\"infobar\"></span>\n",
        "</p>\n",
        "<script>\n",
        "\n",
        "// Colabノートブックのカーネルオブジェクト\n",
        "//var kernel = IPython.notebook.kernel;\n",
        "\n",
        "// Canvas描画領域\n",
        "var canvas = document.getElementById(\"myCanvas\");\n",
        "var ctx = canvas.getContext(\"2d\");\n",
        "ctx.strokeStyle = \"#000\";\n",
        "ctx.lineJoin = \"round\";\n",
        "ctx.lineWidth = 15;\n",
        "ctx.fillStyle = \"#FFF\";\n",
        "ctx.fillRect(0, 0, canvas.width, canvas.height);\n",
        "\n",
        "// メッセージ表示領域\n",
        "var infobar = document.getElementById(\"infobar\");\n",
        "\n",
        "// ［削除］ボタン\n",
        "var clearbtn = document.getElementById(\"clear\");\n",
        "clearbtn.addEventListener(\"click\", function(){\n",
        "  ctx.clearRect(0, 0, canvas.width, canvas.height);\n",
        "  ctx.fillStyle = \"#FFF\";\n",
        "  ctx.fillRect(0, 0, canvas.width, canvas.height);\n",
        "  infobar.textContent = \"\";\n",
        "});\n",
        "\n",
        "// ［このデータを保存］ボタン\n",
        "var submitbtn = document.getElementById(\"submit\");\n",
        "submitbtn.addEventListener(\"click\", function(){\n",
        "  var base64image = canvas.toDataURL('image/jpeg', 1.0);\n",
        "  google.colab.kernel.invokeFunction('Base64image', [base64image])\n",
        "  infobar.textContent = \"保存しました！\";\n",
        "});\n",
        "\n",
        "// マウスカーソルを管理\n",
        "var mouse = {x: 0, y: 0};\n",
        "\n",
        "// マウスカーソルを描画する\n",
        "var onPaint = function() {\n",
        "  ctx.lineTo(mouse.x, mouse.y);\n",
        "  ctx.stroke();\n",
        "};\n",
        "\n",
        "// マウスの移動を捕捉する\n",
        "canvas.addEventListener('mousemove', function(e) {\n",
        "  var rect = e.target.getBoundingClientRect();\n",
        "  mouse.x = e.clientX - rect.left - 1;\n",
        "  mouse.y = e.clientY - rect.top - 1;\n",
        "}, false);\n",
        "\n",
        "\n",
        "// マウスボタンが押し下げられたら描画を開始させる\n",
        "canvas.addEventListener('mousedown', function(e) {\n",
        "  ctx.moveTo(mouse.x, mouse.y);\n",
        "  ctx.beginPath();\n",
        "  canvas.addEventListener('mousemove', onPaint, false);\n",
        "}, false);\n",
        "\n",
        "// マウスボタンが離されたら描画を終了させる\n",
        "canvas.addEventListener('mouseup', function() {\n",
        "  canvas.removeEventListener('mousemove', onPaint, false);\n",
        "}, false);\n",
        "\n",
        "</script>\n",
        "''')"
      ],
      "execution_count": 398,
      "outputs": [
        {
          "output_type": "execute_result",
          "data": {
            "text/html": [
              "\n",
              "<canvas id=\"myCanvas\" width=\"224\" height=\"224\" style=\"border:1px solid #d3d3d3;\">\n",
              "お使いのブラウザーではHTML canvasをサポートしていないようです。\n",
              "</canvas>\n",
              "<p>\n",
              "  <button id=\"clear\">削除</button>\n",
              "  <button id=\"submit\">このデータを保存</button>\n",
              "  <span id=\"infobar\"></span>\n",
              "</p>\n",
              "<script>\n",
              "\n",
              "// Colabノートブックのカーネルオブジェクト\n",
              "//var kernel = IPython.notebook.kernel;\n",
              "\n",
              "// Canvas描画領域\n",
              "var canvas = document.getElementById(\"myCanvas\");\n",
              "var ctx = canvas.getContext(\"2d\");\n",
              "ctx.strokeStyle = \"#000\";\n",
              "ctx.lineJoin = \"round\";\n",
              "ctx.lineWidth = 15;\n",
              "ctx.fillStyle = \"#FFF\";\n",
              "ctx.fillRect(0, 0, canvas.width, canvas.height);\n",
              "\n",
              "// メッセージ表示領域\n",
              "var infobar = document.getElementById(\"infobar\");\n",
              "\n",
              "// ［削除］ボタン\n",
              "var clearbtn = document.getElementById(\"clear\");\n",
              "clearbtn.addEventListener(\"click\", function(){\n",
              "  ctx.clearRect(0, 0, canvas.width, canvas.height);\n",
              "  ctx.fillStyle = \"#FFF\";\n",
              "  ctx.fillRect(0, 0, canvas.width, canvas.height);\n",
              "  infobar.textContent = \"\";\n",
              "});\n",
              "\n",
              "// ［このデータを保存］ボタン\n",
              "var submitbtn = document.getElementById(\"submit\");\n",
              "submitbtn.addEventListener(\"click\", function(){\n",
              "  var base64image = canvas.toDataURL('image/jpeg', 1.0);\n",
              "  google.colab.kernel.invokeFunction('Base64image', [base64image])\n",
              "  infobar.textContent = \"保存しました！\";\n",
              "});\n",
              "\n",
              "// マウスカーソルを管理\n",
              "var mouse = {x: 0, y: 0};\n",
              "\n",
              "// マウスカーソルを描画する\n",
              "var onPaint = function() {\n",
              "  ctx.lineTo(mouse.x, mouse.y);\n",
              "  ctx.stroke();\n",
              "};\n",
              "\n",
              "// マウスの移動を捕捉する\n",
              "canvas.addEventListener('mousemove', function(e) {\n",
              "  var rect = e.target.getBoundingClientRect();\n",
              "  mouse.x = e.clientX - rect.left - 1;\n",
              "  mouse.y = e.clientY - rect.top - 1;\n",
              "}, false);\n",
              "\n",
              "\n",
              "// マウスボタンが押し下げられたら描画を開始させる\n",
              "canvas.addEventListener('mousedown', function(e) {\n",
              "  ctx.moveTo(mouse.x, mouse.y);\n",
              "  ctx.beginPath();\n",
              "  canvas.addEventListener('mousemove', onPaint, false);\n",
              "}, false);\n",
              "\n",
              "// マウスボタンが離されたら描画を終了させる\n",
              "canvas.addEventListener('mouseup', function() {\n",
              "  canvas.removeEventListener('mousemove', onPaint, false);\n",
              "}, false);\n",
              "\n",
              "</script>\n"
            ],
            "text/plain": [
              "<IPython.core.display.HTML object>"
            ]
          },
          "metadata": {
            "tags": []
          },
          "execution_count": 398
        },
        {
          "output_type": "stream",
          "text": [
            "data:image/jpeg;base64,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\n",
            "data:image/jpeg;base64,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\n",
            "data:image/jpeg;base64,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\n",
            "data:image/jpeg;base64,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\n",
            "data:image/jpeg;base64,/9j/4AAQSkZJRgABAQAAAQABAAD/2wBDAAEBAQEBAQEBAQEBAQEBAQEBAQEBAQEBAQEBAQEBAQEBAQEBAQEBAQEBAQEBAQEBAQEBAQEBAQEBAQEBAQEBAQH/2wBDAQEBAQEBAQEBAQEBAQEBAQEBAQEBAQEBAQEBAQEBAQEBAQEBAQEBAQEBAQEBAQEBAQEBAQEBAQEBAQEBAQEBAQH/wAARCADgAOADAREAAhEBAxEB/8QAGwABAQADAQEBAAAAAAAAAAAAAAsICQoHBgX/xAA5EAABBAICAQQAAggBDQAAAAAGAAQFBwMIAQIJChQVFhMYERIXGSE5eLgmGiUoSVFZaYiYqMjX6P/EABQBAQAAAAAAAAAAAAAAAAAAAAD/xAAUEQEAAAAAAAAAAAAAAAAAAAAA/9oADAMBAAIRAxEAPwDv4QEBAQEBAQEBAQEBAQEBAQEBAQEBAQEBAQEBAQEBAQEBAQEBAQEBAQEBAQEBAQEBAQEBAQEBAQEBAQEBAQEBAQEBAQEBAQEBAQEBAQEBAQEBAQEBAQEBAQEBAQEBAQEBAQEBAQEBAQEBAQEBAQEBAQEBAQEBAQEBAQEBAQEBAQEBAQEBAQEBAQEBAQEBAQEBAQEBAQEBAQEHEHtj6yn8r+0+y2tH7uP7x+XfYC5KL+6/m++s/cP2SWKRgH2n65+V4g+v/YPr/wAt8J89N/Fe79h8vJe395mDH/8Ay5z/AIXX/ez/API6Dt71MvPttBqvrRsv2F+AjtsPr9TV59gvrNcknUQ7W3XI2fci/Ui5ioHme4gOSDmK4muYOG5lOGnvuYqO/H9nhDIFAQEBAQEBAQEBAQEBAQEBAQEBAQEBAQEBBBt2Nuwi2W2FvjY0vi4WELL/ALmtC7CiFG8b7EOxBFapvOHc3FwGKTfScljhY+SnnLSKxyMlIPujHFg6u3ztxxkz5A8ZQXf9VqNwaxawa4a1tSTKZNteaFqCjW5fniukFnKsFTV6OgOEkzQmOQlscPlnMcB1lMkV0lJLpH93XZp1kHnXDw4yB7ygICAgICAgICAgICAgICAgICAgICAgICAggDoCC/wgICAgICAgICAgICAgICAgICAgICAgICAgIIOOydJTmtGxd+64E8vEz5Lr/dVp0kQz0Bw84gpucqk5nQSWl4XiQbtH/ETJP4Fw8juHzRq84Z5sPDlvhzfr4+oeKoLsmmN2zmzGnuqGx5PERI+SbAa1UVdpDAwPLztBwk5a1Xix3LREN2kHDp/2iY1/POGUdy+dOXnLPDh5cuM2b9fJ2DJRAQEBAQEBAQEBAQEBAQEBAQEBAQEBAQEBBEG8sX803yWf1/7kf3FWMgwAQW+fE7/Ky8af9AGm/wDbrXKDP9AQEBAQEBAQEBAQEBAQEBAQEBAQEBAQEBBEG8sX803yWf1/7kf3FWMgwAQW+fE7/Ky8af8AQBpv/brXKDP9AQEBAQEBAQEBAQEBAQEBAQEBAQEBAQEBBCO27vFts7ths/sozHM4cz2F2Huq8Wgi5k8c05Fm1s2SSnuAccTOJjGYpbPCYp/pGZZPHGx+N/ka9nXRi065eMGMMeEF2LS6kp7WjTvU7XEqloieKNf9aaJpIknB7l7zATU9VVXCwJMS0HzItWMhzESMhAuHkby/ZM3vss2H3TVvn/ExdAyWQEBAQEBAQEBAQEBAQEBAQEBAQEBAQEBB4DtfefGr+rWyuy3YX5N+uvFA3HefIXxNcDfJfxUtdkZ9yL8EXMTPcQHM/wAD/wATxNcwU1xFe7998TI/gezzBCFQev690uT7I37R+u4S8h44zvq360pcRkCHO5awDEntI0hQeAeTjpk0fvG0O1lZ1pnk87Ri9c4WXTPkwNHGXr0w9wvMoCAgICAgICAgICAgICAgICAgICAgICAgINMXqHLrKKB8LnkAOhCPgJOWnqejKUdtiVrIu47GL7KWKE65nEg2xRcpDuek/EhVqEEqKOsrvNHMillDvJeLnIlu9hZAI0iDbz4DqPcbB+Y/x6gTaewjmSA2FH7w7SGdn3fdHDfWSKmdkncD1wY8uHt0zFTWp8ww2ec9+ekc4mMUhlxZ8bbvgyBZ/QEBAQEBAQEBAQEBAQEBAQEBAQEBAQEBAQccfrTr+jgXx56/a+x1hT40bX9s/GkjwFhsxSxjrKpukwIsfnLYrdxeDqLSY+J2sea+kLcUKpDjO/KcY0VD0NIOQh7KD4TI0HW96NKgY6zPKKfXMR17PkMRrXrAfEgfYDfCUtxaurkssmDKtHm0xLQ+dqOZyA0pwhv+OGhQv7v8ExHRpYTQkNmlgfFNQAVGkBAQEBAQEBAQEBAQEBAQEBAQEBAQEBAQEE+P1yhYLPCnxpgzQlH3RsOj+2hYQB7aZjs5TBCxnI65w4eSzI/ic9paLHyyWAjmLGpl60wR07IhhYyi3LpyOzGJmHBGg7/PQx/60T/km/8ALhB3+ICAgICAgICAgICAgICAgICAgICAgICAgIJQvq8r0/a35kjQA+r/AF/8r+v9E0ZzK/N/K/eOSCDlNl/tHsPiI3617TjYfgK+E95P+4+ofY/l8Pz/AMDCBzAoKnno7NaP2P8AinkLzlYoA7EG29/2QfwxQPMP0nWerauysqLGgqxJtzAxj3N9YsyvrpKREcay5IOwsPY2ebYPI+fLiyIZB1eICAgICAgICAgICAgICAgICAgICAgICAgIIo/mutI6uHy4eRotsWb4ICCI2+u+rY9/xGRET7cFo01k6Tq6E9rCMI1ll5Gazr4RG+ZPO3yS81zE8zJA/lZ9/JSjwNX6Crr4wdvNT/DZ4J/H5h3o2Mq8CmC2kpi9wwPG5CYLrENRXZGyTrYMEjhKto+Fxns5JxQzaI6NG8s0HOwKKmOGTbvjLsOYGpK8DpVr49DrVAgi0K6IY4ur6yBAaPQUriMnbNEk4cYQzIhGCGLzd+mPvljpqEkWMkyyd8ePt3bOcXbt068889eA+uQEBAQEBAQEBAQEBAQEBAQEBAQEBAQEGIO/W4oH4/8ATfYPcOx2nMsPUcAPCJgNcOJdjybnUs+YCdXV1xMQYyYvBvmx7MIBEE4Lc41Kw4jyRcE5FhxD8TJucAQ5i4tKj8rJzs6JZ8zNzUhmi0xMSuYkCEoLCokknMyQkpJPy7h5Kzk/Oy715KTExJu3UhJyLpy9euM7nPly9g+eQEFVX0eNwl9n+IXIIE73o8i9ftpblp4E68N2+LMyEJKAre8crJy4w4sed93xmF0FuXA4fZHLjAxzNI3Dl6R7Bi1bh1RoCAgICAgICAgICAgICAgICAgICAgICDiE9bPsxVsbqvqlp1xL8vrsM7/b7K8wUa/HXP1eq61ru0Kv5lTOM+exlkJwel9rdWlavuRh0OlPNbWvg+dYyYb8fIhOCQEBBQe9D7f8i7E9+dWpuwB7pEwBFTF/1jVbjMLsytxIl0aZV1etgQ7frhwGhEPM2wTrqOEmbK4kxcMknwr0wYYOWPHHchDvaQEBAQEBAQEBAQEBAQEBAQEBAQEBAQEEgb1QVs82v5tNweI+yuLJEq04puphD2RjwYDoDwH0hXnaxa1HecEjIxovyLXbJ2l90Do32PMHaT494nI5qWOSHjuGgBBvgKvFZGg/p76/8o+Ucnza17q3fixtlPCz4qmRak9RxCIven5NwfwLQdi4MVn7C2iGYeLlCwgli2E+O7UQOB8yIlJocDZKGh9Bvk9Od5Kad8X/AJE2lu3/AA004p+5qln9bDY1gsv47qn2JzYNYGjG1pAcxsXT0wGh2YraOjjCDhnDMiZCc5NlY01LZ8aja/LwsKICAgICAgICAgICAgICAgICAgICAgIMAPKbur+7u8fe0O4raA+0EFP1/g+hwWeK+ahn1p2ATQFXVL9ujMZUEvXNftrNNhN5YvwxPGEeEEbkTgZ96QYo2PdhEmLCwqPSomOjomIDQ2NCCZLDExLJmRIyosKiORczBCTExDMOXkvPEE7LvHkpMzMo8dSMpIunL585zuc+XL2D8Djjntzx168c89ueeOOOOOOeeeeeef0cccccfx5555/hxxx/HnlBZ5w+KMEOfCqI+JmzmoAJ/wCh/XNPFhNV0RMfRITY4RgB0rcX1BQ0M5qWaOPb7MwnW9JNoQZxJ1bUx8h1sfD/AItJW2cI5dwVLYdCWvZVH22OZg+0ahOiqtbDFs76Kle8AZhU29HiOK6y0C+lIGYwspaPdYW0xBSknCSzfrikYiSfxzls7zB5ygqA+kO8mnfaDTkg0ctUrxyF36WYo7DXXzMvhyEBtquROO+AN7Muk0cTRUS5aLKeH1YTueEDxcBrmspvWwSa5H03LvMvcOvdAQEBAQEBAQEBAQEBAQEBAQEBAQEEsb1Q3ms/P7e2fS7XwmASnSjWewI8jj7EDO3BH+32+I0PkhydPWRdIQzHlqAVpwYnVZATMFcSAef9uxLbHYzsMaKKtxAIcoCDqe9JDodJbS+S1pskQwsBKU3omP8AFmkWMlHhYtjpe5bDiSsOoEfbQ83PM5aCIIKWZmN6idjw4yVYA0pouGZZewySE4eQtAqtIOMj1aXiAr+7tbSnyX0ZXPdns5Q3Qac7COA6PlXDm5tdmWLEMSJUUC46MzXadOqIwZRwgy2TJSAs2Hddx2wW59OEMFXtXxwaEz5BsF8X3kOtHxebl1jttWMb9rwjHEqL2ZWLsinBqCtupi1t1YGAJOP4Nx0/UzdeccaYBL6YjiUfGbQEgQ1lREqwjPEC/C1pU9ogl41ZWl1VdO/aKyuAADbRrom4jJiF4IgSwB2NLBGd+HIY+Jn4n5cflo+Q+MnIqMmGHuPayceye4s7bGH36AgICAgICAgICAgICAgICAgICDRD6jzyBFXjw8XNrHVa55+JuS/SCL1WqAxgMkixz1yVWoNGEwSWJ1IIEzCSkRIBCqQmxpWsS0YdzMjAXJirh8/HZEb6TuVoEeVB6DUtWHl52pWlJ1ZBclNm3Afh1XV0M8SUPC/YTo/Io4UEoTmZIZCJgIjiVnpZgx5lJyVjIaP4z8u5SQZMcOdziC0x4mfH6K+MvQ2itUofCPuzYcH+Cy9jEfxR2fBYV+mnTDMWeTdSBqGAUsWD8XLdsQFWMyYjuA0ZU2F1wLELl25HOuXkNj6D58sExU9FSYFOhkfNAk0H5kTMQ4sho4jFSwVI45zDkIyTD0w2eRE8PzsQ8eRczDSjN1HSkc6csXzbO2z5cXYItPmE8a5v4rN47I1mIMveUr2S6ZrT1yLXRJCks0aa6lZSVQ9dTRdnh4kb4jz2Kyi04F2CwciQq3yGwpPywrFuwKUEiCaDV6gpw+jU3PF7O0IO9Mii2R+SuHWu3z0mr+n87FnClEDrJY3AmVtiaLy4oqO5OoTi/wAqt/oQy3SSJZ0IeEonCFOUfHyWrmUkHYugICAgICAgICAgICAgICAgICAg4I/XJlpUzFfGoCsyUgahJGQbZlpCHNpmRwC06VBcdrpDhxLMj2Jz1iJQgE4g+OosamXzPPIwUcaFjGLctWxHMYngT40Ha76J/WAVsLbfbXa8h7j8lL6z0+CVuCj0yFx03IxZTspOFuV5ZwmYvX3LkHIBoJpMwrlz1h4bNIk4tchLG5SCGiW8pDlQUm0BAQcFPrTdbqCKYjX7Z+DuKm4LbCq4BhXth0RNWmFxF0WRrEbFZNmriyhKtCSzYsnmx+qrhxHkBmxVzVhLMkza0iwkJCCPFKRkPYBPdQbZPCDvkw8cnkv1v2ML5qciacyT8hVl/wCOKICSFjc1N2rG5xAhISuMFoEplTkfqaafDl6Ya+wjkq4LCWrB1hFcxM/8RPxIWlEBAQEBAQEBAQEBAQEBAQEBAQEHCH64urTuXqvx23XHwfuKyr+wNjqtLiX5OHxfEndwDlQFldQfw2eQxED/AOwj9HWi/wDk4yKew8T9Y9rOyEY9mh1tLhPDQEGQNGbZbUav8FHXWnZfYHXjqb8wvJpxRly2NUvBfyN8S3A7yUcAJIP8T/MBxPTvELzLe7+K4mpb2P4HyLz8YPfv3sXlN/3lm/8A/wBZGxX/ALGQexXV5z/LXsNQsfrRbW8twEFPtIJoLScPE9RAHKjgYbhsqAPRu17SAhgYta5IAmF5qSancNa5qZRthyObGRHTYiI2jOWbhqeQEGQGqmtFp7kbH0vq5SsT8vZt42BAAA1+MwIn8PBfLuuPmTUu+pwJQQRlf1+P4pU5sUjYD0v9UBB0iJnbLKyiHP6Au8ICAgICAgICAgICAgICAgICAgIMYNz9Q6a301gt/Ui/2M+9qm5x9lDEOQTnc40UwsjBT8OYhxYNTGLE6bYCALNhwcLoZvNxk6LSUlCNowvGicWeTA/JBMk8i/pR/I5pd8ia0DF/n3pJr7T/AD9RglKMb2hfx/pET/inWj5IpLZL5EtKpllCfsVI7u9oHB0uf2PxWsZ39g2DmBQEBAQewUprzf2ypVIAuudHXBfxtEwDorlQ+lK0NLUKYwWYyMVDvSWQHwaFnZZkPs5adhIt1MuWmKObyMxFMszno5kGmLMHQ9RfpDfMlbf2j7+F6/6v/X/hPieLzvaDIOTj5X5f3/Iv+WiL2H4afWvjWfzf3XkQ9x8/EfXPn/wZ74QOz/wy+m91v8TByU3sR2N22w2bf9XsFXduEdaNK3hqXBpSJ6xs/H1wBcmtkcxp6YdHUtFF9nuitzM5gdxiAxOODoOZszmyg6O0BAQEBAQEBAQEBAQEBAQEBAQEBAQEGMN16R6YbKFEecbGai6w38axMA1FIovuug6ptQojBZlIykuyGo8gOhOelmUA0lpyalGsO2d445vIzEo9xNujmQd5cwYwWh4VPEhbwLO12V+OTT6JgCLiN4kJCr6NBqQOm/EVLsJtr8FaNLRQBZgvzleRrfDJdhkuiO0xEZH4/L8voGVlI14GIHX0ufgp69uvbjRnrzz1547ccdtl9we/Xnnjn9PH63TvsD26duP9vXt15688fw5454/gg3eVbU9WUcCQVW0pWlf0/WQv8n9ZrqrQ0dr8EHfmpiQIpn4IRE42IH4j5YglpWdk/j49v7+Yk5CTdfivXrnPlD0BAQEBAQEBAQEBAQEBB//Z\n",
            "data:image/jpeg;base64,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\n"
          ],
          "name": "stdout"
        }
      ]
    },
    {
      "cell_type": "code",
      "metadata": {
        "id": "NpKDiOh6sw82",
        "colab_type": "code",
        "colab": {
          "base_uri": "https://localhost:8080/",
          "height": 282
        },
        "outputId": "fc917bef-c158-4d55-c763-fa891a92d586"
      },
      "source": [
        "import matplotlib.pyplot as plt  # グラフ描画ライブラリ（データ画像の表示に使用）\n",
        "#import pandas as pd # データ解析支援「pandas」\n",
        "\n",
        "print(temp_data.shape) # 多次元配列の形状： (1, 28, 28)\n",
        "\n",
        "# 図を描画\n",
        "plt.imshow(           # 画像を表示する\n",
        "  temp_data[0],        # 1つの訓練用入力データ（28行×28列）\n",
        "  cmap=plt.cm.binary) # 白黒（2値：バイナリ）の配色\n",
        "plt.show()\n",
        "#display(pd.DataFrame(temp_data[0])) # 表形式で表示する場合"
      ],
      "execution_count": 409,
      "outputs": [
        {
          "output_type": "stream",
          "text": [
            "(1, 28, 28)\n"
          ],
          "name": "stdout"
        },
        {
          "output_type": "display_data",
          "data": {
            "image/png": "[encoded data removed]",
            "text/plain": [
              "<Figure size 432x288 with 1 Axes>"
            ]
          },
          "metadata": {
            "tags": [],
            "needs_background": "light"
          }
        }
      ]
    },
    {
      "cell_type": "markdown",
      "metadata": {
        "id": "HLLokCmos23i",
        "colab_type": "text"
      },
      "source": [
        "### リスト10-3　推論： 仮データを入力した場合の予測結果値の取得"
      ]
    },
    {
      "cell_type": "code",
      "metadata": {
        "id": "KnGUZEdms5QO",
        "colab_type": "code",
        "colab": {
          "base_uri": "https://localhost:8080/",
          "height": 34
        },
        "outputId": "981acef1-4162-46a3-e6fe-a113b6a70849"
      },
      "source": [
        "import matplotlib.pyplot as plt  # グラフ描画ライブラリ（データ画像の表示に使用）\n",
        "\n",
        "# 推論（予測）する\n",
        "predictions = model.predict(temp_data)\n",
        "\n",
        "predictions\n",
        "# 以下のように出力される（「1.」は100％「1」、「0.」なら100％「0」）\n",
        "# array([[1.]], dtype=float32)"
      ],
      "execution_count": 410,
      "outputs": [
        {
          "output_type": "execute_result",
          "data": {
            "text/plain": [
              "array([[0.]], dtype=float32)"
            ]
          },
          "metadata": {
            "tags": []
          },
          "execution_count": 410
        }
      ]
    },
    {
      "cell_type": "markdown",
      "metadata": {
        "id": "aJSe9Kgh_vGt",
        "colab_type": "text"
      },
      "source": [
        "# お疲れさまでした。第8回は修了です。"
      ]
    }
  ]
}